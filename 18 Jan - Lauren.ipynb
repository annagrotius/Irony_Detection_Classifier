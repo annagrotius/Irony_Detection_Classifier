{
 "cells": [
  {
   "cell_type": "code",
   "execution_count": 1,
   "metadata": {},
   "outputs": [],
   "source": [
    "import pandas as pd\n",
    "import numpy as np\n",
    "import seaborn as sns\n",
    "import matplotlib.pyplot as plt\n",
    "import base64\n",
    "import string\n",
    "import re\n",
    "from collections import Counter\n",
    "from nltk.corpus import stopwords\n",
    "stopwords = stopwords.words('english')"
   ]
  },
  {
   "cell_type": "code",
   "execution_count": 2,
   "metadata": {},
   "outputs": [
    {
     "data": {
      "text/html": [
       "<div>\n",
       "<style scoped>\n",
       "    .dataframe tbody tr th:only-of-type {\n",
       "        vertical-align: middle;\n",
       "    }\n",
       "\n",
       "    .dataframe tbody tr th {\n",
       "        vertical-align: top;\n",
       "    }\n",
       "\n",
       "    .dataframe thead th {\n",
       "        text-align: right;\n",
       "    }\n",
       "</style>\n",
       "<table border=\"1\" class=\"dataframe\">\n",
       "  <thead>\n",
       "    <tr style=\"text-align: right;\">\n",
       "      <th></th>\n",
       "      <th>Comment_Text</th>\n",
       "      <th>Label</th>\n",
       "    </tr>\n",
       "  </thead>\n",
       "  <tbody>\n",
       "    <tr>\n",
       "      <th>0</th>\n",
       "      <td>I suspect atheists are projecting their desire...</td>\n",
       "      <td>-1</td>\n",
       "    </tr>\n",
       "    <tr>\n",
       "      <th>1</th>\n",
       "      <td>It's funny how the arguments the shills are ma...</td>\n",
       "      <td>-1</td>\n",
       "    </tr>\n",
       "    <tr>\n",
       "      <th>2</th>\n",
       "      <td>We are truly following the patterns of how the...</td>\n",
       "      <td>-1</td>\n",
       "    </tr>\n",
       "    <tr>\n",
       "      <th>3</th>\n",
       "      <td>air pressure dropping as altitude goes higher....</td>\n",
       "      <td>-1</td>\n",
       "    </tr>\n",
       "    <tr>\n",
       "      <th>4</th>\n",
       "      <td>Absolutely.  I think we'd be hard pressed to f...</td>\n",
       "      <td>-1</td>\n",
       "    </tr>\n",
       "    <tr>\n",
       "      <th>5</th>\n",
       "      <td>Democrats don't know how to manage money?   Sh...</td>\n",
       "      <td>1</td>\n",
       "    </tr>\n",
       "    <tr>\n",
       "      <th>6</th>\n",
       "      <td>It's not like automation has eliminated the ne...</td>\n",
       "      <td>1</td>\n",
       "    </tr>\n",
       "    <tr>\n",
       "      <th>7</th>\n",
       "      <td>Would he win?</td>\n",
       "      <td>-1</td>\n",
       "    </tr>\n",
       "    <tr>\n",
       "      <th>8</th>\n",
       "      <td>Yeah I didn't get far.  This article fills me ...</td>\n",
       "      <td>-1</td>\n",
       "    </tr>\n",
       "    <tr>\n",
       "      <th>9</th>\n",
       "      <td>Insane like a fox.  Ted Cruz is actually very ...</td>\n",
       "      <td>1</td>\n",
       "    </tr>\n",
       "    <tr>\n",
       "      <th>10</th>\n",
       "      <td>What kind of heartless person down voted this?...</td>\n",
       "      <td>-1</td>\n",
       "    </tr>\n",
       "    <tr>\n",
       "      <th>11</th>\n",
       "      <td>If Jesus destroyed satan for our freedom, why ...</td>\n",
       "      <td>1</td>\n",
       "    </tr>\n",
       "    <tr>\n",
       "      <th>12</th>\n",
       "      <td>God, I hope so.  And when it does, I will keep...</td>\n",
       "      <td>-1</td>\n",
       "    </tr>\n",
       "    <tr>\n",
       "      <th>13</th>\n",
       "      <td>Because you can't work the part timers crazy h...</td>\n",
       "      <td>-1</td>\n",
       "    </tr>\n",
       "    <tr>\n",
       "      <th>14</th>\n",
       "      <td>They only help the poor to promote their god t...</td>\n",
       "      <td>-1</td>\n",
       "    </tr>\n",
       "    <tr>\n",
       "      <th>15</th>\n",
       "      <td>&amp;gt; The essence of the entitlement state is g...</td>\n",
       "      <td>-1</td>\n",
       "    </tr>\n",
       "    <tr>\n",
       "      <th>16</th>\n",
       "      <td>Because the Reddit Liberal Brigade™ would down...</td>\n",
       "      <td>1</td>\n",
       "    </tr>\n",
       "    <tr>\n",
       "      <th>17</th>\n",
       "      <td>It's amazing how Democrats view money.  It has...</td>\n",
       "      <td>1</td>\n",
       "    </tr>\n",
       "    <tr>\n",
       "      <th>18</th>\n",
       "      <td>The tides of change are on the move.  Legalizi...</td>\n",
       "      <td>-1</td>\n",
       "    </tr>\n",
       "    <tr>\n",
       "      <th>19</th>\n",
       "      <td>To be fair, there are many who are only bigots...</td>\n",
       "      <td>-1</td>\n",
       "    </tr>\n",
       "    <tr>\n",
       "      <th>20</th>\n",
       "      <td>That just makes me cringe.   Not sure if it's ...</td>\n",
       "      <td>1</td>\n",
       "    </tr>\n",
       "    <tr>\n",
       "      <th>21</th>\n",
       "      <td>I used to pirate videogames, then Steam came a...</td>\n",
       "      <td>-1</td>\n",
       "    </tr>\n",
       "    <tr>\n",
       "      <th>22</th>\n",
       "      <td>Young, single guy here...  My policy was PERFE...</td>\n",
       "      <td>-1</td>\n",
       "    </tr>\n",
       "    <tr>\n",
       "      <th>23</th>\n",
       "      <td>&amp;gt;2)    Churches Are Anti-Science. \\n\\n&amp;gt;D...</td>\n",
       "      <td>-1</td>\n",
       "    </tr>\n",
       "    <tr>\n",
       "      <th>24</th>\n",
       "      <td>The only people offended by the Redskins are w...</td>\n",
       "      <td>-1</td>\n",
       "    </tr>\n",
       "    <tr>\n",
       "      <th>25</th>\n",
       "      <td>So the question during their Twitter Q&amp;amp;A a...</td>\n",
       "      <td>1</td>\n",
       "    </tr>\n",
       "    <tr>\n",
       "      <th>26</th>\n",
       "      <td>I haven’t read the article yet, and I have abs...</td>\n",
       "      <td>-1</td>\n",
       "    </tr>\n",
       "    <tr>\n",
       "      <th>27</th>\n",
       "      <td>This really is pathetic. \\n\\nYou send shit to ...</td>\n",
       "      <td>1</td>\n",
       "    </tr>\n",
       "    <tr>\n",
       "      <th>28</th>\n",
       "      <td>I for one am in utter shock that these fine in...</td>\n",
       "      <td>1</td>\n",
       "    </tr>\n",
       "    <tr>\n",
       "      <th>29</th>\n",
       "      <td>I'm sure it will pass..</td>\n",
       "      <td>1</td>\n",
       "    </tr>\n",
       "    <tr>\n",
       "      <th>...</th>\n",
       "      <td>...</td>\n",
       "      <td>...</td>\n",
       "    </tr>\n",
       "    <tr>\n",
       "      <th>1919</th>\n",
       "      <td>Welcome to the new congress, same as the old c...</td>\n",
       "      <td>-1</td>\n",
       "    </tr>\n",
       "    <tr>\n",
       "      <th>1920</th>\n",
       "      <td>It was still an incredibly lucrative investmen...</td>\n",
       "      <td>-1</td>\n",
       "    </tr>\n",
       "    <tr>\n",
       "      <th>1921</th>\n",
       "      <td>So apparently Catholics aren't Christians acco...</td>\n",
       "      <td>-1</td>\n",
       "    </tr>\n",
       "    <tr>\n",
       "      <th>1922</th>\n",
       "      <td>Could you image how poor of a state they would...</td>\n",
       "      <td>-1</td>\n",
       "    </tr>\n",
       "    <tr>\n",
       "      <th>1923</th>\n",
       "      <td>The most amazing part of that episode was when...</td>\n",
       "      <td>-1</td>\n",
       "    </tr>\n",
       "    <tr>\n",
       "      <th>1924</th>\n",
       "      <td>Why only spending cuts?  Include subsidy slash...</td>\n",
       "      <td>-1</td>\n",
       "    </tr>\n",
       "    <tr>\n",
       "      <th>1925</th>\n",
       "      <td>I'm going to use this comment without giving c...</td>\n",
       "      <td>1</td>\n",
       "    </tr>\n",
       "    <tr>\n",
       "      <th>1926</th>\n",
       "      <td>Because it's Texas.  The place where they slip...</td>\n",
       "      <td>-1</td>\n",
       "    </tr>\n",
       "    <tr>\n",
       "      <th>1927</th>\n",
       "      <td>I have a feeling the ACA will be that little t...</td>\n",
       "      <td>-1</td>\n",
       "    </tr>\n",
       "    <tr>\n",
       "      <th>1928</th>\n",
       "      <td>Utah:  Our Jesus can beat up your Jesus. \\n\\nC...</td>\n",
       "      <td>1</td>\n",
       "    </tr>\n",
       "    <tr>\n",
       "      <th>1929</th>\n",
       "      <td>&amp;gt; secrete rulings\\n\\nThat explains a lot.</td>\n",
       "      <td>-1</td>\n",
       "    </tr>\n",
       "    <tr>\n",
       "      <th>1930</th>\n",
       "      <td>I thought this was even more impressive:\\n\\n&amp;g...</td>\n",
       "      <td>-1</td>\n",
       "    </tr>\n",
       "    <tr>\n",
       "      <th>1931</th>\n",
       "      <td>Benefits:\\n\\n- Fewer Drug Enforcement officers...</td>\n",
       "      <td>-1</td>\n",
       "    </tr>\n",
       "    <tr>\n",
       "      <th>1932</th>\n",
       "      <td>Check out the comment section on this video on...</td>\n",
       "      <td>-1</td>\n",
       "    </tr>\n",
       "    <tr>\n",
       "      <th>1933</th>\n",
       "      <td>Single payer healthcare works great where I li...</td>\n",
       "      <td>-1</td>\n",
       "    </tr>\n",
       "    <tr>\n",
       "      <th>1934</th>\n",
       "      <td>I prefer it!  I'm a Texan and a while back I h...</td>\n",
       "      <td>1</td>\n",
       "    </tr>\n",
       "    <tr>\n",
       "      <th>1935</th>\n",
       "      <td>Blacks have gone full stupid with the race car...</td>\n",
       "      <td>-1</td>\n",
       "    </tr>\n",
       "    <tr>\n",
       "      <th>1936</th>\n",
       "      <td>This would make me so happy.  It sounds like t...</td>\n",
       "      <td>-1</td>\n",
       "    </tr>\n",
       "    <tr>\n",
       "      <th>1937</th>\n",
       "      <td>Drive-thru abortions are next. \\n\\n I've drive...</td>\n",
       "      <td>1</td>\n",
       "    </tr>\n",
       "    <tr>\n",
       "      <th>1938</th>\n",
       "      <td>While Dick is an ass hat, it is generally cons...</td>\n",
       "      <td>-1</td>\n",
       "    </tr>\n",
       "    <tr>\n",
       "      <th>1939</th>\n",
       "      <td>Moore is a big supporter of Veterans.   He run...</td>\n",
       "      <td>1</td>\n",
       "    </tr>\n",
       "    <tr>\n",
       "      <th>1940</th>\n",
       "      <td>Something I read earlier today:\\n\\n&amp;gt;...  co...</td>\n",
       "      <td>-1</td>\n",
       "    </tr>\n",
       "    <tr>\n",
       "      <th>1941</th>\n",
       "      <td>This was what folks didn't understand about th...</td>\n",
       "      <td>-1</td>\n",
       "    </tr>\n",
       "    <tr>\n",
       "      <th>1942</th>\n",
       "      <td>At least the New York Post is telling the truth.</td>\n",
       "      <td>-1</td>\n",
       "    </tr>\n",
       "    <tr>\n",
       "      <th>1943</th>\n",
       "      <td>Edit: I'll preface with this:The title and art...</td>\n",
       "      <td>-1</td>\n",
       "    </tr>\n",
       "    <tr>\n",
       "      <th>1944</th>\n",
       "      <td>This is an interesting point.  There are no sh...</td>\n",
       "      <td>-1</td>\n",
       "    </tr>\n",
       "    <tr>\n",
       "      <th>1945</th>\n",
       "      <td>Maybe you mean how we are to respond to the go...</td>\n",
       "      <td>-1</td>\n",
       "    </tr>\n",
       "    <tr>\n",
       "      <th>1946</th>\n",
       "      <td>[... What? ](http://tinyurl. com/kw5cpxz)</td>\n",
       "      <td>-1</td>\n",
       "    </tr>\n",
       "    <tr>\n",
       "      <th>1947</th>\n",
       "      <td>Does anybody remember during one of the debate...</td>\n",
       "      <td>-1</td>\n",
       "    </tr>\n",
       "    <tr>\n",
       "      <th>1948</th>\n",
       "      <td>The pope is meeting a cruel dictator.   Likely...</td>\n",
       "      <td>1</td>\n",
       "    </tr>\n",
       "  </tbody>\n",
       "</table>\n",
       "<p>1949 rows × 2 columns</p>\n",
       "</div>"
      ],
      "text/plain": [
       "                                           Comment_Text  Label\n",
       "0     I suspect atheists are projecting their desire...     -1\n",
       "1     It's funny how the arguments the shills are ma...     -1\n",
       "2     We are truly following the patterns of how the...     -1\n",
       "3     air pressure dropping as altitude goes higher....     -1\n",
       "4     Absolutely.  I think we'd be hard pressed to f...     -1\n",
       "5     Democrats don't know how to manage money?   Sh...      1\n",
       "6     It's not like automation has eliminated the ne...      1\n",
       "7                                         Would he win?     -1\n",
       "8     Yeah I didn't get far.  This article fills me ...     -1\n",
       "9     Insane like a fox.  Ted Cruz is actually very ...      1\n",
       "10    What kind of heartless person down voted this?...     -1\n",
       "11    If Jesus destroyed satan for our freedom, why ...      1\n",
       "12    God, I hope so.  And when it does, I will keep...     -1\n",
       "13    Because you can't work the part timers crazy h...     -1\n",
       "14    They only help the poor to promote their god t...     -1\n",
       "15    &gt; The essence of the entitlement state is g...     -1\n",
       "16    Because the Reddit Liberal Brigade™ would down...      1\n",
       "17    It's amazing how Democrats view money.  It has...      1\n",
       "18    The tides of change are on the move.  Legalizi...     -1\n",
       "19    To be fair, there are many who are only bigots...     -1\n",
       "20    That just makes me cringe.   Not sure if it's ...      1\n",
       "21    I used to pirate videogames, then Steam came a...     -1\n",
       "22    Young, single guy here...  My policy was PERFE...     -1\n",
       "23    &gt;2)    Churches Are Anti-Science. \\n\\n&gt;D...     -1\n",
       "24    The only people offended by the Redskins are w...     -1\n",
       "25    So the question during their Twitter Q&amp;A a...      1\n",
       "26    I haven’t read the article yet, and I have abs...     -1\n",
       "27    This really is pathetic. \\n\\nYou send shit to ...      1\n",
       "28    I for one am in utter shock that these fine in...      1\n",
       "29                              I'm sure it will pass..      1\n",
       "...                                                 ...    ...\n",
       "1919  Welcome to the new congress, same as the old c...     -1\n",
       "1920  It was still an incredibly lucrative investmen...     -1\n",
       "1921  So apparently Catholics aren't Christians acco...     -1\n",
       "1922  Could you image how poor of a state they would...     -1\n",
       "1923  The most amazing part of that episode was when...     -1\n",
       "1924  Why only spending cuts?  Include subsidy slash...     -1\n",
       "1925  I'm going to use this comment without giving c...      1\n",
       "1926  Because it's Texas.  The place where they slip...     -1\n",
       "1927  I have a feeling the ACA will be that little t...     -1\n",
       "1928  Utah:  Our Jesus can beat up your Jesus. \\n\\nC...      1\n",
       "1929       &gt; secrete rulings\\n\\nThat explains a lot.     -1\n",
       "1930  I thought this was even more impressive:\\n\\n&g...     -1\n",
       "1931  Benefits:\\n\\n- Fewer Drug Enforcement officers...     -1\n",
       "1932  Check out the comment section on this video on...     -1\n",
       "1933  Single payer healthcare works great where I li...     -1\n",
       "1934  I prefer it!  I'm a Texan and a while back I h...      1\n",
       "1935  Blacks have gone full stupid with the race car...     -1\n",
       "1936  This would make me so happy.  It sounds like t...     -1\n",
       "1937  Drive-thru abortions are next. \\n\\n I've drive...      1\n",
       "1938  While Dick is an ass hat, it is generally cons...     -1\n",
       "1939  Moore is a big supporter of Veterans.   He run...      1\n",
       "1940  Something I read earlier today:\\n\\n&gt;...  co...     -1\n",
       "1941  This was what folks didn't understand about th...     -1\n",
       "1942   At least the New York Post is telling the truth.     -1\n",
       "1943  Edit: I'll preface with this:The title and art...     -1\n",
       "1944  This is an interesting point.  There are no sh...     -1\n",
       "1945  Maybe you mean how we are to respond to the go...     -1\n",
       "1946          [... What? ](http://tinyurl. com/kw5cpxz)     -1\n",
       "1947  Does anybody remember during one of the debate...     -1\n",
       "1948  The pope is meeting a cruel dictator.   Likely...      1\n",
       "\n",
       "[1949 rows x 2 columns]"
      ]
     },
     "execution_count": 2,
     "metadata": {},
     "output_type": "execute_result"
    }
   ],
   "source": [
    "filename= \"/Users/laure/OneDrive/Dokumente/VU/Python for Text Analysis/Final Assignment/irony-labeled.csv\"\n",
    "\n",
    "df = pd.read_csv(filename)\n",
    "\n",
    "\n",
    "#Renaming the columns\n",
    "df.columns = [\"Comment_Text\", \"Label\"]\n",
    "df"
   ]
  },
  {
   "cell_type": "code",
   "execution_count": 3,
   "metadata": {},
   "outputs": [
    {
     "name": "stdout",
     "output_type": "stream",
     "text": [
      "This Irony dataset entails 1949 items\n"
     ]
    }
   ],
   "source": [
    "print(\"This Irony dataset entails\", len(df), \"items\")"
   ]
  },
  {
   "cell_type": "code",
   "execution_count": 4,
   "metadata": {},
   "outputs": [
    {
     "data": {
      "text/plain": [
       "Comment_Text    0\n",
       "Label           0\n",
       "dtype: int64"
      ]
     },
     "execution_count": 4,
     "metadata": {},
     "output_type": "execute_result"
    }
   ],
   "source": [
    "#checking for any missing values\n",
    "missing_data = df.isnull().sum()\n",
    "missing_data"
   ]
  },
  {
   "cell_type": "code",
   "execution_count": 5,
   "metadata": {},
   "outputs": [
    {
     "name": "stdout",
     "output_type": "stream",
     "text": [
      "The dataset enails a total of 537 IRONIC comments\n",
      "The dataset enails a total of 1412 NON-IRONIC comments\n"
     ]
    }
   ],
   "source": [
    "Ironic = []\n",
    "Not_Ironic = []\n",
    "for x in df[\"Label\"]:\n",
    "    if x == 1:\n",
    "        Ironic.append(x)\n",
    "    else:\n",
    "        Not_Ironic.append(x)\n",
    "\n",
    "print(f\"The dataset enails a total of {len(Ironic)} IRONIC comments\")\n",
    "print(f\"The dataset enails a total of {len(Not_Ironic)} NON-IRONIC comments\")"
   ]
  },
  {
   "cell_type": "code",
   "execution_count": 6,
   "metadata": {},
   "outputs": [],
   "source": [
    "from sklearn.model_selection import train_test_split"
   ]
  },
  {
   "cell_type": "code",
   "execution_count": 7,
   "metadata": {},
   "outputs": [],
   "source": [
    "y = df[\"Comment_Text\"]\n",
    "x = df[\"Label\"]\n",
    "\n",
    "#think this is the right way round.... !! \n",
    "#i.e. x = label, y = comment, but we may need to check haha\n",
    "\n",
    "##double check and see top 5\n",
    "# print(x.head())\n",
    "# print(y.head())"
   ]
  },
  {
   "cell_type": "code",
   "execution_count": 8,
   "metadata": {},
   "outputs": [
    {
     "name": "stdout",
     "output_type": "stream",
     "text": [
      "The Train set entails: 1364 items\n",
      "The Test set entails: 390 items\n",
      "This Validation set entails: 195 items\n"
     ]
    }
   ],
   "source": [
    "#test and train sets\n",
    "X_train, X_test, y_train, y_test = train_test_split(x, y, test_size=0.2, random_state=13)\n",
    "\n",
    "#split the training set to get validation\n",
    "X_train, X_val, y_train, y_val = train_test_split(X_train, y_train, test_size=0.125, random_state=13)\n",
    "\n",
    "#pandas concat joins series together (i.e. dataframes)\n",
    "train = pd.concat([X_train, y_train], axis=1)\n",
    "test = pd.concat([X_test, y_test], axis=1)\n",
    "val = pd.concat([X_val, y_val], axis=1)\n",
    "\n",
    "print(\"The Train set entails:\", len(train), \"items\") #70\n",
    "print(\"The Test set entails:\", len(test), \"items\")  #20\n",
    "print(\"This Validation set entails:\", len(val), \"items\")   #10\n",
    "\n"
   ]
  },
  {
   "cell_type": "code",
   "execution_count": 9,
   "metadata": {},
   "outputs": [
    {
     "data": {
      "text/plain": [
       "('Comment_label:', 544     What makes you think Warren isn't Obama V 2. 0...\n",
       " 1462    It surprises me that Republican congressmen us...\n",
       " 976     His favorite color is Coca Cola, he clearly kn...\n",
       " 372                                     That's hilarious.\n",
       " Name: Comment_Text, dtype: object)"
      ]
     },
     "execution_count": 9,
     "metadata": {},
     "output_type": "execute_result"
    }
   ],
   "source": [
    "##Indexing Training - comment\n",
    "\"Comment_label:\", train[\"Comment_Text\"].iloc[:4]"
   ]
  },
  {
   "cell_type": "code",
   "execution_count": 10,
   "metadata": {},
   "outputs": [
    {
     "data": {
      "text/plain": [
       "('Label:', 544    -1\n",
       " 1462    1\n",
       " 976    -1\n",
       " 372    -1\n",
       " Name: Label, dtype: int64)"
      ]
     },
     "execution_count": 10,
     "metadata": {},
     "output_type": "execute_result"
    }
   ],
   "source": [
    "##Indexing Training - label\n",
    "\"Label:\", train[\"Label\"].iloc[:4]"
   ]
  },
  {
   "cell_type": "code",
   "execution_count": 11,
   "metadata": {},
   "outputs": [
    {
     "name": "stdout",
     "output_type": "stream",
     "text": [
      "Training Data Shape: (1364, 2)\n",
      "Testing Data Shape: (390, 2)\n",
      "Validation Data Shape: (195, 2)\n"
     ]
    }
   ],
   "source": [
    "# pandas .shape to see data frame in form of tuples (no. of rows / cols)\n",
    "\n",
    "print(\"Training Data Shape:\", train.shape)\n",
    "print(\"Testing Data Shape:\", test.shape)\n",
    "print(\"Validation Data Shape:\", val.shape)"
   ]
  },
  {
   "cell_type": "code",
   "execution_count": 12,
   "metadata": {},
   "outputs": [
    {
     "data": {
      "image/png": "[encoded data removed]",
      "text/plain": [
       "<Figure size 576x432 with 1 Axes>"
      ]
     },
     "metadata": {},
     "output_type": "display_data"
    }
   ],
   "source": [
    "#Summarise the distribution of comments by different labels (1)Train, (2)Val (3)Test\n",
    "\n",
    "#TRAINING\n",
    "fig = plt.figure(figsize=(8,6))\n",
    "sns.barplot(x = train[\"Label\"].unique(), \n",
    "            y=train[\"Label\"].value_counts())\n",
    "\n",
    "plt.title(\"Training Data: Ironic vs Non-ironic Reddit Comments\")\n",
    "plt.ylabel(\"Number of Reddit Comments\")\n",
    "plt.xlabel(\"Irony Labels (Not Ironic=-1; Ironic=1)\")\n",
    "plt.show()"
   ]
  },
  {
   "cell_type": "code",
   "execution_count": 13,
   "metadata": {},
   "outputs": [
    {
     "data": {
      "image/png": "[encoded data removed]",
      "text/plain": [
       "<Figure size 576x432 with 1 Axes>"
      ]
     },
     "metadata": {},
     "output_type": "display_data"
    }
   ],
   "source": [
    "#VALIDATION\n",
    "fig = plt.figure(figsize=(8,6))\n",
    "sns.barplot(x = val[\"Label\"].unique(), \n",
    "            y=val[\"Label\"].value_counts())\n",
    "\n",
    "plt.title(\"Validation Data: Ironic vs Non-ironic Reddit Comments\")\n",
    "plt.ylabel(\"Number of Reddit Comments\")\n",
    "plt.xlabel(\"Irony Labels (Not Ironic=-1; Ironic=1)\")\n",
    "plt.show()"
   ]
  },
  {
   "cell_type": "code",
   "execution_count": 14,
   "metadata": {},
   "outputs": [
    {
     "data": {
      "image/png": "[encoded data removed]",
      "text/plain": [
       "<Figure size 576x432 with 1 Axes>"
      ]
     },
     "metadata": {},
     "output_type": "display_data"
    }
   ],
   "source": [
    "#TESTING\n",
    "fig = plt.figure(figsize=(8,6))\n",
    "sns.barplot(x = test[\"Label\"].unique(), \n",
    "            y=test[\"Label\"].value_counts())\n",
    "\n",
    "plt.title(\"Testing Data: Ironic vs Non-ironic Reddit Comments\")\n",
    "plt.ylabel(\"Number of Reddit Comments\")\n",
    "plt.xlabel(\"Irony Labels (Not Ironic=-1; Ironic=1)\")\n",
    "plt.show()"
   ]
  },
  {
   "cell_type": "code",
   "execution_count": 15,
   "metadata": {},
   "outputs": [],
   "source": [
    "import spacy\n",
    "nlp = spacy.load(\"en_core_web_sm\")"
   ]
  },
  {
   "cell_type": "markdown",
   "metadata": {},
   "source": [
    "# Changes made from here 18/01/2019\n",
    "\n",
    "basically just overwrote the Comment_Text column rather than adding additional column for it to work better in a nested dictionary...."
   ]
  },
  {
   "cell_type": "code",
   "execution_count": null,
   "metadata": {},
   "outputs": [],
   "source": [
    "# #split comments into tokens and OVERWITE additional column to dataframe\n",
    "#APPLY SPACY NLP (make each a doc)\n",
    "\n",
    "train[\"Comment_Text\"] = train[\"Comment_Text\"].apply(lambda x: nlp(x)) "
   ]
  },
  {
   "cell_type": "code",
   "execution_count": null,
   "metadata": {},
   "outputs": [],
   "source": [
    "train.head()"
   ]
  },
  {
   "cell_type": "code",
   "execution_count": null,
   "metadata": {},
   "outputs": [],
   "source": [
    "print(train.index)"
   ]
  },
  {
   "cell_type": "code",
   "execution_count": null,
   "metadata": {},
   "outputs": [],
   "source": [
    "#create a nested dict with index as outer key for entire train\n",
    "\n",
    "train_dict = train.set_index(train.index).T.to_dict()\n",
    "print(len(train_dict))\n",
    "print(train_dict)"
   ]
  },
  {
   "cell_type": "code",
   "execution_count": null,
   "metadata": {},
   "outputs": [],
   "source": [
    "#Split the training set into Ironic and Not ironic?? make 2 new dataframes?\n",
    "ironic_df = train[train[\"Label\"] >= 1]\n",
    "notironic_df = train[train[\"Label\"] <= -1]"
   ]
  },
  {
   "cell_type": "code",
   "execution_count": null,
   "metadata": {},
   "outputs": [],
   "source": [
    "print(f\"Training data contains {len(Ironic_df)} IRONIC comments\")\n",
    "print(f\"Training data contains {len(Notironic_df)} NON- IRONIC comments\")"
   ]
  },
  {
   "cell_type": "code",
   "execution_count": null,
   "metadata": {},
   "outputs": [],
   "source": [
    "#create nested dicts for each ironic and not ironic split- with same labels\n",
    "ironic_train_dict = ironic_df.set_index(ironic_df.index).T.to_dict()\n",
    "notironic_train_dict = notironic_df.set_index(notironic_df.index).T.to_dict()"
   ]
  },
  {
   "cell_type": "code",
   "execution_count": null,
   "metadata": {},
   "outputs": [],
   "source": []
  },
  {
   "cell_type": "code",
   "execution_count": null,
   "metadata": {},
   "outputs": [],
   "source": []
  }
 ],
 "metadata": {
  "kernelspec": {
   "display_name": "Python 3",
   "language": "python",
   "name": "python3"
  },
  "language_info": {
   "codemirror_mode": {
    "name": "ipython",
    "version": 3
   },
   "file_extension": ".py",
   "mimetype": "text/x-python",
   "name": "python",
   "nbconvert_exporter": "python",
   "pygments_lexer": "ipython3",
   "version": "3.6.5"
  }
 },
 "nbformat": 4,
 "nbformat_minor": 2
}
