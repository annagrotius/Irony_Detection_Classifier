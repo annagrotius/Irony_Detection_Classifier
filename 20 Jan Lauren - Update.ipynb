{
 "cells": [
  {
   "cell_type": "code",
   "execution_count": 1,
   "metadata": {},
   "outputs": [],
   "source": [
    "#import/install all packages at the top\n",
    "\n",
    "import pandas as pd\n",
    "import numpy as np\n",
    "import seaborn as sns\n",
    "import matplotlib.pyplot as plt\n",
    "# import base64\n",
    "# import string\n",
    "# import re\n",
    "from collections import Counter\n",
    "from spacy.lang.en.stop_words import STOP_WORDS\n",
    "import string"
   ]
  },
  {
   "cell_type": "code",
   "execution_count": 2,
   "metadata": {},
   "outputs": [],
   "source": [
    "#import and read file in df with pandas (for better visualisation)\n",
    "\n",
    "filename= \"/Users/laure/OneDrive/Dokumente/VU/Python for Text Analysis/Final Assignment/irony-labeled.csv\"\n",
    "\n",
    "df = pd.read_csv(filename)"
   ]
  },
  {
   "cell_type": "code",
   "execution_count": 3,
   "metadata": {},
   "outputs": [
    {
     "data": {
      "text/html": [
       "<div>\n",
       "<style scoped>\n",
       "    .dataframe tbody tr th:only-of-type {\n",
       "        vertical-align: middle;\n",
       "    }\n",
       "\n",
       "    .dataframe tbody tr th {\n",
       "        vertical-align: top;\n",
       "    }\n",
       "\n",
       "    .dataframe thead th {\n",
       "        text-align: right;\n",
       "    }\n",
       "</style>\n",
       "<table border=\"1\" class=\"dataframe\">\n",
       "  <thead>\n",
       "    <tr style=\"text-align: right;\">\n",
       "      <th></th>\n",
       "      <th>Comment_Text</th>\n",
       "      <th>Label</th>\n",
       "    </tr>\n",
       "  </thead>\n",
       "  <tbody>\n",
       "    <tr>\n",
       "      <th>0</th>\n",
       "      <td>I suspect atheists are projecting their desire...</td>\n",
       "      <td>-1</td>\n",
       "    </tr>\n",
       "    <tr>\n",
       "      <th>1</th>\n",
       "      <td>It's funny how the arguments the shills are ma...</td>\n",
       "      <td>-1</td>\n",
       "    </tr>\n",
       "    <tr>\n",
       "      <th>2</th>\n",
       "      <td>We are truly following the patterns of how the...</td>\n",
       "      <td>-1</td>\n",
       "    </tr>\n",
       "    <tr>\n",
       "      <th>3</th>\n",
       "      <td>air pressure dropping as altitude goes higher....</td>\n",
       "      <td>-1</td>\n",
       "    </tr>\n",
       "    <tr>\n",
       "      <th>4</th>\n",
       "      <td>Absolutely.  I think we'd be hard pressed to f...</td>\n",
       "      <td>-1</td>\n",
       "    </tr>\n",
       "  </tbody>\n",
       "</table>\n",
       "</div>"
      ],
      "text/plain": [
       "                                        Comment_Text  Label\n",
       "0  I suspect atheists are projecting their desire...     -1\n",
       "1  It's funny how the arguments the shills are ma...     -1\n",
       "2  We are truly following the patterns of how the...     -1\n",
       "3  air pressure dropping as altitude goes higher....     -1\n",
       "4  Absolutely.  I think we'd be hard pressed to f...     -1"
      ]
     },
     "execution_count": 3,
     "metadata": {},
     "output_type": "execute_result"
    }
   ],
   "source": [
    "#rename the columns\n",
    "df.columns = [\"Comment_Text\", \"Label\"]\n",
    "df.head()"
   ]
  },
  {
   "cell_type": "code",
   "execution_count": 4,
   "metadata": {},
   "outputs": [
    {
     "data": {
      "text/plain": [
       "Comment_Text    0\n",
       "Label           0\n",
       "dtype: int64"
      ]
     },
     "execution_count": 4,
     "metadata": {},
     "output_type": "execute_result"
    }
   ],
   "source": [
    "#checking for any missing values\n",
    "missing_data = df.isnull().sum()\n",
    "missing_data"
   ]
  },
  {
   "cell_type": "code",
   "execution_count": 5,
   "metadata": {},
   "outputs": [
    {
     "name": "stdout",
     "output_type": "stream",
     "text": [
      "This Irony dataset entails 1949 items\n"
     ]
    }
   ],
   "source": [
    "print(\"This Irony dataset entails\", len(df), \"items\")"
   ]
  },
  {
   "cell_type": "code",
   "execution_count": 6,
   "metadata": {},
   "outputs": [
    {
     "name": "stdout",
     "output_type": "stream",
     "text": [
      "The dataset enails a total of 537 IRONIC comments\n",
      "The dataset enails a total of 1412 NON-IRONIC comments\n"
     ]
    }
   ],
   "source": [
    "#Count number of ironic (1) and non-ironic (-1) comments in data\n",
    "\n",
    "ironic = []\n",
    "non_ironic = []\n",
    "\n",
    "for x in df[\"Label\"]:\n",
    "    if x == 1:\n",
    "        ironic.append(x)\n",
    "    else:\n",
    "        non_ironic.append(x)\n",
    "\n",
    "print(f\"The dataset enails a total of {len(ironic)} IRONIC comments\")\n",
    "print(f\"The dataset enails a total of {len(non_ironic)} NON-IRONIC comments\")"
   ]
  },
  {
   "cell_type": "markdown",
   "metadata": {},
   "source": [
    "# Split into Train (70), Validation (10) and Test (20) sets\n",
    "\n",
    "-using scikit learn 'train_test_split' function twices gives the validation set"
   ]
  },
  {
   "cell_type": "code",
   "execution_count": 7,
   "metadata": {},
   "outputs": [],
   "source": [
    "from sklearn.model_selection import train_test_split"
   ]
  },
  {
   "cell_type": "code",
   "execution_count": 8,
   "metadata": {},
   "outputs": [],
   "source": [
    "y = df[\"Comment_Text\"]\n",
    "x = df[\"Label\"]\n",
    "\n",
    "#think this is the right way round.... !! \n",
    "#i.e. x = label, y = comment, but we may need to check haha\n",
    "\n",
    "##double check and see top 5\n",
    "# print(x.head())\n",
    "# print(y.head())"
   ]
  },
  {
   "cell_type": "code",
   "execution_count": 9,
   "metadata": {},
   "outputs": [
    {
     "name": "stdout",
     "output_type": "stream",
     "text": [
      "The Train set entails: 1364 items\n",
      "The Test set entails: 390 items\n",
      "This Validation set entails: 195 items\n"
     ]
    }
   ],
   "source": [
    "#test and train sets\n",
    "X_train, X_test, y_train, y_test = train_test_split(x, y, test_size=0.2, random_state=13)\n",
    "\n",
    "#split the training set to get validation\n",
    "X_train, X_val, y_train, y_val = train_test_split(X_train, y_train, test_size=0.125, random_state=13)\n",
    "\n",
    "#pandas concat joins series together (i.e. dataframes)\n",
    "train = pd.concat([X_train, y_train], axis=1)\n",
    "test = pd.concat([X_test, y_test], axis=1)\n",
    "val = pd.concat([X_val, y_val], axis=1)\n",
    "\n",
    "print(\"The Train set entails:\", len(train), \"items\") #70\n",
    "print(\"The Test set entails:\", len(test), \"items\")  #20\n",
    "print(\"This Validation set entails:\", len(val), \"items\")   #10"
   ]
  },
  {
   "cell_type": "code",
   "execution_count": 10,
   "metadata": {},
   "outputs": [],
   "source": [
    "# ##Indexing Training - comment\n",
    "# \"Comment_label:\", train[\"Comment_Text\"].iloc[:4]"
   ]
  },
  {
   "cell_type": "code",
   "execution_count": 11,
   "metadata": {},
   "outputs": [],
   "source": [
    "# ##Indexing Training - label\n",
    "# \"Label:\", train[\"Label\"].iloc[:4]"
   ]
  },
  {
   "cell_type": "code",
   "execution_count": 12,
   "metadata": {},
   "outputs": [
    {
     "name": "stdout",
     "output_type": "stream",
     "text": [
      "Training Data Shape: (1364, 2)\n",
      "Testing Data Shape: (390, 2)\n",
      "Validation Data Shape: (195, 2)\n"
     ]
    }
   ],
   "source": [
    "# pandas '.shape' to see dataframe in form of tuples (no. of rows / cols)\n",
    "\n",
    "print(\"Training Data Shape:\", train.shape)\n",
    "print(\"Testing Data Shape:\", test.shape)\n",
    "print(\"Validation Data Shape:\", val.shape)"
   ]
  },
  {
   "cell_type": "markdown",
   "metadata": {},
   "source": [
    "# Summaries of the distribution of comments by both labels (i.e. non-ironic = -1, ironic = 1)\n",
    "\n",
    "- use matplotlib to create THREE bar charts for visualisation for each of the sets:\n",
    "        (1) Train\n",
    "        (2) Validation\n",
    "        (3) Test"
   ]
  },
  {
   "cell_type": "code",
   "execution_count": 13,
   "metadata": {},
   "outputs": [
    {
     "data": {
      "image/png": "[encoded data removed]",
      "text/plain": [
       "<Figure size 576x432 with 1 Axes>"
      ]
     },
     "metadata": {},
     "output_type": "display_data"
    }
   ],
   "source": [
    "#TRAIN\n",
    "\n",
    "fig = plt.figure(figsize=(8,6))\n",
    "sns.barplot(x = train[\"Label\"].unique(), \n",
    "            y=train[\"Label\"].value_counts())\n",
    "\n",
    "plt.title(\"Training Data: Ironic vs Non-ironic Reddit Comments\")\n",
    "plt.ylabel(\"Number of Reddit Comments\")\n",
    "plt.xlabel(\"Irony Labels (Not Ironic=-1; Ironic=1)\")\n",
    "plt.show()"
   ]
  },
  {
   "cell_type": "code",
   "execution_count": 14,
   "metadata": {},
   "outputs": [
    {
     "data": {
      "image/png": "[encoded data removed]",
      "text/plain": [
       "<Figure size 576x432 with 1 Axes>"
      ]
     },
     "metadata": {},
     "output_type": "display_data"
    }
   ],
   "source": [
    "#VALIDATION\n",
    "\n",
    "fig = plt.figure(figsize=(8,6))\n",
    "sns.barplot(x = val[\"Label\"].unique(), \n",
    "            y=val[\"Label\"].value_counts())\n",
    "\n",
    "plt.title(\"Validation Data: Ironic vs Non-ironic Reddit Comments\")\n",
    "plt.ylabel(\"Number of Reddit Comments\")\n",
    "plt.xlabel(\"Irony Labels (Not Ironic=-1; Ironic=1)\")\n",
    "plt.show()"
   ]
  },
  {
   "cell_type": "code",
   "execution_count": 15,
   "metadata": {},
   "outputs": [
    {
     "data": {
      "image/png": "[encoded data removed]",
      "text/plain": [
       "<Figure size 576x432 with 1 Axes>"
      ]
     },
     "metadata": {},
     "output_type": "display_data"
    }
   ],
   "source": [
    "#TEST\n",
    "\n",
    "fig = plt.figure(figsize=(8,6))\n",
    "sns.barplot(x = test[\"Label\"].unique(), \n",
    "            y=test[\"Label\"].value_counts())\n",
    "\n",
    "plt.title(\"Testing Data: Ironic vs Non-ironic Reddit Comments\")\n",
    "plt.ylabel(\"Number of Reddit Comments\")\n",
    "plt.xlabel(\"Irony Labels (Not Ironic=-1; Ironic=1)\")\n",
    "plt.show()"
   ]
  },
  {
   "cell_type": "code",
   "execution_count": 16,
   "metadata": {},
   "outputs": [
    {
     "data": {
      "text/html": [
       "<div>\n",
       "<style scoped>\n",
       "    .dataframe tbody tr th:only-of-type {\n",
       "        vertical-align: middle;\n",
       "    }\n",
       "\n",
       "    .dataframe tbody tr th {\n",
       "        vertical-align: top;\n",
       "    }\n",
       "\n",
       "    .dataframe thead th {\n",
       "        text-align: right;\n",
       "    }\n",
       "</style>\n",
       "<table border=\"1\" class=\"dataframe\">\n",
       "  <thead>\n",
       "    <tr style=\"text-align: right;\">\n",
       "      <th></th>\n",
       "      <th>Label</th>\n",
       "      <th>Comment_Text</th>\n",
       "    </tr>\n",
       "  </thead>\n",
       "  <tbody>\n",
       "    <tr>\n",
       "      <th>544</th>\n",
       "      <td>-1</td>\n",
       "      <td>What makes you think Warren isn't Obama V 2. 0...</td>\n",
       "    </tr>\n",
       "    <tr>\n",
       "      <th>1462</th>\n",
       "      <td>1</td>\n",
       "      <td>It surprises me that Republican congressmen us...</td>\n",
       "    </tr>\n",
       "    <tr>\n",
       "      <th>976</th>\n",
       "      <td>-1</td>\n",
       "      <td>His favorite color is Coca Cola, he clearly kn...</td>\n",
       "    </tr>\n",
       "    <tr>\n",
       "      <th>372</th>\n",
       "      <td>-1</td>\n",
       "      <td>That's hilarious.</td>\n",
       "    </tr>\n",
       "    <tr>\n",
       "      <th>1350</th>\n",
       "      <td>1</td>\n",
       "      <td>Only to keep them from being embarrassed, beca...</td>\n",
       "    </tr>\n",
       "  </tbody>\n",
       "</table>\n",
       "</div>"
      ],
      "text/plain": [
       "      Label                                       Comment_Text\n",
       "544      -1  What makes you think Warren isn't Obama V 2. 0...\n",
       "1462      1  It surprises me that Republican congressmen us...\n",
       "976      -1  His favorite color is Coca Cola, he clearly kn...\n",
       "372      -1                                  That's hilarious.\n",
       "1350      1  Only to keep them from being embarrassed, beca..."
      ]
     },
     "execution_count": 16,
     "metadata": {},
     "output_type": "execute_result"
    }
   ],
   "source": [
    "#check format of train df\n",
    "\n",
    "train.head()"
   ]
  },
  {
   "cell_type": "markdown",
   "metadata": {},
   "source": [
    "# CHANGES FROM 20/01/2019 -\n",
    "see below - stuff before deleted to follow the converting to string method we chatted about..."
   ]
  },
  {
   "cell_type": "markdown",
   "metadata": {},
   "source": [
    "# Split train set into \"Ironic\" and \"Not-ironic\" dataframes, then convert each into strings \n",
    "- converting after into strings for easier parsing with SpaCy"
   ]
  },
  {
   "cell_type": "code",
   "execution_count": 17,
   "metadata": {},
   "outputs": [
    {
     "name": "stdout",
     "output_type": "stream",
     "text": [
      "Training data contains 378 IRONIC comments\n",
      "Training data contains 986 NON- IRONIC comments\n"
     ]
    }
   ],
   "source": [
    "#Split the training set into Ironic and Not ironic, making 2 new dataframes, with same headers\n",
    "ironic_df = train[train[\"Label\"] >= 1]\n",
    "nonironic_df = train[train[\"Label\"] <= -1]\n",
    "\n",
    "print(f\"Training data contains {len(ironic_df)} IRONIC comments\")\n",
    "print(f\"Training data contains {len(nonironic_df)} NON- IRONIC comments\")"
   ]
  },
  {
   "cell_type": "code",
   "execution_count": 18,
   "metadata": {},
   "outputs": [],
   "source": [
    "def convert_to_string(df_with_columnname):\n",
    "    \"\"\"Convert column of a dataframe into a string - remove headers and index and return entire string\"\"\"\n",
    "    return df_with_columnname.to_string(index=False)"
   ]
  },
  {
   "cell_type": "code",
   "execution_count": 19,
   "metadata": {},
   "outputs": [],
   "source": [
    "#convert both dfs to strings\n",
    "ironic_train_str = convert_to_string(ironic_df[\"Comment_Text\"])\n",
    "nonironic_train_str = convert_to_string(nonironic_df[\"Comment_Text\"])\n",
    "\n",
    "#print(repr(ironic_train_str))\n",
    "#print(repr(notironic_train_str))"
   ]
  },
  {
   "cell_type": "markdown",
   "metadata": {},
   "source": [
    "# Parse through SpaCy to get STATS:\n",
    "\n",
    "-----Create list of functions for each:\n",
    "- average word length\n",
    "- average sentence length\n",
    "- number of word types"
   ]
  },
  {
   "cell_type": "code",
   "execution_count": 20,
   "metadata": {},
   "outputs": [],
   "source": [
    "import spacy\n",
    "nlp = spacy.load(\"en_core_web_sm\")"
   ]
  },
  {
   "cell_type": "code",
   "execution_count": 21,
   "metadata": {},
   "outputs": [],
   "source": [
    "def nlp_convert(text):\n",
    "    \"\"\"Parse text with SpaCy\"\"\"\n",
    "    doc = nlp(text)\n",
    "    return doc"
   ]
  },
  {
   "cell_type": "code",
   "execution_count": 22,
   "metadata": {},
   "outputs": [],
   "source": [
    "def average_word_length(doc):\n",
    "    \"\"\"Take doc and return average word length\"\"\"\n",
    "    for token in doc:\n",
    "        word = token.text\n",
    "        average_word_length = sum(len(word) for word in doc) / len(doc)\n",
    "    return(average_word_length)\n",
    "\n",
    "def average_sent_length(doc):\n",
    "    \"\"\"Take doc and return average sentence length\"\"\"\n",
    "    sent_list = []\n",
    "\n",
    "    for sent in doc.sents:\n",
    "        len_sent = len(sent)\n",
    "        sent_list.append(len_sent)\n",
    "\n",
    "    total = sum(sent_list)\n",
    "    leng = len(sent_list)\n",
    "\n",
    "    average_sent_length = total / leng\n",
    "    return(average_sent_length)"
   ]
  },
  {
   "cell_type": "code",
   "execution_count": 23,
   "metadata": {},
   "outputs": [],
   "source": [
    "def relative_count_wordtypes(doc):\n",
    "    pos_tags = []\n",
    "    for token in doc:\n",
    "        pos_tags.append(token.pos_)\n",
    "    return Counter(pos_tags)"
   ]
  },
  {
   "cell_type": "markdown",
   "metadata": {},
   "source": [
    "# IRONIC RETURNS:"
   ]
  },
  {
   "cell_type": "code",
   "execution_count": 24,
   "metadata": {},
   "outputs": [
    {
     "name": "stdout",
     "output_type": "stream",
     "text": [
      "Average Word Length for the Ironic Corpus is: 3.732196358607974\n",
      "Average Sentence Length for the Ironic Corpus is: 9.816742081447964\n",
      "Relative Count of Word Types for the Ironic Corpus is: \n",
      " Counter({'PUNCT': 699, 'VERB': 689, 'NOUN': 564, 'SPACE': 459, 'DET': 315, 'ADP': 285, 'PRON': 280, 'ADJ': 280, 'ADV': 252, 'PROPN': 244, 'PART': 80, 'CCONJ': 79, 'INTJ': 44, 'NUM': 36, 'X': 22, 'SYM': 11})\n"
     ]
    }
   ],
   "source": [
    "#parse through spacy\n",
    "ir_doc = nlp_convert(ironic_train_str)\n",
    "\n",
    "#average stats (word & sent)\n",
    "ir_average_wordlen = average_word_length(ir_doc)\n",
    "ir_average_sentlength = average_sent_length(ir_doc)\n",
    "\n",
    "#word type stats\n",
    "ir_count_wordtypes = relative_count_wordtypes(ir_doc)\n",
    "\n",
    "print(f\"Average Word Length for the Ironic Corpus is: {ir_average_wordlen}\")\n",
    "print(f\"Average Sentence Length for the Ironic Corpus is: {ir_average_sentlength}\") \n",
    "print(f\"Relative Count of Word Types for the Ironic Corpus is: \\n {ir_count_wordtypes}\")"
   ]
  },
  {
   "cell_type": "markdown",
   "metadata": {},
   "source": [
    "# NON-IRONIC RETURNS:"
   ]
  },
  {
   "cell_type": "code",
   "execution_count": 25,
   "metadata": {},
   "outputs": [
    {
     "name": "stdout",
     "output_type": "stream",
     "text": [
      "Average Word Length for the Non-ironic Corpus is: 9.435215946843854\n",
      "Average Sentence Length for the Non-ironic Corpus is: 9.435215946843854\n",
      "Relative Count of Word Types for the Non-ironic Corpus is: \n",
      " Counter({'VERB': 1863, 'PUNCT': 1808, 'NOUN': 1516, 'SPACE': 1217, 'DET': 898, 'PRON': 790, 'ADV': 743, 'ADP': 712, 'ADJ': 670, 'PROPN': 540, 'CCONJ': 210, 'PART': 161, 'NUM': 90, 'INTJ': 62, 'X': 45, 'SYM': 35})\n"
     ]
    }
   ],
   "source": [
    "#parse through spacy\n",
    "non_ir_doc = nlp_convert(nonironic_train_str)\n",
    "\n",
    "#average stats (word & sent)\n",
    "non_ir_average_wordlen = average_word_length(non_ir_doc)\n",
    "non_ir_average_wordlen = average_sent_length(non_ir_doc)\n",
    "\n",
    "#word type stats\n",
    "non_ir_count_wordtypes = relative_count_wordtypes(non_ir_doc)\n",
    "\n",
    "print(f\"Average Word Length for the Non-ironic Corpus is: {non_ir_average_wordlen}\")\n",
    "print(f\"Average Sentence Length for the Non-ironic Corpus is: {non_ir_average_wordlen}\") \n",
    "print(f\"Relative Count of Word Types for the Non-ironic Corpus is: \\n {non_ir_count_wordtypes}\")\n"
   ]
  },
  {
   "cell_type": "markdown",
   "metadata": {},
   "source": [
    "# SpaCy Continued: Text Processing \n",
    "\n",
    "- stopwords, punctuation, lemmatize\n",
    "\n",
    "- (need to run named entity recognition AND sentiment analysis)\n",
    "\n",
    "[sentiment analysis - ironic ones should typically be more negative....]\n"
   ]
  },
  {
   "cell_type": "code",
   "execution_count": 26,
   "metadata": {},
   "outputs": [
    {
     "data": {
      "text/plain": [
       "['does',\n",
       " 'no',\n",
       " 'go',\n",
       " 'have',\n",
       " 'at',\n",
       " 'besides',\n",
       " 'seeming',\n",
       " 'since',\n",
       " 'such',\n",
       " 'through',\n",
       " 'former',\n",
       " 'but',\n",
       " 'eleven',\n",
       " 'nothing',\n",
       " 'anywhere',\n",
       " 'serious',\n",
       " 'my',\n",
       " 'whither',\n",
       " 'third',\n",
       " 'your',\n",
       " 'thereby',\n",
       " 'themselves',\n",
       " 'unless',\n",
       " 'his',\n",
       " 'often',\n",
       " 'call',\n",
       " 'being',\n",
       " 'thus',\n",
       " 'further',\n",
       " 'take',\n",
       " 'ours',\n",
       " 'when',\n",
       " 'those',\n",
       " 'both',\n",
       " 'give',\n",
       " 'hundred',\n",
       " 'forty',\n",
       " 'nine',\n",
       " 'beforehand',\n",
       " 'out',\n",
       " 'almost',\n",
       " 'noone',\n",
       " 'something',\n",
       " 'not',\n",
       " 'throughout',\n",
       " 'what',\n",
       " 'wherein',\n",
       " 'nobody',\n",
       " 'name',\n",
       " 'otherwise',\n",
       " 'our',\n",
       " 'ever',\n",
       " 'regarding',\n",
       " 'why',\n",
       " 'whoever',\n",
       " 'yourselves',\n",
       " 'alone',\n",
       " 'now',\n",
       " 'for',\n",
       " 'via',\n",
       " 'that',\n",
       " 'indeed',\n",
       " 'somehow',\n",
       " 'front',\n",
       " 'less',\n",
       " 'they',\n",
       " 'already',\n",
       " 'onto',\n",
       " 'become',\n",
       " 'afterwards',\n",
       " 'none',\n",
       " 'still',\n",
       " 'within',\n",
       " 'various',\n",
       " 'whereupon',\n",
       " 'becoming',\n",
       " 'eight',\n",
       " 'down',\n",
       " 'upon',\n",
       " 'due',\n",
       " 'two',\n",
       " 'hers',\n",
       " 'cannot',\n",
       " 'hereupon',\n",
       " 'mine',\n",
       " 'with',\n",
       " 'three',\n",
       " 'their',\n",
       " 'could',\n",
       " 'and',\n",
       " 'see',\n",
       " 'thru',\n",
       " 'even',\n",
       " 'everywhere',\n",
       " 'he',\n",
       " 'any',\n",
       " 'more',\n",
       " 'twenty',\n",
       " 'sixty',\n",
       " 'in',\n",
       " 'everyone',\n",
       " 'itself',\n",
       " 'over',\n",
       " 'been',\n",
       " 'these',\n",
       " 'many',\n",
       " 'if',\n",
       " 'up',\n",
       " 'myself',\n",
       " 'might',\n",
       " 'or',\n",
       " 'hence',\n",
       " 'several',\n",
       " 'us',\n",
       " 'amount',\n",
       " 'then',\n",
       " 'yet',\n",
       " 'herein',\n",
       " 'under',\n",
       " 'however',\n",
       " 'there',\n",
       " 'seemed',\n",
       " 'around',\n",
       " 'elsewhere',\n",
       " 'above',\n",
       " 'mostly',\n",
       " 'by',\n",
       " 'whole',\n",
       " 'formerly',\n",
       " 'five',\n",
       " 'quite',\n",
       " 'where',\n",
       " 'except',\n",
       " 'whenever',\n",
       " 'whom',\n",
       " 'is',\n",
       " 'ourselves',\n",
       " 'meanwhile',\n",
       " 'whether',\n",
       " 'sometime',\n",
       " 'last',\n",
       " 'get',\n",
       " 'fifteen',\n",
       " 'between',\n",
       " 'bottom',\n",
       " 'should',\n",
       " 'than',\n",
       " 'first',\n",
       " 'him',\n",
       " 'are',\n",
       " 'least',\n",
       " 'really',\n",
       " 'among',\n",
       " 'every',\n",
       " 'becomes',\n",
       " 'each',\n",
       " 'from',\n",
       " 'latterly',\n",
       " 'only',\n",
       " 'put',\n",
       " 'say',\n",
       " 'seem',\n",
       " 'side',\n",
       " 'sometimes',\n",
       " 'ten',\n",
       " 'until',\n",
       " 'had',\n",
       " 'using',\n",
       " 'yourself',\n",
       " 'six',\n",
       " 'may',\n",
       " 'her',\n",
       " 'neither',\n",
       " 'another',\n",
       " 'made',\n",
       " 'though',\n",
       " 'well',\n",
       " 'own',\n",
       " 'ca',\n",
       " 'back',\n",
       " 'top',\n",
       " 'did',\n",
       " 'doing',\n",
       " 'here',\n",
       " 'must',\n",
       " 'of',\n",
       " 'four',\n",
       " 'others',\n",
       " 'latter',\n",
       " 'keep',\n",
       " 'together',\n",
       " 'hereby',\n",
       " 'beside',\n",
       " 'an',\n",
       " 'much',\n",
       " 'always',\n",
       " 'some',\n",
       " 'never',\n",
       " 'thereafter',\n",
       " 'anyone',\n",
       " 'how',\n",
       " 'very',\n",
       " 'can',\n",
       " 'do',\n",
       " 'am',\n",
       " 'whence',\n",
       " 'you',\n",
       " 'along',\n",
       " 'thereupon',\n",
       " 'without',\n",
       " 'either',\n",
       " 'below',\n",
       " 're',\n",
       " 'me',\n",
       " 'twelve',\n",
       " 'nowhere',\n",
       " 'himself',\n",
       " 'we',\n",
       " 'because',\n",
       " 'whereafter',\n",
       " 'yours',\n",
       " 'although',\n",
       " 'empty',\n",
       " 'rather',\n",
       " 'therein',\n",
       " 'it',\n",
       " 'move',\n",
       " 'off',\n",
       " 'while',\n",
       " 'herself',\n",
       " 'were',\n",
       " 'per',\n",
       " 'them',\n",
       " 'anyhow',\n",
       " 'has',\n",
       " 'once',\n",
       " 'else',\n",
       " 'therefore',\n",
       " 'after',\n",
       " 'amongst',\n",
       " 'somewhere',\n",
       " 'was',\n",
       " 'a',\n",
       " 'thence',\n",
       " 'whatever',\n",
       " 'on',\n",
       " 'before',\n",
       " 'full',\n",
       " 'i',\n",
       " 'be',\n",
       " 'who',\n",
       " 'wherever',\n",
       " 'behind',\n",
       " 'part',\n",
       " 'into',\n",
       " 'everything',\n",
       " 'towards',\n",
       " 'nevertheless',\n",
       " 'about',\n",
       " 'across',\n",
       " 'moreover',\n",
       " 'whose',\n",
       " 'she',\n",
       " 'as',\n",
       " 'seems',\n",
       " 'nor',\n",
       " 'too',\n",
       " 'someone',\n",
       " 'its',\n",
       " 'anything',\n",
       " 'will',\n",
       " 'to',\n",
       " 'so',\n",
       " 'this',\n",
       " 'during',\n",
       " 'other',\n",
       " 'just',\n",
       " 'namely',\n",
       " 'against',\n",
       " 'whereby',\n",
       " 'which',\n",
       " 'beyond',\n",
       " 'the',\n",
       " 'all',\n",
       " 'became',\n",
       " 'same',\n",
       " 'toward',\n",
       " 'show',\n",
       " 'next',\n",
       " 'anyway',\n",
       " 'done',\n",
       " 'enough',\n",
       " 'most',\n",
       " 'one',\n",
       " 'perhaps',\n",
       " 'fifty',\n",
       " 'make',\n",
       " 'hereafter',\n",
       " 'used',\n",
       " 'again',\n",
       " 'would',\n",
       " 'please',\n",
       " 'whereas',\n",
       " 'few',\n",
       " 'also']"
      ]
     },
     "execution_count": 26,
     "metadata": {},
     "output_type": "execute_result"
    }
   ],
   "source": [
    "stopwords = list(STOP_WORDS)\n",
    "stopwords"
   ]
  },
  {
   "cell_type": "code",
   "execution_count": 28,
   "metadata": {},
   "outputs": [
    {
     "data": {
      "text/plain": [
       "'!\"#$%&\\'()*+,-./:;<=>?@[\\\\]^_`{|}~'"
      ]
     },
     "execution_count": 28,
     "metadata": {},
     "output_type": "execute_result"
    }
   ],
   "source": [
    "import string\n",
    "punctu = string.punctuation\n",
    "punctu"
   ]
  },
  {
   "cell_type": "code",
   "execution_count": null,
   "metadata": {},
   "outputs": [],
   "source": [
    "# #Get the LEMMA\n",
    "\n",
    "# for word in "
   ]
  }
 ],
 "metadata": {
  "kernelspec": {
   "display_name": "Python 3",
   "language": "python",
   "name": "python3"
  },
  "language_info": {
   "codemirror_mode": {
    "name": "ipython",
    "version": 3
   },
   "file_extension": ".py",
   "mimetype": "text/x-python",
   "name": "python",
   "nbconvert_exporter": "python",
   "pygments_lexer": "ipython3",
   "version": "3.6.5"
  }
 },
 "nbformat": 4,
 "nbformat_minor": 2
}
