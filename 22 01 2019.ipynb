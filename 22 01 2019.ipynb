{
 "cells": [
  {
   "cell_type": "code",
   "execution_count": 1,
   "metadata": {},
   "outputs": [],
   "source": [
    "#import/install all packages at the top\n",
    "\n",
    "import pandas as pd\n",
    "import numpy as np\n",
    "import seaborn as sns\n",
    "import matplotlib.pyplot as plt\n",
    "import nltk \n",
    "from collections import Counter\n",
    "from spacy.lang.en.stop_words import STOP_WORDS\n",
    "import string"
   ]
  },
  {
   "cell_type": "code",
   "execution_count": 2,
   "metadata": {},
   "outputs": [
    {
     "data": {
      "text/html": [
       "<div>\n",
       "<style scoped>\n",
       "    .dataframe tbody tr th:only-of-type {\n",
       "        vertical-align: middle;\n",
       "    }\n",
       "\n",
       "    .dataframe tbody tr th {\n",
       "        vertical-align: top;\n",
       "    }\n",
       "\n",
       "    .dataframe thead th {\n",
       "        text-align: right;\n",
       "    }\n",
       "</style>\n",
       "<table border=\"1\" class=\"dataframe\">\n",
       "  <thead>\n",
       "    <tr style=\"text-align: right;\">\n",
       "      <th></th>\n",
       "      <th>comment_text</th>\n",
       "      <th>label</th>\n",
       "    </tr>\n",
       "  </thead>\n",
       "  <tbody>\n",
       "    <tr>\n",
       "      <th>0</th>\n",
       "      <td>I suspect atheists are projecting their desire...</td>\n",
       "      <td>-1</td>\n",
       "    </tr>\n",
       "    <tr>\n",
       "      <th>1</th>\n",
       "      <td>It's funny how the arguments the shills are ma...</td>\n",
       "      <td>-1</td>\n",
       "    </tr>\n",
       "    <tr>\n",
       "      <th>2</th>\n",
       "      <td>We are truly following the patterns of how the...</td>\n",
       "      <td>-1</td>\n",
       "    </tr>\n",
       "    <tr>\n",
       "      <th>3</th>\n",
       "      <td>air pressure dropping as altitude goes higher....</td>\n",
       "      <td>-1</td>\n",
       "    </tr>\n",
       "    <tr>\n",
       "      <th>4</th>\n",
       "      <td>Absolutely.  I think we'd be hard pressed to f...</td>\n",
       "      <td>-1</td>\n",
       "    </tr>\n",
       "  </tbody>\n",
       "</table>\n",
       "</div>"
      ],
      "text/plain": [
       "                                        comment_text  label\n",
       "0  I suspect atheists are projecting their desire...     -1\n",
       "1  It's funny how the arguments the shills are ma...     -1\n",
       "2  We are truly following the patterns of how the...     -1\n",
       "3  air pressure dropping as altitude goes higher....     -1\n",
       "4  Absolutely.  I think we'd be hard pressed to f...     -1"
      ]
     },
     "execution_count": 2,
     "metadata": {},
     "output_type": "execute_result"
    }
   ],
   "source": [
    "#import and read file in df with pandas (for better visualisation)\n",
    "\n",
    "filename= \"/Users/laure/OneDrive/Dokumente/VU/Python for Text Analysis/Final Assignment/irony-labeled.csv\"\n",
    "\n",
    "df = pd.read_csv(filename)\n",
    "\n",
    "df.head()"
   ]
  },
  {
   "cell_type": "code",
   "execution_count": 3,
   "metadata": {},
   "outputs": [
    {
     "data": {
      "text/plain": [
       "-1    1412\n",
       " 1     537\n",
       "Name: label, dtype: int64"
      ]
     },
     "execution_count": 3,
     "metadata": {},
     "output_type": "execute_result"
    }
   ],
   "source": [
    "#counts number of each class \n",
    "df[\"label\"].value_counts()"
   ]
  },
  {
   "cell_type": "code",
   "execution_count": 4,
   "metadata": {},
   "outputs": [],
   "source": [
    "#rename the columns\n",
    "df.columns = [\"Comment_Text\", \"Label\"]"
   ]
  },
  {
   "cell_type": "code",
   "execution_count": 5,
   "metadata": {},
   "outputs": [
    {
     "data": {
      "text/plain": [
       "Comment_Text    0\n",
       "Label           0\n",
       "dtype: int64"
      ]
     },
     "execution_count": 5,
     "metadata": {},
     "output_type": "execute_result"
    }
   ],
   "source": [
    "#checking for any missing values\n",
    "missing_data = df.isnull().sum()\n",
    "missing_data"
   ]
  },
  {
   "cell_type": "code",
   "execution_count": 6,
   "metadata": {},
   "outputs": [
    {
     "name": "stdout",
     "output_type": "stream",
     "text": [
      "This Irony dataset entails 1949 items\n"
     ]
    }
   ],
   "source": [
    "print(\"This Irony dataset entails\", len(df), \"items\")"
   ]
  },
  {
   "cell_type": "code",
   "execution_count": 7,
   "metadata": {},
   "outputs": [
    {
     "name": "stdout",
     "output_type": "stream",
     "text": [
      "The dataset enails a total of 537 IRONIC comments\n",
      "The dataset enails a total of 1412 NON-IRONIC comments\n"
     ]
    }
   ],
   "source": [
    "#Count number of ironic (1) and non-ironic (-1) comments in data\n",
    "\n",
    "ironic = []\n",
    "non_ironic = []\n",
    "\n",
    "for x in df[\"Label\"]:\n",
    "    if x == 1:\n",
    "        ironic.append(x)\n",
    "    else:\n",
    "        non_ironic.append(x)\n",
    "\n",
    "print(f\"The dataset enails a total of {len(ironic)} IRONIC comments\") #27.55%\n",
    "print(f\"The dataset enails a total of {len(non_ironic)} NON-IRONIC comments\") #72.45%\n",
    "#537x100 / 1949 = 27.55%"
   ]
  },
  {
   "cell_type": "markdown",
   "metadata": {},
   "source": [
    "# Split into Train (70), Validation (10) and Test (20) sets\n",
    "\n",
    "-using scikit learn 'train_test_split' function twices gives the validation set"
   ]
  },
  {
   "cell_type": "code",
   "execution_count": 8,
   "metadata": {},
   "outputs": [],
   "source": [
    "from sklearn.model_selection import train_test_split"
   ]
  },
  {
   "cell_type": "code",
   "execution_count": 9,
   "metadata": {},
   "outputs": [],
   "source": [
    "y = df[\"Comment_Text\"]\n",
    "x = df[\"Label\"]\n",
    "\n",
    "#think this is the right way round.... !! \n",
    "#i.e. x = label, y = comment, but we may need to check haha\n",
    "\n",
    "##double check and see top 5\n",
    "# print(x.head())\n",
    "# print(y.head())"
   ]
  },
  {
   "cell_type": "code",
   "execution_count": 10,
   "metadata": {},
   "outputs": [],
   "source": [
    "#test and train sets\n",
    "X_train, X_test, y_train, y_test = train_test_split(x, y, test_size=0.2, random_state=43)\n",
    "\n",
    "#split the training set to get validation\n",
    "X_train, X_val, y_train, y_val = train_test_split(X_train, y_train, test_size=0.125, random_state=43)"
   ]
  },
  {
   "cell_type": "code",
   "execution_count": 11,
   "metadata": {},
   "outputs": [
    {
     "name": "stdout",
     "output_type": "stream",
     "text": [
      "The Train set entails: 1364 items\n",
      "The Test set entails: 390 items\n",
      "This Validation set entails: 195 items\n"
     ]
    }
   ],
   "source": [
    "#pandas concat joins series together (i.e. dataframes)\n",
    "train = pd.concat([X_train, y_train], axis=1)\n",
    "test = pd.concat([X_test, y_test], axis=1)\n",
    "val = pd.concat([X_val, y_val], axis=1)\n",
    "\n",
    "print(\"The Train set entails:\", len(train), \"items\") #70\n",
    "print(\"The Test set entails:\", len(test), \"items\")  #20\n",
    "print(\"This Validation set entails:\", len(val), \"items\")   #10"
   ]
  },
  {
   "cell_type": "code",
   "execution_count": 12,
   "metadata": {},
   "outputs": [
    {
     "name": "stdout",
     "output_type": "stream",
     "text": [
      "Training Data Shape: (1364, 2)\n",
      "Testing Data Shape: (390, 2)\n",
      "Validation Data Shape: (195, 2)\n"
     ]
    }
   ],
   "source": [
    "# pandas '.shape' to see dataframe in form of tuples (no. of rows / cols)\n",
    "\n",
    "print(\"Training Data Shape:\", train.shape)\n",
    "print(\"Testing Data Shape:\", test.shape)\n",
    "print(\"Validation Data Shape:\", val.shape)"
   ]
  },
  {
   "cell_type": "markdown",
   "metadata": {},
   "source": [
    "# Summaries of the distribution of comments by both labels (i.e. non-ironic = -1, ironic = 1)\n",
    "\n",
    "- use matplotlib to create THREE bar charts for visualisation for each of the sets:\n",
    "        (1) Train\n",
    "        (2) Validation\n",
    "        (3) Test"
   ]
  },
  {
   "cell_type": "code",
   "execution_count": 13,
   "metadata": {},
   "outputs": [
    {
     "data": {
      "image/png": "[encoded data removed]",
      "text/plain": [
       "<Figure size 576x432 with 1 Axes>"
      ]
     },
     "metadata": {},
     "output_type": "display_data"
    }
   ],
   "source": [
    "#TRAIN\n",
    "\n",
    "fig = plt.figure(figsize=(8,6))\n",
    "sns.barplot(x = train[\"Label\"].unique(), \n",
    "            y=train[\"Label\"].value_counts())\n",
    "\n",
    "plt.title(\"Training Data: Ironic vs Non-ironic Reddit Comments\")\n",
    "plt.ylabel(\"Number of Reddit Comments\")\n",
    "plt.xlabel(\"Irony Labels (Not Ironic=-1; Ironic=1)\")\n",
    "plt.show()"
   ]
  },
  {
   "cell_type": "code",
   "execution_count": 14,
   "metadata": {},
   "outputs": [
    {
     "data": {
      "image/png": "[encoded data removed]",
      "text/plain": [
       "<Figure size 576x432 with 1 Axes>"
      ]
     },
     "metadata": {},
     "output_type": "display_data"
    }
   ],
   "source": [
    "#VALIDATION\n",
    "\n",
    "fig = plt.figure(figsize=(8,6))\n",
    "sns.barplot(x = val[\"Label\"].unique(), \n",
    "            y=val[\"Label\"].value_counts())\n",
    "\n",
    "plt.title(\"Validation Data: Ironic vs Non-ironic Reddit Comments\")\n",
    "plt.ylabel(\"Number of Reddit Comments\")\n",
    "plt.xlabel(\"Irony Labels (Not Ironic=-1; Ironic=1)\")\n",
    "plt.show()"
   ]
  },
  {
   "cell_type": "code",
   "execution_count": 15,
   "metadata": {},
   "outputs": [
    {
     "data": {
      "image/png": "[encoded data removed]",
      "text/plain": [
       "<Figure size 576x432 with 1 Axes>"
      ]
     },
     "metadata": {},
     "output_type": "display_data"
    }
   ],
   "source": [
    "#TEST\n",
    "\n",
    "fig = plt.figure(figsize=(8,6))\n",
    "sns.barplot(x = test[\"Label\"].unique(), \n",
    "            y=test[\"Label\"].value_counts())\n",
    "\n",
    "plt.title(\"Testing Data: Ironic vs Non-ironic Reddit Comments\")\n",
    "plt.ylabel(\"Number of Reddit Comments\")\n",
    "plt.xlabel(\"Irony Labels (Not Ironic=-1; Ironic=1)\")\n",
    "plt.show()"
   ]
  },
  {
   "cell_type": "code",
   "execution_count": 16,
   "metadata": {},
   "outputs": [
    {
     "data": {
      "text/html": [
       "<div>\n",
       "<style scoped>\n",
       "    .dataframe tbody tr th:only-of-type {\n",
       "        vertical-align: middle;\n",
       "    }\n",
       "\n",
       "    .dataframe tbody tr th {\n",
       "        vertical-align: top;\n",
       "    }\n",
       "\n",
       "    .dataframe thead th {\n",
       "        text-align: right;\n",
       "    }\n",
       "</style>\n",
       "<table border=\"1\" class=\"dataframe\">\n",
       "  <thead>\n",
       "    <tr style=\"text-align: right;\">\n",
       "      <th></th>\n",
       "      <th>Label</th>\n",
       "      <th>Comment_Text</th>\n",
       "    </tr>\n",
       "  </thead>\n",
       "  <tbody>\n",
       "    <tr>\n",
       "      <th>254</th>\n",
       "      <td>-1</td>\n",
       "      <td>Matthews must mistakenly think that if O'Reill...</td>\n",
       "    </tr>\n",
       "    <tr>\n",
       "      <th>331</th>\n",
       "      <td>1</td>\n",
       "      <td>Yep it is hard to get a good education and the...</td>\n",
       "    </tr>\n",
       "    <tr>\n",
       "      <th>1141</th>\n",
       "      <td>-1</td>\n",
       "      <td>/r/nottheonion</td>\n",
       "    </tr>\n",
       "    <tr>\n",
       "      <th>1642</th>\n",
       "      <td>-1</td>\n",
       "      <td>About.  Fucking.  Time.</td>\n",
       "    </tr>\n",
       "    <tr>\n",
       "      <th>1064</th>\n",
       "      <td>-1</td>\n",
       "      <td>The perimeters around this relaunching were ke...</td>\n",
       "    </tr>\n",
       "  </tbody>\n",
       "</table>\n",
       "</div>"
      ],
      "text/plain": [
       "      Label                                       Comment_Text\n",
       "254      -1  Matthews must mistakenly think that if O'Reill...\n",
       "331       1  Yep it is hard to get a good education and the...\n",
       "1141     -1                                     /r/nottheonion\n",
       "1642     -1                            About.  Fucking.  Time.\n",
       "1064     -1  The perimeters around this relaunching were ke..."
      ]
     },
     "execution_count": 16,
     "metadata": {},
     "output_type": "execute_result"
    }
   ],
   "source": [
    "#check format of train df\n",
    "\n",
    "train.head()"
   ]
  },
  {
   "cell_type": "markdown",
   "metadata": {},
   "source": [
    "# Split train set into \"Ironic\" and \"Not-ironic\" dataframes, then convert each into a 2 dictionaries"
   ]
  },
  {
   "cell_type": "code",
   "execution_count": 17,
   "metadata": {},
   "outputs": [
    {
     "name": "stdout",
     "output_type": "stream",
     "text": [
      "Training data contains 387 IRONIC comments\n",
      "Training data contains 977 NON- IRONIC comments\n"
     ]
    }
   ],
   "source": [
    "#Split the training set into Ironic and Not ironic, making 2 new dfs, with same headers\n",
    "ironic_df = train[train[\"Label\"] >= 1]\n",
    "nonironic_df = train[train[\"Label\"] <= -1]\n",
    "\n",
    "print(f\"Training data contains {len(ironic_df)} IRONIC comments\")\n",
    "print(f\"Training data contains {len(nonironic_df)} NON- IRONIC comments\")"
   ]
  },
  {
   "cell_type": "code",
   "execution_count": 18,
   "metadata": {},
   "outputs": [
    {
     "name": "stdout",
     "output_type": "stream",
     "text": [
      "387\n",
      "977\n"
     ]
    },
    {
     "name": "stdout",
     "output_type": "stream",
     "text": [
      "{331: {'Label': 1, 'Comment_Text': 'Yep it is hard to get a good education and therefor a good job when you are home schooled by the home schooled.'}, 25: {'Label': 1, 'Comment_Text': \"So the question during their Twitter Q&amp;A about washing the sleaze off with a regular shower or with baby tears has been answered... it's baby tears while removing candy from said baby.\"}, 1225: {'Label': 1, 'Comment_Text': 'They hate us for our freedom.'}, 516: {'Label': 1, 'Comment_Text': 'Did he talk at all about how he places personal religious beliefs over the civil rights of others?'}, 117: {'Label': 1, 'Comment_Text': '&gt; \"Here\\'s a picture of my house\"\\n\\nOh?  you dont have a house?  why not?'}, 422: {'Label': 1, 'Comment_Text': \"Hell the KochGangsters bought Wisconsin they don't have to bother with little things like laws anymore.\"}, 1687: {'Label': 1, 'Comment_Text': 'Hey, in his defense the original constitution had no problem with slavery and put women in a lower social class.  Sounds biblical to me...'}, 335: {'Label': 1, 'Comment_Text': 'It would have been nice for the photo to be captioned with an explanation of the infamous event being depicted: Ryan \"washes\" already clean dishes at a soup kitchen that he made reopen late for his photo-op.'}, 673: {'Label': 1, 'Comment_Text': 'Well let me tell you...'}, 1790: {'Label': 1, 'Comment_Text': \"Takers come in all forms.    Vets.   Welfare queens.   Widows.   People who own COLOR TV's.    Orphans. \\n\\n\\n/s\"}, 1350: {'Label': 1, 'Comment_Text': \"Only to keep them from being embarrassed, because they're such obvious moral failures they would rather have privacy while they find their bootstraps to pull themselves up with.\"}, 1151: {'Label': 1, 'Comment_Text': \"I wish.  And if it is really happening it will be interpreted by some hardcore religious blockheads as God's intention when he/she/it realized we were not worthy of worshiping him.. Of course, he/she/it knew it from the start.\"}, 236: {'Label': 1, 'Comment_Text': 'Good luck, Wendy.'}, 162: {'Label': 1, 'Comment_Text': 'American Royalty.'}, 1500: {'Label': 1, 'Comment_Text': \"And we are all a bunch of young white males who aren't being inclusive enough.\"}, 1570: {'Label': 1, 'Comment_Text': 'I think just as tons of more \"liberal\" people have been twisting the Pope\\'s words for sensationalist headlines (and then when corrected seem to blame anything or anyone other than their own initial misconception), this is also a pretty sensationalist headline from the other side.   I think this article is *slightly* more honest than the NY Times or Huffington Post was (not saying much), it still misses the point entirely.  \\n\\nVatican Headline:  \"Pope: Lord save us from the subtle conspiracies of worldliness\"\\n\\nAsiaNews Headline: \"God save us from the \"hegemonic uniformity” of the \"one line of thought\", \"fruit of the spirit of the world that negotiates everything” even faith\"\\n\\nFree Republic Headline: \"God save us from the \"hegemonic uniformity” of the \"one line of thought\" (Slams progressives)\"\\n\\nThe Gateway Pundit (posted to r/Christianity): \"POPE FRANCIS Blasts Progressive Movement – “The Fruit of the Devil”\"\\n\\nAnd of course the latter will get more pageclicks, just like \"Pope Says Church Is ‘Obsessed’ With Gays, Abortion and Birth Control\" got way way more pageclicks than \"A Big Heart Open to God\".   \\n\\n *Worldliness* is the Spirit of the Devil.   Some progressives consider any proverbial \"move forward\" as being more important than their own fidelity to the Faith.   (You can see this sometimes in other threads on r/Christianity--\"the church needs to \\'catch up\\' to the rest of the culture on ______ issue! \")  This is a product of worldliness.'}, 209: {'Label': 1, 'Comment_Text': \"Work, ain't nobody got time for dat!\"}, 1645: {'Label': 1, 'Comment_Text': 'False equivalence: \"I\\'m right, you\\'re wrong.  Now that we\\'ve established that as the basis of discussion, we can progress as equals. \"'}, 1621: {'Label': 1, 'Comment_Text': \"That's because Republicans don't want poor people to vote.   Those cheeky bastards.\"}, 1695: {'Label': 1, 'Comment_Text': 'she needs to take a dirt nap soon..'}, 445: {'Label': 1, 'Comment_Text': 'The ACA website is a 1000 times better than the Republican IDontCare. gov healthcare website.'}, 937: {'Label': 1, 'Comment_Text': 'I observe this every day. \\n\\nIf you talk to a \"right winger\" in Fox news terms, then they *hate* big government, Obama, socialized medicine, taxes, etc etc etc. \\n\\nTalk to them about *actual* programs, and suddenly they are actually for almost every government program in existence.'}, 866: {'Label': 1, 'Comment_Text': \"Don't forget the good news: 24% of those surveyed were atheist!\"}, 713: {'Label': 1, 'Comment_Text': '&gt;&gt;\"It\\'s not radical, its not extreme cause we all believe it\"\\n\\nThat\\'s pretty hilarious...  \\nYes you are all radicals.'}, 1802: {'Label': 1, 'Comment_Text': \"Anybody else find it hilarious this came from the guardian and not an American based news source?  Gee I can't imagine why...\"}, 1030: {'Label': 1, 'Comment_Text': \"6% of American's clicked the wrong button.\"}, 103: {'Label': 1, 'Comment_Text': 'http://en. wikipedia. org/wiki/The_System_Has_Failed'}, 1248: {'Label': 1, 'Comment_Text': 'Great, so who goes to jail?  No one?  So, business as usual.'}, 1467: {'Label': 1, 'Comment_Text': 'Jesus Christ, she still exists?'}, 1055: {'Label': 1, 'Comment_Text': 'Liberals truly believe the ends justify the means.'}, 1347: {'Label': 1, 'Comment_Text': 'Please give him something to keep him in the US, we dont need him back in the UK.'}, 985: {'Label': 1, 'Comment_Text': \"Let me bully a Park Ranger doing their job under difficult circumstances I helped bring on.  Wait... a different and accurate viewpoint?   I'm out.\"}, 1808: {'Label': 1, 'Comment_Text': \"Poor Lindsey, go pickup some tissues and a bucket of ice cream and head over to John McCain's house, I hear he's pretty down in the dumps himself.\"}, 1585: {'Label': 1, 'Comment_Text': 'Both these guys  need a swift kick in the balls.'}, 1925: {'Label': 1, 'Comment_Text': \"I'm going to use this comment without giving credit to you.\"}, 1148: {'Label': 1, 'Comment_Text': 'Ok, I only have one x chromosome...  but *I* feel patronized.'}, 324: {'Label': 1, 'Comment_Text': 'The NSA can spy on the *future*!?   Okay, this *is* getting scary.'}, 1057: {'Label': 1, 'Comment_Text': \"Don't we give people meds for seeing or belivinbelieving in things they think are real?\"}, 113: {'Label': 1, 'Comment_Text': 'Yo dawg, help an Airman out'}, 1604: {'Label': 1, 'Comment_Text': \"Well if they didn't want to die of hunger they should have worked harder when they were younger \\n\\n/republican.\"}, 1843: {'Label': 1, 'Comment_Text': 'The joke is that there might be *more* innovative people.  After all, real genuises have tended not to be so interested in money as they are so overwhelmingly interested in their work.  Did Mozart or Einstein need a ton of money?  Did they cry about not having three swimming pools and multiple Porches?  What if we were actually closing off the very best talent or simply ignoring it?'}, 1794: {'Label': 1, 'Comment_Text': 'Yes.  Just fucking yes.  Plus, if anyone criticizes her we can just call them sexist.  Its perfect.'}, 1939: {'Label': 1, 'Comment_Text': 'Moore is a big supporter of Veterans.   He runs an organization that focuses on getting Veterans jobs when they come home. \\n\\nHe is simply pointing out the hypocrisy of the vapid \"Support our troops\" types that actually don\\'t do a fucking thing to support our troops, and don\\'t even realize how bad off a lot of Veterans are when they come home. \\n\\nHere is an op-ed he wrote that explains his position pretty well:  [Those Who Say \\'I Support the Troops\\' Really Don\\'t](http://www. huffingtonpost. com/michael-moore/support-the-troops_b_2402749. html)\\n\\nP. S.   If you actually thought he was celebrating suicides of Veterans, you are probably mentally challenged.'}, 64: {'Label': 1, 'Comment_Text': \"Then why  was Hitler rejected from art school?  :p\\n\\nThere are particular facets of Card's books that I find really hard to reconcile with his real life bigotry.   In the later books, Ender is among the most rational and egalitarian characters I have ever read.   Card clearly understands diversity and tolerance better than most people, yet he flat out rejects them. \\n\\nIt's sad how much power Religion has to poison even great minds.\"}, 900: {'Label': 1, 'Comment_Text': 'Well, whether the government does anything or not, that percentage is likely to go down eventually...'}, 1335: {'Label': 1, 'Comment_Text': 'Yeah because Obama is not at all a communist.   He also hasn\\'t focused his entire life, including jobs, friends, mentors, \"religion\" and education exclusively around it.   He is a just a regular, good old capitalism loving, American patriot.'}, 41: {'Label': 1, 'Comment_Text': \"What's a Dennis Miller?\"}, 743: {'Label': 1, 'Comment_Text': '\"the environment\" ...  another strawman'}, 933: {'Label': 1, 'Comment_Text': '&gt; Our focus school and our Superintendent’s mandate that we improve education for students of color\\n\\nThen teach them what a damn sandwich is!'}, 1427: {'Label': 1, 'Comment_Text': \"If only they'd worked harder and gotten a third job, they would have been millionaires.\"}, 58: {'Label': 1, 'Comment_Text': 'Obama is god!!!!!!!!!'}, 1441: {'Label': 1, 'Comment_Text': 'This is all part of a broader conspiracy amongst the Seeker-Driven Movement to make public urination a Religious Hate Crime.'}, 499: {'Label': 1, 'Comment_Text': \"I'm sorry, but does anyone actually believe that the Slate article is meant to be taken seriously?  If so, there's some hard-hitting journalism over at The Onion that's sure to catch your interest, too.\"}, 197: {'Label': 1, 'Comment_Text': 'Yes, \"stolen\".  As if TradeFortress was the most trustworthy person to begin with.'}, 1307: {'Label': 1, 'Comment_Text': 'I agree, hes definitely doing what his constituents elected him for.  Unfortunately, they elected him based on a lot of hearsay that he himself has contributed to.'}, 644: {'Label': 1, 'Comment_Text': 'What I want to know, what has he down that 37% of people approve of?'}, 1120: {'Label': 1, 'Comment_Text': '&gt;You deal with it and you move on, but “casual sex” has taken its chunk and you’ll never get it back. \"\\n\\nBecause if you cross that line.  God can NEVER restore you.  You are permanently damaged goods.  You\\'ll never know TRUE intimacy. \\n\\nWhat insane rambling is this?  \\n\\nIs this guy a believer or does he just think he is?  I can\\'t tell.'}, 654: {'Label': 1, 'Comment_Text': \"&gt;But its ideals of freedom of speech, freedom of religion, and tolerance are closer to America’s ideals than any other country’s in its region. \\n\\nLast time I checked, destroying Palestinian villages and seizing their land for Israeli use wasn't a definition of tolerance or religious freedom.\"}, 520: {'Label': 1, 'Comment_Text': 'bet the GOP wont try to repeal the patriot act 42 times.'}, 320: {'Label': 1, 'Comment_Text': \"How is it possible that this cocksucker isn't in prison yet?\"}, 1221: {'Label': 1, 'Comment_Text': \"I'd like to see her abolish corporate personhood.\"}, 328: {'Label': 1, 'Comment_Text': 'Always ironic to see a guy like Reich, who\\'s already made more money than he\\'ll ever need, lecture the \"New Rich\" on how they are too greedy.'}, 1017: {'Label': 1, 'Comment_Text': 'yes, blow up the financial sector, what could possibly go wrong??'}, 1917: {'Label': 1, 'Comment_Text': 'Bachmann is nothing if not persistent, her pigheaded refusal to accept facts and give up her delusions border on a personality disorder.'}, 86: {'Label': 1, 'Comment_Text': 'Seems like all is forgiven regarding the Republican brinkmanship caused government shutdown.'}, 896: {'Label': 1, 'Comment_Text': 'Moderate democrats are important for us to hold majorities and allow procedural votes to move forward.  I live in a moderate district, supporting a moderate democrat gives us a chance, rather than the congressman I have now who likes to jump naked in the sea of galilee.'}, 1622: {'Label': 1, 'Comment_Text': '\"They never ask these questions to Jews or Christians. \"\\n\\nOh the martyrdom.'}, 398: {'Label': 1, 'Comment_Text': 'A chuckle-worthy irony.'}, 17: {'Label': 1, 'Comment_Text': \"It's amazing how Democrats view money.  It has to come from somewhere you idiots and you signed up to foot the bill.  Congratulations.\"}, 1351: {'Label': 1, 'Comment_Text': 'American Jews have pretty much never supported Israel in lockstep.  Rather, their support base in the states comes from the born again Christians and Evangelicals.'}, 1729: {'Label': 1, 'Comment_Text': 'Heaven forbid that those kids might be allowed to actually think for themselves.'}, 1840: {'Label': 1, 'Comment_Text': \"Religions ain't over 'til the magic brownies say so.\"}, 928: {'Label': 1, 'Comment_Text': 'Dumbasses.  There is no \"healthcare. gov\" web site.  It\\'s hosted by Akamai, which means there are hundreds of them, each running on whatever Akamai server is close to your provider.  Good luck taking that down.... \\n\\nThe tea party website on the other hand, has no such distributed server network....'}, 1096: {'Label': 1, 'Comment_Text': 'They are working on hormones to add to the chickens that shrink our penises and make us bad drivers so that they theses stereotypes will be irrelevant in the future.'}, 1433: {'Label': 1, 'Comment_Text': \"So it's the same policy toward illegal aliens.\"}, 1069: {'Label': 1, 'Comment_Text': \"Yep he had lots of flaws fortunately being a bad sci-fi writer wasn't one of them.\"}, 589: {'Label': 1, 'Comment_Text': \"That's it.  I'm moving to the moon.\"}, 934: {'Label': 1, 'Comment_Text': \"Even when they're stupid they still think they're smarter than us.\"}, 253: {'Label': 1, 'Comment_Text': 'His career is copied from his father.   His positions are copied from the Tea Party.   His name is even copied from Ayn Rand!'}, 244: {'Label': 1, 'Comment_Text': \"Yup!  Don't know why more Christians don't follow this.  \\n\\nOh, wait,  its not hateful and it doesnt further their agenda.\"}, 613: {'Label': 1, 'Comment_Text': 'Hey guys.   Apparently this article meant what it seems and we should all vote it down.'}, 32: {'Label': 1, 'Comment_Text': 'wouldn\\'t some of the door knockers see this as \"a test\" and knock anyway? \\n\\ni don\\'t get many door knockers where i live, The 2 times its happened i just answered the door in my underwear and say a polite \"kindly fuck off\" and that worked.'}, 1126: {'Label': 1, 'Comment_Text': 'Texas Pride = The ability to continually elect mental deficients to Congress.'}, 206: {'Label': 1, 'Comment_Text': 'You got what you wanted then.'}, 47: {'Label': 1, 'Comment_Text': 'Skanks, the lot of them.'}, 863: {'Label': 1, 'Comment_Text': 'You are using stereotypes to fight racism.  Bravo'}, 1277: {'Label': 1, 'Comment_Text': \"You mean they've learned nothing by another public, massive defeat?   Shocking.\"}, 6: {'Label': 1, 'Comment_Text': \"It's not like automation has eliminated the need for any manual labor since the 40 hour work week was established or anything.\"}, 1870: {'Label': 1, 'Comment_Text': 'And right after this [someone in the audience fainted](http://www. youtube. com/watch? v=7J80mVXvs64).  Obama was able to pick them out in a crowd of people, diagnose the issue as not serious from the stage, and then get them some water.  \\n\\nHow could anyone not love such a compassionate and caring leader?'}, 1136: {'Label': 1, 'Comment_Text': 'Fuck the Bronze Age.'}, 221: {'Label': 1, 'Comment_Text': \"I thought even a child could understand that giving money to rich people doesn't make poor people any better off.\"}, 971: {'Label': 1, 'Comment_Text': \"I don't know why you're being downvoted for speaking the truth here.  Democrats are no angels.  What is this?  [R/liberal? ](http://www. reddit. com/r/liberal)\"}, 1883: {'Label': 1, 'Comment_Text': 'Does it comes in agp?'}, 1691: {'Label': 1, 'Comment_Text': 'THE EMPEROR HAS NO CLOTHES!'}, 1407: {'Label': 1, 'Comment_Text': '\"It will never be pretended that any persons employed in that service [making the constitution] had any interviews with the gods, or were in any degree under the inspiration of heaven\"\\n-John Adams'}, 536: {'Label': 1, 'Comment_Text': \"Seems like a really terrible article to me.  Yeah, let's gloss over the police state this nation has basically become, and blame Wall Street.  Lots of stupid in that article.  I'm guessing that's why there are lots of upvotes, yet no discussions.\"}, 437: {'Label': 1, 'Comment_Text': 'All the more reason to cut billions from food stamps.  Darned freeloading starving seniors.'}, 906: {'Label': 1, 'Comment_Text': \"That's how I like to play monopoly!\"}, 247: {'Label': 1, 'Comment_Text': \"I have had one for almost a year and I don't think that I have even ever plugged it in...\"}, 228: {'Label': 1, 'Comment_Text': '&gt;every time I pay my new premium, I am paying into a system that makes it possible for my fellow Americans who have not been as lucky as me—people who really have been losers pre-ACA—to finally get affordable health care. \\n\\nSocialism.  Evil, anti-American, anti-Christian socialism.  Right there.'}, 1037: {'Label': 1, 'Comment_Text': \"Should've made a joke about sending her off to Pakistan or being honor killed for embracing western values.\"}, 795: {'Label': 1, 'Comment_Text': 'This is why his nickname is \"Handy J.  Olsteen.. \"'}, 1078: {'Label': 1, 'Comment_Text': '\"In 2010, more than 20 percent of Texas charter schools reportedly had a religious affiliation. \"\\nAnyone else surprised that the percentage is that low?'}, 1681: {'Label': 1, 'Comment_Text': \"Well, you know, when you're right about everything why bother listening?\"}, 1038: {'Label': 1, 'Comment_Text': 'Sad to say, that line worked on several conservatives I know.'}, 932: {'Label': 1, 'Comment_Text': \"Perfect example: me. \\n\\nI pay about $6000 per year for health insurance.    Never had to use it until this year.   (Pain in kidney area, trace amount of blood in urine, dehydrated a lot, working outdoors in the south)\\n\\nGee, I bet I have a kidney stone...  Google agrees\\n\\n\\n$6000 insurance\\n\\n$1000 deductible\\n\\n$1000 in co-pays, 20% of bills for cancer tests, two rounds of x-rays, ultrasound, etc... \\n\\n$8000 paid so far.   Guess what?   I have a kidney stone. \\n\\nGood news, there's a procedure available that smashes the stone, but you have to be anesthetized, needs more tests before we can put you out, bloodwork, EKG... \\n\\nAnother couple hundred dollars. \\n\\nAnd the procedure?   I will owe 20%, which is $3000. \\n\\nI don't have another $3000, so I can't really afford to have it done.   Am I risking future kidney function?   Possibly, yes. \\n\\nTotal bill for kidney stone: \\n\\n$5000\\n\\n$6000 for insurance\\n\\n\\n\\n$11,000 Total, if I want treatment.   If not, suffer.   I can't currently afford it, so.... \\n\\nAwesome, huh? \\n\\nEDIT: Oh BTW, my deductible re-sets at the first of the year, so if I don't get this done before xmas, it will cost $1000 more next year. \\n\\n\\nTL:DR Fuck you America.   Get your shit together.\"}, 55: {'Label': 1, 'Comment_Text': \"If you can't win on substance, win on a technicality: GOP creed.\"}, 1444: {'Label': 1, 'Comment_Text': \"I could get behind that.  They make beer for members, sell it to help support their church, and part of the money they bring in goes to the community. \\n\\nBut god still doesn't exist.\"}, 668: {'Label': 1, 'Comment_Text': 'I would love to see every Walmart employee go on strike 10 minutes before Black Friday opening.  Then watch as all the greedy consumers burn the place to the ground. \\n\\nCapitalism at its finest.'}, 234: {'Label': 1, 'Comment_Text': 'What a steaming pile of horseshit.   I guess democrats have all the answers to all the world\\'s problems and republicans have nothing good to say whatsoever.   We can just dismiss them all.   \\n\\nThis kind of thinking is what\\'s wrong with partisan politics, and as a matter of fact it\\'s what\\'s wrong with most religious thinking as well.   \"We have all the answers and we\\'re not going to talk you because you\\'re wrong. \"  It\\'s so childish.'}, 722: {'Label': 1, 'Comment_Text': \"He's obviously making this up.  He may not realize that, though.\"}, 1569: {'Label': 1, 'Comment_Text': 'Gridlock is great when you are an oligarch operating under a corrupt tax scheme with all aspects of government locked in your favor and against the interests of 99. 99% of the population. \\n\\nThe stupidity of these remaining poor tea party folks is stunning, holding a gun to their own heads to rob the nation blind for the likes of the Koch brothers.'}, 1544: {'Label': 1, 'Comment_Text': '*Hands off my medicore! *'}, 1200: {'Label': 1, 'Comment_Text': \"Holy shit!  I just realized I'm killing future children right now.   This must be rectified imediately.\"}, 925: {'Label': 1, 'Comment_Text': '&gt;In dentists’ and doctors’ offices, hearing aid centers and pain clinics, American health care is forging a lucrative alliance with American finance.  A growing number of health care professionals are urging patients to pay for treatment not covered by their insurance plans with credit cards and lines of credit that can be arranged quickly in the provider’s office.  The cards and loans, which were first marketed about a decade ago for cosmetic surgery and other elective procedures, are now proliferating among older Americans, who often face large out-of-pocket expenses for basic care that is not covered by Medicare or private insurance. \\n\\nAmerican exceptionalism.'}, 449: {'Label': 1, 'Comment_Text': 'When did House Republicans declare Jihad exactly?  I must have missed that.'}, 931: {'Label': 1, 'Comment_Text': 'It nobody has noticed by now.  It does not matter what the majority wants.'}, 269: {'Label': 1, 'Comment_Text': 'If you remove the \"christian\" qualifier, you can see what a self-evident statement that is.  Progressives are consistently at the forefront of social justice?  YOU DON\\'T SAY! \\n\\n[How come this headline gets to be President of Tautology Club?? ](http://xkcd. com/703/) Huh?  ;]'}, 714: {'Label': 1, 'Comment_Text': 'Happy Veterans Day!'}, 699: {'Label': 1, 'Comment_Text': \"so the article is saying my generation is down to earth and the previous generation is to superstitious \\n\\nit is clear; from now on, I should make all important decisions in our family, because clearly I'm way more rational, exactly what I've been saying since I was 6 years old\"}, 1292: {'Label': 1, 'Comment_Text': 'So, everyone should love pedophilia?'}, 406: {'Label': 1, 'Comment_Text': 'Impose a $5,000 fee for normal citizens running their mouths, while allowing corporations to get away with things like destroying entire communities and ecosystems for free.  And we allow it.'}, 1493: {'Label': 1, 'Comment_Text': 'How can someone ban volunteers? \\n\\n\"Hi, I\\'m here to help out w/o asking for ANYTHING in return. \"\\n\\n\"Why do you want to do that? \"\\n\\n\"Because I care about the less fortunate and want to make a difference. \"\\n\\n\"WRONG ANSWER BITCH, IT\\'S TO GLORIFY GOD!   GET THE FUCK OUT! \"'}, 1546: {'Label': 1, 'Comment_Text': 'I believe nothing the Obama regime tells me, I believe a lot of what the Iranian one does. \\n\\n[**Iran threatens widespread retaliation against US and allies**](http://dailycaller. com/2013/09/10/iran-threatens-widespread-retaliation-against-u-s-and-allies/#ixzz2lo2bVVso)'}, 1471: {'Label': 1, 'Comment_Text': 'Three questions:\\n\\n1.  Did their previous insurance provide access to \"Family Planning\"? \\n\\n2.  Does the benefits package for executives cover \"Family Planning\"? \\n\\n3.  Does a Multi National Corporation with headquarters in Pakistan have the right to place their American employees under Sharia law? \\n\\nInquiring minds want to know. \\n\\nI\\'ll believe corporations have a soul when one is given Last Rites just before Texas executes it.'}, 1898: {'Label': 1, 'Comment_Text': \"Yeah, yeah, yeah, but if I dare bitch about buhraaack between bites of my turkey drumstick I'm right back in the KKK again as far as the libtards are concerned.\"}, 1198: {'Label': 1, 'Comment_Text': \"They are cops.  That's the difference.  They will get 2 weeks paid vacation.  Are you new in this country?\"}, 5: {'Label': 1, 'Comment_Text': \"Democrats don't know how to manage money?   Shocking!\"}, 604: {'Label': 1, 'Comment_Text': \"And that brave, patriotic, pro-life Navy SEAL champion's name was Albert Einstein.\"}, 703: {'Label': 1, 'Comment_Text': 'Is it plagiarism if they ghost wrote the book for him in the first place?'}, 246: {'Label': 1, 'Comment_Text': \"I guess the mods have dictated that this is now an acceptable domain, but don't you dare try to post from any of the others!  We can't let people think for themselves, now can we?\"}, 1928: {'Label': 1, 'Comment_Text': 'Utah:  Our Jesus can beat up your Jesus. \\n\\nCan I get \"In Javier Morales We Trust\"'}, 1101: {'Label': 1, 'Comment_Text': 'EVERY nation that has surpassed the USA test scores in reading and math are nations with union teachers... but ask any Republican/Tea Party/conservative in the USA and they will go straight to \"it\\'s the teachers union. \"'}, 462: {'Label': 1, 'Comment_Text': \"To be fair, that's probably true for a society where women are currently cloistered: giving them the freedom to leave the house on their own will probably increase rates of shopping and drinking lattes at Starbucks, too.\"}, 1624: {'Label': 1, 'Comment_Text': \"&gt;“Selling some of your unwanted possessions on eBay or Craigslist could bring in some quick cash. ”\\n\\nThe content of the article doesn't match the title of the article. \\n\\nIt's like i'm reading /r/conservative\"}, 1207: {'Label': 1, 'Comment_Text': 'You mean like when his union buddies go on strike?'}, 1470: {'Label': 1, 'Comment_Text': \"She's not quiet, she's not revolutionary, and she's not going to run in 2016\"}, 1223: {'Label': 1, 'Comment_Text': \"Now if only he'd address his personal issues of pederasty.\"}, 1867: {'Label': 1, 'Comment_Text': \"It's sad that low-information liberals don't get the idea that stand your ground is the means for poor people to protect themselves from others attempting to bully them.   Stand your ground means you don't have to turn your back on a threat, which is often the worst thing you can do. \\n\\nHaving to be forced in the time of danger to try to determine if your back is truly against the wall (figuratively) in the face of a threat.   If the situation between the black young man and a Hispanic guy were switched, and the hispanic was driving the black guy's head into the asphalt for no reason other than his own rage, the vast majority of America would support the black man using lethal force to save his own life. \\n\\nIf you aren't in favor of stand your ground, you're either ignorant or you've got a gun control agenda.\"}, 492: {'Label': 1, 'Comment_Text': \"It's mind-boggling that it's that high.\"}, 1889: {'Label': 1, 'Comment_Text': \"Ouch. \\n\\nDon't hold back, tell us how you really feel.\"}, 918: {'Label': 1, 'Comment_Text': 'Is it a slide whistle?'}, 1534: {'Label': 1, 'Comment_Text': 'What\\'s sad is that trucking used to be a viable, respectable blue-collar career that would feed your family and provide dignity. \\n\\nUntil deregulation, and Republican-led initiatives to fire-then-rehire as \"independent contractors\" made it a race-to-the-bottom, amphetamine-fueled class of serfdom. \\n\\nYet these truckers blamed unions &amp; demonized \"liberals\", while rewarding their tormentors, for destroying their vocation as a desirable, honorable profession.'}, 950: {'Label': 1, 'Comment_Text': 'While I think the parents should burn.... \\n\\n&gt;Cook said, “I feel the punishment should match the outrage felt by this community. \"\\n\\nI don\\'t think that is, in general, a correct way to dole out punishment.'}, 1107: {'Label': 1, 'Comment_Text': '\"President\\'s words ~~have lost all~~ *never* had any meaning. \" FTFY'}, 1326: {'Label': 1, 'Comment_Text': 'Standard stuff here, nothing new.   Same old flawed foundations supporting poor arguments.   He \"owns\" himself, so he is somehow self-sovereign and all humans ought to respect that asking nothing in return.   So he has a right to what he gets and no obligation to give in return.   Standard libertarian nonsense.'}, 1170: {'Label': 1, 'Comment_Text': 'When was it ever a haven for free speech?'}, 175: {'Label': 1, 'Comment_Text': 'Did he cut a large circular mouth hole?'}, 1065: {'Label': 1, 'Comment_Text': 'War is peace.'}, 1516: {'Label': 1, 'Comment_Text': \"Funny, we're in the same category as Canada, western Europe, Australia, and Japan despite the constant comparisons to them.\"}, 588: {'Label': 1, 'Comment_Text': 'In other news, Democrats want *everybody* to be owned by the State.'}, 591: {'Label': 1, 'Comment_Text': 'We know the Earth is vastly older than 10,000 years old for a huge variety of reasons.  Just to name a few:\\n\\nAmino acid racemization, Baptistina asteroid family, Continental drift, Coral, Cosmogenic nuclide dating, Dendrochronology, Distant starlight, Erosion, Fission track dating, Geomagnetic reversals, Helioseismology, Human Y-chromosomal ancestry, Ice layering, Impact craters, Iron-manganese nodule growth, Lack of DNA in fossils, Length of the prehistoric day, Lunar retreat, Naica megacrystals, Nitrogen impurities in natural diamonds, Oxidizable carbon ratio dating, Permafrost, Petrified wood, Radioactive decay, Relativistic jets, Rock varnish, Seabed plankton layering, Sedimentary varves, Space weathering, Stalactites, Thermoluminescence dating, and Weathering rinds.  Really though, this is just a short list.  Virtually all we currently understand about physics, chemistry, and geology leads us to a conclusion of an old Earth and universe.  All of the evidence we currently have available indicates this. \\n\\n&gt;... and they are not taking in the account of a possible global flood... \\n\\nThere is no evidence to suggest that at any point in time Earth was fully covered with water or oceans.  Having \"never looked into it\" your confusion is understandable.  \\n\\nEdit: Like someone else said.  On an order of magnitude of how far off Creationists are it\\'s equivalent to believing that New York City and Los Angeles are like 20ft away from each other.'}, 151: {'Label': 1, 'Comment_Text': 'Wow, thanks for all the context, OP.'}, 281: {'Label': 1, 'Comment_Text': 'Hey look!  Someone who thinks The Administration is actually in charge. \\n\\nHow 90s.'}, 42: {'Label': 1, 'Comment_Text': \"Don't forget he's Canadian \\n\\nHe's chosen the dark side of fundraising, confused by lots of donations from angry GOP base who wouldn't vote for a Democrat if you literally paid them $5. \\n\\nThe fool doesn't realize that the quick and easy path will destroy him in the long run.\"}, 955: {'Label': 1, 'Comment_Text': 'I was coming on here to post this, but figured someone else already had.  It is in fact the perfect representation of hardcore right Christians.  Love thy neighbor... unless he has different beliefs, is gay, is a democrat, is from a different country, etc.'}, 1085: {'Label': 1, 'Comment_Text': \"Well it's the only way to stop that awful health care bill that they couldn't stop at the ballot box or in court.\"}, 438: {'Label': 1, 'Comment_Text': \"Even if you don't believe in God or Psychics, you gotta follow your gut man.\"}, 1535: {'Label': 1, 'Comment_Text': 'He used audacity'}, 425: {'Label': 1, 'Comment_Text': \"Is that not the correct thing to do?   I agree it was poor judgement to take the donation in the first place.   But let's not go all Benghazi about this.\"}, 1918: {'Label': 1, 'Comment_Text': 'Blame the veil covering all their peripheral vision.'}, 356: {'Label': 1, 'Comment_Text': \"Ask not what you can do for Supply Side Jesus, ask what Supply Side Jesus can do for you.   All by buying gold from my ministry's website!\"}, 726: {'Label': 1, 'Comment_Text': 'It should be pointed out that an amendment to Obamacare to allow people to buy prescription drugs from outside the US (a campaign promise of Barack Obama) was proposed (by John McCain of all people) and was killed by Democrats in the Senate at the behest of the Obama whitehouse. \\n\\nObama actually lobbied to kill his own campaign promise on this issue.'}, 855: {'Label': 1, 'Comment_Text': \"Christians can't be Republicans either, but you don't see that affecting them.   Jesus was all about helping the poor, giving out free healthcare, and kicking the moneychangers out of the temple.   He was also pretty cool with taxes, very anti-war, and non-judgemental.   \\n\\nDoesn't seem to stop Christians any from supporting the political party that's completely Anti-Jesus.\"}, 847: {'Label': 1, 'Comment_Text': \"You don't say?\"}, 94: {'Label': 1, 'Comment_Text': 'I honestly do not know if this article is for real... no one is that stupid... right??'}, 1168: {'Label': 1, 'Comment_Text': 'Never, is that soon enough?'}, 889: {'Label': 1, 'Comment_Text': 'It\\'s a novel way to \"balance your budget\".   Appropriate for spending and then just not pay the bill.'}, 1484: {'Label': 1, 'Comment_Text': \"Yeah, but guys, Politifact said this was half-true.  You just don't understand the nuance.  Serious you guys.\"}, 1640: {'Label': 1, 'Comment_Text': 'I thought this was r/firstworldanarchists with the favorite color being coke cola'}, 964: {'Label': 1, 'Comment_Text': \"The home team always hears cheers from the crowd, even in their worst seasons.  They wouldn't even know they were losing if it weren't for the numbers.\"}, 1877: {'Label': 1, 'Comment_Text': 'It\\'s important here to remember the words of Jesus when he said \"Let the little children come to me, and do not hinder them, for the kingdom of heaven belongs to such as these, until they make too much noise and then you can stare at their parents until they feel so awkward and ashamed and feel like they need to apologise for their children, and then they take their kids to a separate room. \"'}, 607: {'Label': 1, 'Comment_Text': 'Those are very common attributes, you should be a proud American.'}, 1487: {'Label': 1, 'Comment_Text': 'If the goal of economic policy since 1980 was to consolidate as much of the currency from the pockets of many into that of the few, job well fuckin done.'}, 212: {'Label': 1, 'Comment_Text': 'For the same reason mega churches are popular, and you keep hearing about a new, no investment needed real estate plan or method on the radio. \\n\\nGreed is easy.   Giving and caring is hard.'}, 1839: {'Label': 1, 'Comment_Text': 'Damn Ted, you must think gods a pussy.'}, 403: {'Label': 1, 'Comment_Text': \"Maybe Ken Cuccinelli Shouldn't Have Built His Campaign Around Sodomy.... because he sucks! \\n\\n**rimshot**\\n\\nthanks folks, i'll be here all week!\"}, 989: {'Label': 1, 'Comment_Text': 'I\\'ll take this as an improvement of sorts.  Silly as this stuff is, it\\'s far less damaging than organized religion.  \\nIt\\'s embarrassing now, but as a teenager I was interested in \"magik\".  I read thousands of pages of Aleister Crowley and even that fake \"Necronomicon\" that used to circulate.  So esoteric.  So cool.  \\n\\nThe kids will wise up eventually.  Even if they don\\'t, I\\'ll take goddess worshipers, Tarot readers and other occultists over monotheists any day.  \"Harm ye none, do what ye will\" is far more congenial than the bloody-mindedness of the Bible or Qur\\'an.'}, 1094: {'Label': 1, 'Comment_Text': 'Boy do I love being told that we live in a Christian nation.  So are Jews, Hindus, Muslims and Buddhists all second class citizens? \\n\\nPolitical views aside, I\\'m curious how these \"US=Christian Nation\" people feel about Eric Cantor, the House Majority leader (and highest ranking Jew in the history of Congress).  I would think he disagrees that we\\'re a Christian nation.'}, 881: {'Label': 1, 'Comment_Text': \"Patriotism?  We're Christians, not patriots.  I love all of humanity, not just 'MURICA.\"}, 885: {'Label': 1, 'Comment_Text': 'Imagine if schools spent $70 million on education.'}, 723: {'Label': 1, 'Comment_Text': \"A press release right before a long holiday.  Surely this isn't an attempt to bury such big change in policy.\"}, 910: {'Label': 1, 'Comment_Text': \"I like how the second poll doesn't give an option to blame congressional Democrats.\"}, 1438: {'Label': 1, 'Comment_Text': \"It's bad, approval among black Americans has fallen to a “staggering” 93. 6%.\"}, 880: {'Label': 1, 'Comment_Text': 'The ironic thing about Christie is that liberals like him because he is nice to Obama, and conservatives hate him for the same reason.'}, 594: {'Label': 1, 'Comment_Text': 'So when they went to private ownership, they just magically developed over night a deep knowledge of crops, animals, environment, and farming techniques?'}, 1035: {'Label': 1, 'Comment_Text': 'Obamacare is much more than the website.  My grandmother is already saving $100 a month in RX costs because the ACA mandated changes in drug costs for seniors. \\n\\nA glitchy website in the first few weeks was expected.  People still will have plenty of time to sign up. \\n\\nThe GOP is like a bunch of airline passengers who think the plane will crash because the flight attendant is a little late in handing out the duty free menu.'}, 1692: {'Label': 1, 'Comment_Text': 'Oh look, a right-wing blowhard is talking out his ass.  Must be a day that ends in \"y\".'}, 1077: {'Label': 1, 'Comment_Text': \"Well I've heard that Mexicans and Blacks smoke it and then want to rape white women.   \\n\\nIt'll also be detrimental to the cotton industry...\"}, 46: {'Label': 1, 'Comment_Text': 'Must not be much going on for Congress this week.'}, 1034: {'Label': 1, 'Comment_Text': 'Welcome to /r/libertarian, Glenn Beck.'}, 1830: {'Label': 1, 'Comment_Text': 'In his letter of resignation, he said he wishied to spend more quality time with his klan.'}, 413: {'Label': 1, 'Comment_Text': 'Yes, the war on Christmas rears its ugly head once more.  This year we will not see blinking lights on houses, decorated trees in homes, christmas services at church, christmas products for sale in every store nor even a single christmas-related advertisement.  To make it worse, no one may own a bible any more or celebrate christmas in their own homes. \\n\\nIf you are jewish, muslim or a host of other religions, you are asked not to celebrate your own winter festivals as the mere presence of another holiday is a clear attack on christmas itself.  Also, if you are an atheist, your existence is an affront to freedom. \\n\\n/eyeroll'}, 1104: {'Label': 1, 'Comment_Text': 'No their primary motivation is to get money from the wealthy then do what  the wealthy want.'}, 390: {'Label': 1, 'Comment_Text': 'Surely they\\'ll offer an \"In TFSM We Trust\" version, right?  Or maybe \"Joseph Smith Lied\"?'}, 1226: {'Label': 1, 'Comment_Text': \"So you can easily imagine levels of selfish treachery that did not exist back when top marginal rates were very high, but you have trouble imagining that visionaries who don't get to keep most of their personal economic gains would continue to innovate?   It sounds to me like the problem is with your imagination, not any particular tax proposal.\"}, 895: {'Label': 1, 'Comment_Text': 'Lets start with mandatory drug testing.   That will inspire some people like this gal to get a job so they can buy drugs with no penalty.'}, 959: {'Label': 1, 'Comment_Text': 'The Gaywakening.   I wonder why it took them so long to start disciplinary proceedings.'}, 190: {'Label': 1, 'Comment_Text': 'Great idea on the talkathon Cruz.  Really made the republicans look like the sane ones.'}, 1827: {'Label': 1, 'Comment_Text': \"In truth this has nothing to do with lobbying or cynical politics. \\n\\nThe uniforms created 8 years ago were horribly designed.  They universally stood out in every environment.  Supposedly the army did their extensive testing on colors and patterns to arrive at good uniform.  But then some top brass ordered them to use the marine digicam pattern (because it's cool and good for recruitment presumably) but to keep the new army colors.  Colors need to be designed specific to a pattern, hence the most ineffective cam since the British invaded (ok, slight overstatement). \\n\\nThis time I hope they do it right.  This is a great story about wasteful spending, but not so much about corruption.\"}, 194: {'Label': 1, 'Comment_Text': \"Quite frankly, it was Obama that made me independent.  I'm embarrassed to say I voted for him, and I'm not alone in saying that.  I've never voted Republican, and I don't support blocking the ACA like they are, but it's going to be several election cycles before I get duped into voting for another Democrat. \\n\\nAaannnndddd downvotes....\"}, 1245: {'Label': 1, 'Comment_Text': 'Mmmm.  A-H5N1.'}, 1010: {'Label': 1, 'Comment_Text': 'Jesus is not pleased with this division within His Body.'}, 1047: {'Label': 1, 'Comment_Text': 'The  point is you invite them on b/c your fanbase believes that and they want to see hannity \"destroy\" atheists on his show, b/c it is what they want.  It is a confirmation bias, they already know they are smarter than those selfish, egotistical atheists, and they need their gallant knight to show them how he slays their morrally repugnant leader using the reason and logic they try and use agains jesus.  Obviously the set up is to have hannity, a good debater go against someone ill prepared for his fast talking gotcha attack journalism, well this guy was ready.  Funny thing is, the christian conservatives that watch hannity, probably think ol\\' han desroyed this atheist.'}, 814: {'Label': 1, 'Comment_Text': \"The post talked about questions to conservatives. \\n\\nWhy did you change the topic to refer to 'reasonable people?\"}, 766: {'Label': 1, 'Comment_Text': 'Youth uninformed about politics?  Since when?!'}, 1744: {'Label': 1, 'Comment_Text': 'Legitimate criticism of Israel is 1) Seen as anti-semitism and 2) never legitimate because poor Israel has the whole world against them and they just want to live peacefully in the holy land. \\n\\nFuck Israel, the warmongers.'}, 1512: {'Label': 1, 'Comment_Text': \"Guns have what the ACA doesn't, point and click.\"}, 1911: {'Label': 1, 'Comment_Text': 'HAHAHAHAHAHAHAHAHAHA-\\n\\nwait...  are you serious?'}, 318: {'Label': 1, 'Comment_Text': 'omg anne rand is so dumb i was really into her when i was 13 then i grew up /s'}, 1508: {'Label': 1, 'Comment_Text': 'You can still be first to leave a comment on that site.'}, 316: {'Label': 1, 'Comment_Text': 'so 93 million lose coverage so that the 45million who dont have coverage... can maybe get it'}, 303: {'Label': 1, 'Comment_Text': '&gt;  It\\'s messed up you just think every conservative is the exact same when all democrats talk about is how \"open minded\" you are. \\n\\nThere\\'s your problem.  You decry conservatives being painted with a broad brush, then you paint \"all Democrats\" with an even broader brush. \\n\\nGet off the cross.  We need the wood.'}, 1716: {'Label': 1, 'Comment_Text': 'Well one can ensure that you and your family are protected while the other is just a silly healthcare law :P'}, 556: {'Label': 1, 'Comment_Text': 'Turn that shit into a drinking game.   Every time he says the word \"conversation\" do a shot.   And then die of alcohol poisoning :\\\\'}, 864: {'Label': 1, 'Comment_Text': '\"Money does grow off trees, right? \" -Liberal'}, 1185: {'Label': 1, 'Comment_Text': 'Study: Over 80% of Americans will re-elect their Congressman/men this fall.'}, 291: {'Label': 1, 'Comment_Text': 'If faith was stronger than the typhoon then why are all those people still dead?'}, 304: {'Label': 1, 'Comment_Text': 'My current plan was \"None\". \\n\\nMy total healthcare costs over the past five years were $190.  I visited a doctor twice for a sleeping problem.  Two $95 visits.  Paid cash. \\n\\nIf I had insurance, the deductible being higher, those visits wouldn\\'t get paid.  My total costs *would* have been at least $9,190-$18,190, depending on whether my employer pays half. \\n\\nI miss None.'}, 365: {'Label': 1, 'Comment_Text': \"I'm still protesting the teaching in schools of Heliocentrism as perpetrated by the convicted fraud and known huckster Galileo.  If Geocentrism was good enough for Jesus then it's good enough for me.\"}, 1891: {'Label': 1, 'Comment_Text': \"Well at least you're honest. \\n\\nUnfortunately, paying for things is kind of expected.  Definitely not as much as what they're asking, but no money means no Game of Thrones for us to pirate. \\n\\nI prefer taking a moral middle ground -- I look on what streaming services I have available in Canada, and if it's not there...  Then yes, there's that wonderful Swedish site everyone loves. \\n\\nWhich of course means I'm pretty much always going Swedish.  Or using region unblockers.  Thanks, content distributors, for ignoring everyone outside of the US!\"}, 1458: {'Label': 1, 'Comment_Text': 'Washington, D. C.  Surpasses New York, L. A.  as Fastest Growing Region of Wealth\\nhttp://www. weeklystandard. com/blogs/washington-dc-surpasses-new-york-la-fastest-growing-region-wealth_767299. html\\n\\n7 of the 10 richest counties in D. C. \\nhttp://www. forbes. com/sites/tomvanriper/2013/04/25/americas-richest-counties/'}, 1618: {'Label': 1, 'Comment_Text': 'Christian American Patriots Militia - so Nazi brown shirts then.'}, 1166: {'Label': 1, 'Comment_Text': 'So... they purchased these books, which by extension funds further prints of these books, just so they could burn these books thus limiting the potential supply.  And this burning of these books does what exactly, save for leading to more printings of those bibles?'}, 373: {'Label': 1, 'Comment_Text': \"And?   Even the Republican base doesn't want the current Republicans in control of Congress!   That's why so much anti-incumbent rhetoric exists right now.   Poll says nothing.\"}, 948: {'Label': 1, 'Comment_Text': \"All Obama has to do is pick up the phone and give Boehner a call.  And also cave in to all of the GOP's insane demands and then impeach himself.  Also something something Benghazi.\"}, 1732: {'Label': 1, 'Comment_Text': 'A smart guy like Bill Nye should know the moon is made of glowy stuff.'}, 1536: {'Label': 1, 'Comment_Text': 'I saw you driving that car you filthy whore...'}, 138: {'Label': 1, 'Comment_Text': \"Turtle guy, who said his primary goal was to deny Obama a second term is reasonable and willing to negotiate now. \\n\\nYeah.... and I'm a Chinese jet pilot.\"}, 599: {'Label': 1, 'Comment_Text': 'They are still trying to figure out how to backtrack on the Southern Strategy.  Give them a few decades, maybe they will come up for something good for climate change.'}, 1405: {'Label': 1, 'Comment_Text': 'Good luck, starting your driver-less car with out a google plus account :)'}, 1400: {'Label': 1, 'Comment_Text': 'Can\\'t stand Obama.   Agree with him here 100%.  \\n\\nI\\'m guessing one of the aides had to pull him aside after this.  \"Umm... mister president.... yeah.... ummmm.... \"'}, 142: {'Label': 1, 'Comment_Text': \"Here's the logic.  I claim to not believe in Unicorns because I'm ANGRY at Unicorns.  Make sense?\"}, 1323: {'Label': 1, 'Comment_Text': \"&gt;$7,000 fine\\n\\nIt's insane that one of the largest businesses in the world would refuse to pay this, but it's Walmart.  Is anyone surprised?\"}, 620: {'Label': 1, 'Comment_Text': \"The funny thing is he thinks he's helping.\"}, 1388: {'Label': 1, 'Comment_Text': 'Mitch was doing a petty good job of that himself.'}, 987: {'Label': 1, 'Comment_Text': 'Its almost as if there is a concerted disinformation campaign trying to confuse people about Obamacare.'}, 360: {'Label': 1, 'Comment_Text': 'Someone being the foremost expert in a subject is pretty impressive.   That single person having more knowledge and experience of a single subject that any other human alive.   She is the foremost expert of FOUR separate subjects.   Wow. \\n\\n\\nno.'}, 1515: {'Label': 1, 'Comment_Text': 'Why do I get the impression the tea party is nothing but a bunch of old racist white men who would rather bring the country down with them, than let president do his job?'}, 741: {'Label': 1, 'Comment_Text': 'Obama calls it Obamacare.'}, 1597: {'Label': 1, 'Comment_Text': 'yea, and some survived it.'}, 1086: {'Label': 1, 'Comment_Text': 'Shock.'}, 1289: {'Label': 1, 'Comment_Text': \"I'm not a Vietnam vet, but I am an Iraq vet and I got out at E-5.   I disagree with this letter strongly.   Not that vets day shouldn't be a school holiday, but at going after MLK day.   Really?   How petty is that? \\n\\nI do draw the line at Memorial Day though.   That is more important to me than Veterans Day.\"}, 1630: {'Label': 1, 'Comment_Text': '&gt; The Democratic National Committee has actually purchased the domain for YourRepublicanUncle. com\\n\\nstereotype much?'}, 238: {'Label': 1, 'Comment_Text': \"Well I suppose as long as I keep my chain saw on idle and don't point it at anyone I should be able to walk around town with it and nobody should be concerned, right?\"}, 16: {'Label': 1, 'Comment_Text': 'Because the Reddit Liberal Brigade™ would downvote it to oblivion within minutes?  Does that sound about right?'}, 638: {'Label': 1, 'Comment_Text': \"He's no Mark Warner but he's also no Cuccinelli.\"}, 315: {'Label': 1, 'Comment_Text': 'Or: Lavabit gets forged SSL key from compromised service providers.  Unwittingly gives feds access to active users data....  Godaddy?  Come On Son.'}, 1810: {'Label': 1, 'Comment_Text': 'Is the island really sinking, or is the sea level rising around it?'}, 938: {'Label': 1, 'Comment_Text': 'America gets in their way.'}, 1632: {'Label': 1, 'Comment_Text': '\"Repeal Obamacare or we start killing kittens. \" - the GOP\\'s next bright idea'}, 233: {'Label': 1, 'Comment_Text': 'How surprising that a Republican Congressman from Texas should turn out to be a giant hypocritical asshole.  That almost never happens.'}, 261: {'Label': 1, 'Comment_Text': 'Good thing he was born in Canada.'}, 829: {'Label': 1, 'Comment_Text': 'Nice budget PC there.'}, 458: {'Label': 1, 'Comment_Text': 'Republican = bad politicians and Democratic = good politicians?'}, 1812: {'Label': 1, 'Comment_Text': 'If you concentrate, you can hear the BLEHHHHH STATES RIGHTS bleating from pro-life bloggers.'}, 1455: {'Label': 1, 'Comment_Text': \"But we know that we would.  We've had marginal rates at that level in the past and our Rockefeller's, Carnegie's and Edison's all stayed.  And people still flooded into this country and tried to be worthy of those high tax rates.\"}, 1613: {'Label': 1, 'Comment_Text': \"Poll: Americans Don't Want Republicans or Democrats In Control Of Congress.\"}, 1139: {'Label': 1, 'Comment_Text': 'I had no idea we had this problem with Barack until I read the same reddit article that you did.'}, 882: {'Label': 1, 'Comment_Text': '&gt;\"Believers are more likely to say that God has significant power over weather and disasters. \"\\n\\nNo shit, Sherlock.  It\\'s like saying that people who eat meat are more likely to eat a hamburger than are vegetarians/vegans\\n\\nEdit: formatting'}, 271: {'Label': 1, 'Comment_Text': 'Politics: the dirtiest job of them all!'}, 836: {'Label': 1, 'Comment_Text': \"I wonder if the parents are the kind of people who worry about 'liberal reeducation camps', because the irony would be hilarious.\"}, 274: {'Label': 1, 'Comment_Text': 'And is easily fooled by regular tape.'}, 1698: {'Label': 1, 'Comment_Text': 'Yes, I found this article pretty interesting.  Not at *all* reactionary.'}, 1602: {'Label': 1, 'Comment_Text': \"This is hardly Fox News... \\n\\n(I'm here all week. )\"}, 1819: {'Label': 1, 'Comment_Text': 'Ha!  Gaaaayyyy'}, 676: {'Label': 1, 'Comment_Text': 'Welcome black\\n\\nFtfy'}, 1468: {'Label': 1, 'Comment_Text': 'Obama is a center right moderate and he gets painted as a left wing radical.  If they are going to call whoever we nominate a radical, why not actually nominate a real liberal?'}, 557: {'Label': 1, 'Comment_Text': \"Isn't Texas that state that go bailed out for $75 billion by the fed gov during the S&amp;L crisis back in the 80's?\"}, 1416: {'Label': 1, 'Comment_Text': \"Don't they need it the MOST?\"}, 282: {'Label': 1, 'Comment_Text': 'It blows my mind that anyone could be pulling down six figures in a ministry position.  I wonder what the rabbi who forbade his apostles to carry money, food, or an extra change of clothing would think.'}, 1767: {'Label': 1, 'Comment_Text': \"No.  The drug wars havent murdered all of the Mexicans yet.  We need to hit at least 900k, the last 100k is free! \\n\\nBonus points if we can double our guns and munitions exports down there first too! \\n\\nBesides, legal marijuana money has to go to shitty government services like schools and medicaid.  If we put people into private prisons we can allow our glorious leaders to benefit from the prisons directly!  \\n\\nI just don't think you get it.  Putting other people in prison and killing brown people means **your freedom is even more valuable!  Yaaaaay!!!! **\\n\\nAlso, all of the experience in urban warfare will be useful when America begins its glorious domestic war against hackers and freedom hating protestor types.\"}, 1752: {'Label': 1, 'Comment_Text': 'It wants to keep the drug companies healthy.   Why cure when you can treat with medicine for the rest of ones life and get revenue all along the way.   That teamed with the bureaucracy and snails pace of advances sums it up.'}, 1121: {'Label': 1, 'Comment_Text': \"I'm sure the US news media would fairly and objectively cover any political leader who supported such an idea.\"}, 108: {'Label': 1, 'Comment_Text': 'This just in: pseudo scientists make claims using incomplete and insignificant data as proof- everyone believes them. \\n\\nIts like mythbusters.  Lets use a half assed bastardized scientific process and not thoroughly test'}, 44: {'Label': 1, 'Comment_Text': 'The EPA is in fact non essential.'}, 1773: {'Label': 1, 'Comment_Text': \"Facts don't matter to conservatives\"}, 1609: {'Label': 1, 'Comment_Text': \"There are already factories that convert co2 emissions into building materials: they're called forests\"}, 386: {'Label': 1, 'Comment_Text': \"I don't think you guys are on-board with how important it is to get every bit of carbon out of the ground and into the atmosphere.\"}, 268: {'Label': 1, 'Comment_Text': \"Darwinism would greatly conflict with Hitler's master race.  It would mean that the master race has evolved from some lower beings.\"}, 1892: {'Label': 1, 'Comment_Text': 'Congratulations on your successful surgery, praise God! \\n\\nAlso, you have enough beard to shame an Orthodox priest.'}, 336: {'Label': 1, 'Comment_Text': \"We already tried the whole unproven first term senator with little experience thing.  It didn't work out so well.  Liz has even *less* experience than Obama, so it's sure to work out great, right?  Makes perfect sense.\"}, 1192: {'Label': 1, 'Comment_Text': \"I'm a college professor. \\n\\nIncorrect attribution isn't what happened here.   He plagiarized.   \\n\\nI'd report him to the university, and he'd either get expelled or at least put on academic probation.\"}, 1232: {'Label': 1, 'Comment_Text': 'Impossible.  Obamacare kills jobs, I heard it on the talky and the picture box.'}, 1747: {'Label': 1, 'Comment_Text': \"Cry me a river, OP.  I'm thrilled that ENDA passed and fundies can't be discriminatory bigots in the workplace any longer.\"}, 1893: {'Label': 1, 'Comment_Text': 'Next up on Fox News: Is the Pope instigating class warfare?'}, 1462: {'Label': 1, 'Comment_Text': 'It surprises me that Republican congressmen use visual aids like this.  It just seems to be contradicting their talking points essentially telling Obama to butt out and concentrate on foreign affairs, leaving domestic issues to Congress.  But then they spend hours on the floor complaining about him negotiating with foreign leaders instead of acting as a liaison between Democrats and Republicans in Congress. \\n\\nI just wish Republicans would pick one or the other and run with it. \\n\\n*Edit for grammar'}, 484: {'Label': 1, 'Comment_Text': \"It's always good to see a lying president council another lying president on how to/not to lie.\"}, 1443: {'Label': 1, 'Comment_Text': 'I think we are just going to see more republicans in general, Spanish, black, white, Asian, they all know that Obama is a fuck up.'}, 1914: {'Label': 1, 'Comment_Text': \"Now if only this could show the millions of people who will stay wallowed in poverty because the train can't go faster.\"}, 9: {'Label': 1, 'Comment_Text': \"Insane like a fox.  Ted Cruz is actually very very intelligent.  It's his constituents that are insane.  He's just playing the part.\"}, 924: {'Label': 1, 'Comment_Text': 'Must be a \"racist\" too.  /sarc'}, 231: {'Label': 1, 'Comment_Text': 'Did you sign up for Obamacare \\n\\nA.  Yesterday? \\nB.   Today?'}, 61: {'Label': 1, 'Comment_Text': \"'Reid' and 'reasons' share part of a syllable; can't be coincidence.\"}, 1842: {'Label': 1, 'Comment_Text': \"Unmarried sex is only bad if the female has an orgasm, because women are sinful vile things who don't deserve enjoyment.\"}, 1481: {'Label': 1, 'Comment_Text': \"AHAHAHAHAHAHAHAHAHAHAHAHA! \\n\\nHAHAHAHAHAHAHAHA! \\n\\nHAHAHAHAHA! \\n\\nHAHA! \\n\\nHA... \\n\\nNow I'm sad because this will never happen :(\"}, 37: {'Label': 1, 'Comment_Text': 'That, of course, is the Debt Star.'}, 1364: {'Label': 1, 'Comment_Text': 'For a sub disappointed with Obama, r/politics seems really eager to vote for administration employees.'}, 1712: {'Label': 1, 'Comment_Text': \"I've given up on most national media outlets.  I stick to my local newspaper for the most part now.  \\n\\nToo much bipartisan cock sucking and smearing from both sides.\"}, 1231: {'Label': 1, 'Comment_Text': '&gt; “We need to move on and take whatever we can find in the debt limit. ” \\n\\nHoly shit, do these guys not learn?  \"Hey I pissed on the electric fence over here and it just about blew my dick off, but hey, I bet if I piss on it over *there* something else will happen\".  Fucking idiots.'}, 1296: {'Label': 1, 'Comment_Text': \"Thanks CBO, but we already saved $4 billion by taking food out of people's mouths.   We're good.\"}, 687: {'Label': 1, 'Comment_Text': 'Koch: $15 million?  One moment, let me fetch my change purse.'}, 785: {'Label': 1, 'Comment_Text': 'CBS. \\n\\nEnough said.'}, 1777: {'Label': 1, 'Comment_Text': 'Keep attacking the one world leader who stands up to fags, guys.  Whoever said conservatives are their own worst enemies?'}, 996: {'Label': 1, 'Comment_Text': 'NO WAY ! \\n\\nThe Nobel Peace Prize winning MESSiah would never do such a thing !'}, 1558: {'Label': 1, 'Comment_Text': 'So translation: \"We can\\'t have atheists *helping* people, that totally undermines my desire to believe they\\'re all selfish and uncharitable! \"'}, 666: {'Label': 1, 'Comment_Text': \"I don't think stealing shite from a latrine counts as plagiarism.\"}, 643: {'Label': 1, 'Comment_Text': 'What a fraud.  Fire damaged goods with a personal story that is irrelevant. \\n\\nYou know: under most trading laws you need to be able to prove claims you make.  If you can\\'t prove that this is \"divinely destroyed\" then you are violating those laws.  Good luck with that.'}, 1628: {'Label': 1, 'Comment_Text': \"Because then there wouldn't be any gurus.\"}, 491: {'Label': 1, 'Comment_Text': '&gt;get off Ohio\\'s dick and let them do what they want to do\\n\\nAnd while we\\'re at it, let\\'s let the south have slavery again. \\n\\nFrankly, there should be a constitutional amendment protecting a person\\'s right to do what they want with their own body, particularly prior to the point where they are carrying another *viable* life.  No state should be able to write laws that make it more difficult to get an abortion under the guise of \"protecting women\" when it is a fact that abortions performed in the developed world are among the safest procedures in medicine.'}, 101: {'Label': 1, 'Comment_Text': 'I am an American Jew and I call on the people of Israel to get rid of Netanyahu and other right-wingers.'}, 1895: {'Label': 1, 'Comment_Text': 'In other news, apples 40 times more popular than oranges.'}, 669: {'Label': 1, 'Comment_Text': \"then you're gonna get kicked out of the tea party AND the Moral Majority AND the American Family Association and Pat Robertson will call a hurricane right down on your ass\"}, 292: {'Label': 1, 'Comment_Text': 'She made my penis fill with blood!   KILL HER!   THROW STONES AT HER UNTIL SHE IS DEAD ALLAH AHKBAR'}, 1913: {'Label': 1, 'Comment_Text': 'Would they take it back?'}, 840: {'Label': 1, 'Comment_Text': \"Don't you love that they also gave themselves millions in farm subsidies for their own agri-corp farms.  Not their districts, themselves.  My TP congressman voted yes to it while voting to cut food stamps.  He doesn't get the subsidies but he was part of the shutdown so I give him a hard time about it.\"}, 753: {'Label': 1, 'Comment_Text': 'They had a soul?'}, 1304: {'Label': 1, 'Comment_Text': 'Hope they win.   Anti abortionism is evil, pure and simple'}, 691: {'Label': 1, 'Comment_Text': 'Oh my god what a headache listening to her!  \\n\\nYou know what though?  We\\'re going to hear this same stuff from Republicans for the next few weeks.  It\\'s a \"serious investigation\" they are undertaking...  Presented by Miss South Carolina.'}, 177: {'Label': 1, 'Comment_Text': 'Wait so the founder of a thing says his thing is the best way to do a thing?  Whoa.'}, 1142: {'Label': 1, 'Comment_Text': '\"No title of nobility shall be granted by the United States: and no person holding any office of profit or trust under them, shall, without the consent of the Congress, accept of any present, emolument, office, or title, of any kind whatever, from any king, prince, or foreign state. \" Article I, Section 9, Clause 8, Constitution, United States of America.'}, 1088: {'Label': 1, 'Comment_Text': \"They had me at metaphorical Jesus.   That's the last thing we want.\"}, 1420: {'Label': 1, 'Comment_Text': \"This joke is so boring now.  I'm surprised when I don't see it posted about any piece of computer hardware news.\"}, 1219: {'Label': 1, 'Comment_Text': 'Landmark in the sense that it conforms to the reality 99% of scientist know to be true.'}, 123: {'Label': 1, 'Comment_Text': 'Every time a liberal whines about their precious Obamacare, and angel gets its wings.'}, 240: {'Label': 1, 'Comment_Text': \"Another thing.. just to add.. when a white person says something conservative or profound it's tossed to the side and called racist, but if you put a black person's picture above it, or say Morgan Freeman said it or whatever, it blows up my news feed as the greatest thing ever said.\"}, 1363: {'Label': 1, 'Comment_Text': \"On a related tangent, I've said the same thing; I can foresee a new type of commercialized government where all citizens are also employees of the company.  I reckon it'll present itself first when we land on Mars (coz you know that shit will be done by a private company) and therefore everyone on Mars will be employees.  Homes will be all sleekly product designed and town hall would be an Apple store or whatever.\"}, 1282: {'Label': 1, 'Comment_Text': 'Maybe he should create a National Board of Journalism Teachers and give himself accreditation so he can flunk them anyways.'}, 550: {'Label': 1, 'Comment_Text': 'Nelson Muntz sends his regards.'}, 542: {'Label': 1, 'Comment_Text': 'your congressmen dosnet have your back, he has you by the neck'}, 210: {'Label': 1, 'Comment_Text': 'Amazing how they made sure all this would go in effect right *after* the election'}, 1661: {'Label': 1, 'Comment_Text': 'Yes, keep running that interference...'}, 1020: {'Label': 1, 'Comment_Text': 'I dream of different creative methods of punishing him if he were convicted of war crimes.  What I like is feeding his naked living body to pigs in Laos....'}, 1739: {'Label': 1, 'Comment_Text': 'Destroy the federal government but keep your hands off my Medicare!'}, 1616: {'Label': 1, 'Comment_Text': 'Hawaii is Kenya now.'}, 843: {'Label': 1, 'Comment_Text': '\"atheist winter holiday gift exchange\" - this cracks me up.'}, 411: {'Label': 1, 'Comment_Text': \"You only have two parties.   Why don't you just flip a giant coin for each election.  \\n\\nSame difference.\"}, 1601: {'Label': 1, 'Comment_Text': 'But Rand Paul and Mitch McConnell said they were winning.'}, 245: {'Label': 1, 'Comment_Text': \"Why?   We've got more money than we know what to do with in the USA.  We've got people paying $5,000 to sit in the stands at Fenway to watch a ball game where a 29 year old pitcher is getting paid $2 Million Dollars.... \\n\\nWe're not broke, we've just got our priorities all wrong\"}, 309: {'Label': 1, 'Comment_Text': 'Stay in school, kids.'}, 582: {'Label': 1, 'Comment_Text': 'And a fundy christian half-term governor, with delusions of grandeur, is one of the best sources for comedy in America.'}, 1807: {'Label': 1, 'Comment_Text': 'Happened when Rusty Venture slept with his teen fan club president.'}, 1878: {'Label': 1, 'Comment_Text': 'This open-minded academic nailed it *right* on the head'}, 277: {'Label': 1, 'Comment_Text': 'From user tilio who deleted his comment after realizing how stupid it was,\"as the other side of \"independent,\" i feel the exact opposite.  we\\'re 17 trillion in debt with over 70 trillion in unfunded liabilities (medicare is once again, almost bankrupt).  instead of making efforts to work these down, democrats are piling on even more debt. \\nit\\'s clear that many democrats / fiscal authoritarians have not looked at this from our point of view.  republicans, tea, and fiscal conservatives in general want spending cuts and deficit reduction.  as long as we stand firm, we win.  either democrats cave to our demands (giving us the spending cuts we want), or democrats drive us off the cliff, destroying the US credit rating, forcing spending cuts because they won\\'t be able to borrow nearly as much money.  the only way we lose is to agree to let democrats / fiscal authoritarians to keep spending.  you may dislike this point of view.  but it is inescapable fact. \"\\n\\nYour joking right?   That debt is largely a legacy of the last president and his two wars, which we had to continue.   Conservative fiscal ideas are what drove us over the edge.   Furthermore, we know your position, but you lost, the majority of voters elected representatives that support the ACA, as evidenced by the wast of time that the republicans tried to remote on it and lost every time.   This is a democracy, just because the majority disagrees with you doesn\\'t mean you get to shut down government and act like a bunch of spoiled children.'}, 1948: {'Label': 1, 'Comment_Text': \"The pope is meeting a cruel dictator.   Likely won't address his cruel dictatorship.   Boo. \\n\\nAt least he isn't blessing Rebecca Kadaga like the last pope.\"}, 1742: {'Label': 1, 'Comment_Text': \"No she will not look back.  It is almost impossible for people like her to examine there lives and see the errors and mistakes they have made.  She is a true believer and thinks of herself as  god's vessel.  If she is wrong, then her god is wrong.  Michele will go to her grave thinking she did her god's will.  The overwhelming evidence that the world rejects her ideas only servers as proof, to her, of  righteousness.  She is a sad delusional old woman who should have never been given power over anything more sentient than a goldfish.\"}, 1264: {'Label': 1, 'Comment_Text': 'Wouldn\\'t California be, um, *part* of America?  And therefore a component of its \"exceptionalism\"?'}, 173: {'Label': 1, 'Comment_Text': \"The point of the article is that while everyone (outside of the Fox bubble) understands that it is an astro-turf group funded by billionaires, many progressives see tea-party supporters as uninformed, low income fools who are working against their own best interest.   While the reality is that the majority of tea-party supporters are the same wealthy conservatives that have been around since the Reagan revolution.   \\n\\nThis is not to say that the media hasn't focused on the image of the ignorant white-trash supporter with a severe spelling dysfunction.\"}, 947: {'Label': 1, 'Comment_Text': 'Careful!  Rand is the darling of the Libertarians, they will defend him and his father till their last breaths.'}, 1293: {'Label': 1, 'Comment_Text': 'This is now officially my favorite novelty account.  [slow clap]'}, 127: {'Label': 1, 'Comment_Text': \"They tried using polls, they tried being clever...  only to discover they poisoned their own well. \\n\\nNow it's time to take a drink.\"}, 397: {'Label': 1, 'Comment_Text': 'I heard that Al Gore stands to make **thousands** of dollars from his investments in energy efficient air conditioners!'}, 917: {'Label': 1, 'Comment_Text': 'Yep this sure is a Republican Shutdown  \\n/sarcasm off'}, 1769: {'Label': 1, 'Comment_Text': 'Your tax dollars at work.'}, 66: {'Label': 1, 'Comment_Text': \"She's a uniter.   Most people, regardless of political affiliation, can agree she's horrible.\"}, 1051: {'Label': 1, 'Comment_Text': \"My grandmother got $59 and they just sent her a letter knocking it down to $23.  I am very grateful that she has us that can provide and help her.  I can't imagine those who rely on it a great deal.  Thanks government.  Fuck up the only program that was doing well with a very small amount of fraud.\"}, 1269: {'Label': 1, 'Comment_Text': 'Pat Robertson fits the bill for sure.'}, 104: {'Label': 1, 'Comment_Text': 'Nothing to see here folks.  Dancing with the Stars is on.   No need to worry about this.  Support the troops.  Murica!'}, 1339: {'Label': 1, 'Comment_Text': 'Fucking ignorant rednecks.  Fucking ignorant rednecks everywhere.'}, 1109: {'Label': 1, 'Comment_Text': 'Feels good to have a spine.   They come in handy when needed.'}, 1595: {'Label': 1, 'Comment_Text': 'One of us!  One of us!'}, 1031: {'Label': 1, 'Comment_Text': 'http://afrocityblog. files. wordpress. com/2009/04/black-man-tea-party. jpg\\n\\nmaybe if you had socialism people would be able to put their apostrophe in the right place. \\n\\nAs someone from outside the US it is just absolutely alien that people are on the streets with placards complaining about \"socialism\" especially when you see the exact people who are the ones protesting.  I was in the US recently and I took a cab in St Louis, the cab driver was an older American who had bad health little or no healthcare as I understood it but he spent the entire journey complaining about socialism.  As a Swede/Brit/European my head just cannot get around the concept of someone whose life would be orders of magnitude better complaining about socialist beliefs.  The ruling classes have through a very cunning media campaign managed to dupe the working classes.'}, 761: {'Label': 1, 'Comment_Text': '*NEWS FLASH! *\\n\\nCapitalism.'}, 1532: {'Label': 1, 'Comment_Text': 'The truth is out of style'}, 63: {'Label': 1, 'Comment_Text': 'Yet more proof that there is a god.'}, 1122: {'Label': 1, 'Comment_Text': 'Mainstream America wants Ed Schultz to have a heat attack on camera.'}, 409: {'Label': 1, 'Comment_Text': \"Because obviously anyone that doesn't agree with you is a bad person, am I right?\"}, 754: {'Label': 1, 'Comment_Text': 'Makes me proud to be an Aggie....'}, 488: {'Label': 1, 'Comment_Text': 'She must have taken the Parsing Graduate Course from Bill Clinton.'}, 1703: {'Label': 1, 'Comment_Text': 'well, your calender compactor belongs in the trash compactor.'}, 1356: {'Label': 1, 'Comment_Text': 'A prosperity Gospel preacher in a mega-church turns out to be corrupt? \\n\\nWhat next, is someone going to tell me that Jorge Bergoglio is a papist?'}, 782: {'Label': 1, 'Comment_Text': \"You guys should just leave us behind.   We're just dragging you down.    We're not gonna make it, man.  Save yourselves!\"}, 417: {'Label': 1, 'Comment_Text': \"If they cared about debt, they wouldn't have voted for a candidate that wanted to increase military spending by $3trillion.\"}, 696: {'Label': 1, 'Comment_Text': \"Don't forget the burden that eating fast food habitually puts on taxpayers.\"}, 1127: {'Label': 1, 'Comment_Text': 'Liberals: \"We ran a black guy so we can\\'t be racist! \"\\n\\nTea Party: \"We ran a guy with a 9-9-9 tax plan that will help the economy!  He also has great business experience! \"\\n\\nMedia: The Tea Party functions solely around racist issues.'}, 204: {'Label': 1, 'Comment_Text': 'How much were they given in the bailout?'}, 1858: {'Label': 1, 'Comment_Text': \"&gt; When her group [the Oklahoma Coalition for Reproductive Justice] began lobbying against a Personhood bill by saying it would restrict in-vitro fertilization, or IVF, a legislator who planned to vote for it, said: “Sorry, what’s IVF? ”\\n\\nWhy do American voters allow morons to govern America?   (And no, I'm trying **really really hard** not to just leap to the obvious conclusion. )\"}, 446: {'Label': 1, 'Comment_Text': '\"... the villagers hid the best they could and hoped that the terror would pass them by. \\n\\nThink of them as your standard gun control advocates who prefer to hide and hope that someone else will protect them. \"\\n\\nDang, nailed me as a pacifist.  /s'}, 208: {'Label': 1, 'Comment_Text': \"Worse, it's a fire in the house that we both live in.\"}, 708: {'Label': 1, 'Comment_Text': 'The health deductible tripled due to ability of health insurers to now charge 3x more for skin bronzers -- ziiiiinggggg, see what I did there'}, 684: {'Label': 1, 'Comment_Text': \"Sheldon Adelson is, unfortunately, a U. S.  citizen, although he probably shouldn't be considering his real allegiance is to the state of Israel.\"}, 688: {'Label': 1, 'Comment_Text': '&gt;Congress shall make no law respecting an establishment of religion; or preventing the free exercise thereof... \\n\\nYou can practically *smell* those \"Biblical Principles\", amirite?'}, 1454: {'Label': 1, 'Comment_Text': \"And 50 years ago a kid would be terrified to let their parents read their diary.  The web isn't the problem, nor are the parents.  The fact of life is that kids do things their parents don't like, and no matter how those things are recorded kids would always prefer some privacy.\"}, 45: {'Label': 1, 'Comment_Text': \"It's too bad their lifespan is measured in days.\"}, 1333: {'Label': 1, 'Comment_Text': 'It would make too much sense to connect all major US cities by rail.  I think that the Airlines and car companies would lobby heavily to make sure this never happens.  Looking at which cities the Highspeed was supposed to connect, it seems it was destined to fail.'}, 11: {'Label': 1, 'Comment_Text': 'If Jesus destroyed satan for our freedom, why is there still evil, Tom, huh?  Huh?  Why Tom?'}, 1736: {'Label': 1, 'Comment_Text': 'Unicorn populations are out of control and causing habitat destruction for Bigfeets.'}}\n"
     ]
    }
   ],
   "source": [
    "# #Convert into 2 dictionaries\n",
    "ironic_dict = ironic_df.set_index(ironic_df.index).T.to_dict()\n",
    "nonironic_dict = nonironic_df.set_index(nonironic_df.index).T.to_dict()\n",
    "\n",
    "print(len(ironic_dict))\n",
    "print(len(nonironic_df))\n",
    "print(ironic_dict)"
   ]
  },
  {
   "cell_type": "markdown",
   "metadata": {},
   "source": [
    "# Parse through SpaCy to get STATS (Function Lists):\n",
    "\n",
    "-----Create list of functions for each:\n",
    "- average word length\n",
    "- average sentence length\n",
    "- number of word types"
   ]
  },
  {
   "cell_type": "code",
   "execution_count": 19,
   "metadata": {},
   "outputs": [],
   "source": [
    "import spacy\n",
    "nlp = spacy.load(\"en_core_web_sm\")"
   ]
  },
  {
   "cell_type": "code",
   "execution_count": 20,
   "metadata": {},
   "outputs": [],
   "source": [
    "def get_words(listx):\n",
    "    \"\"\"Take a list (already parsed through SpaCy) remove punctuation and return list of word tokens\"\"\"\n",
    "    ir_clean_docs = [] #remove punctuation\n",
    "\n",
    "    for x in listx:\n",
    "        clean_list = []\n",
    "        for y in x:\n",
    "            if y.pos_ != 'PUNCT':\n",
    "                clean_list.append(y)\n",
    "        ir_clean_docs.append(clean_list)\n",
    "    return ir_clean_docs"
   ]
  },
  {
   "cell_type": "code",
   "execution_count": 21,
   "metadata": {},
   "outputs": [],
   "source": [
    "def get_punct(listx):\n",
    "    \"\"\"Take a list (already parsed through spacy), remove words and return list of punctuation ONLY\"\"\"\n",
    "    ir_punct = [] #only punctuation\n",
    "\n",
    "    for x in listx:\n",
    "        clean_list = []\n",
    "        for y in x:\n",
    "            if y.pos_ == 'PUNCT':\n",
    "                clean_list.append(y)\n",
    "        ir_punct.append(clean_list)\n",
    "    return ir_punct"
   ]
  },
  {
   "cell_type": "code",
   "execution_count": 22,
   "metadata": {},
   "outputs": [],
   "source": [
    "def average_word_length(doc):\n",
    "    \"\"\"Take doc and return average word length\"\"\"\n",
    "    for token in doc:\n",
    "        word = token.text\n",
    "        average_word_length = sum(len(word) for word in doc) / len(doc)\n",
    "    return(average_word_length)"
   ]
  },
  {
   "cell_type": "code",
   "execution_count": 23,
   "metadata": {},
   "outputs": [],
   "source": [
    "def average_sent_length(doc):\n",
    "    \"\"\"Take doc and return average sentence length\"\"\"\n",
    "    sent_list = []\n",
    "\n",
    "    for sent in doc.sents:\n",
    "        len_sent = len(sent)\n",
    "        sent_list.append(len_sent)\n",
    "\n",
    "    total = sum(sent_list)\n",
    "    leng = len(sent_list)\n",
    "\n",
    "    average_sent_length = total / leng\n",
    "    return(average_sent_length)"
   ]
  },
  {
   "cell_type": "code",
   "execution_count": 24,
   "metadata": {},
   "outputs": [],
   "source": [
    "###NEED TO CHANGE AS DOESN'T RETURN AVERAGE FOR EACH (SAME NUMBER)##\n",
    "#####\n",
    "####################3\n",
    "\n",
    "def relative_count_wordtypes(doc):\n",
    "    \"\"\"Return relative count for all word types i.e. nouns, pronouns, verbs etc\"\"\"\n",
    "    pos_tags = []\n",
    "    for token in doc:\n",
    "        pos_tags.append(token.pos_)\n",
    "    counting = Counter(pos_tags)\n",
    "    \n",
    "    leng = len(doc)\n",
    "   \n",
    "    for key, value in counting.items():\n",
    "        for value in counting.values():\n",
    "            ff = sum(leng for value in doc) / leng\n",
    "            counting[key] = ff\n",
    "    \n",
    "    new_dict = dict(counting)\n",
    "     \n",
    "    return new_dict"
   ]
  },
  {
   "cell_type": "code",
   "execution_count": 25,
   "metadata": {},
   "outputs": [],
   "source": [
    "# print(repr(ir_token_list))\n",
    "#\"/s\" is indicative of irony... let's see\n",
    "\n",
    "\n",
    "def check_sarcsymbol(comment_list):\n",
    "    \"\"\"Take a list of comments (parsed through SpaCy); return list of items if \"/s\" is present [Reddit \"/s\" = sarcasm]\"\"\"\n",
    "    sarcsymb = []\n",
    "    for x in comment_list:\n",
    "        for y in x:\n",
    "            if y.text == \"/s\":\n",
    "                sarcsymb.append(x)\n",
    "    return(sarcsymb)\n"
   ]
  },
  {
   "cell_type": "code",
   "execution_count": 26,
   "metadata": {},
   "outputs": [],
   "source": [
    "def get_punct_average(punctuation_list, token_comment_list):\n",
    "    \"\"\"Take preprocessed list of punctuation and full token list (MUST be of equal length); \n",
    "    Returns list of the average for ALL punctuation (based on number overall of tokens)\n",
    "    for each comment\"\"\" \n",
    "\n",
    "    punct_count = []\n",
    "    for comment in punctuation_list:\n",
    "        punct_count.append(len(comment))\n",
    "\n",
    "    len_comment = []\n",
    "    for comment in token_comment_list:\n",
    "        len_comment.append(len(comment))\n",
    "    \n",
    "    punct_count, len_comment = np.array(punct_count), np.array(len_comment) \n",
    "    averages = (punct_count + len_comment)/2\n",
    "    return averages"
   ]
  },
  {
   "cell_type": "markdown",
   "metadata": {},
   "source": [
    "# IRONY:\n",
    "1) Create a list of docs for every comment (with all tokens)\n",
    "2) Create list of tokens (without punct)\n",
    "3) Create a list of puncutation tokens)\n",
    "\n",
    "# Parse through functions to get df with:\n",
    "1) Average Word Length\n",
    "2) Average Sentence Length\n",
    "3) Average Number of each Word Type"
   ]
  },
  {
   "cell_type": "code",
   "execution_count": 27,
   "metadata": {},
   "outputs": [],
   "source": [
    "#List of ALL tokens\n",
    "ir_comment_list = []\n",
    "for comment_index, label in ironic_dict.items():\n",
    "    for key in label:\n",
    "        text = label[key]\n",
    "        if type(text) == str:\n",
    "            ir_comment_list.append(nlp(text))"
   ]
  },
  {
   "cell_type": "code",
   "execution_count": 28,
   "metadata": {},
   "outputs": [
    {
     "name": "stdout",
     "output_type": "stream",
     "text": [
      "387\n",
      "387\n"
     ]
    }
   ],
   "source": [
    "ironic_word_list = get_words(ir_comment_list)\n",
    "ironic_punct_list = get_punct(ir_comment_list)\n",
    "\n",
    "print(len(ironic_word_list))\n",
    "print(len(ironic_punct_list))"
   ]
  },
  {
   "cell_type": "code",
   "execution_count": 29,
   "metadata": {},
   "outputs": [
    {
     "data": {
      "text/html": [
       "<div>\n",
       "<style scoped>\n",
       "    .dataframe tbody tr th:only-of-type {\n",
       "        vertical-align: middle;\n",
       "    }\n",
       "\n",
       "    .dataframe tbody tr th {\n",
       "        vertical-align: top;\n",
       "    }\n",
       "\n",
       "    .dataframe thead th {\n",
       "        text-align: right;\n",
       "    }\n",
       "</style>\n",
       "<table border=\"1\" class=\"dataframe\">\n",
       "  <thead>\n",
       "    <tr style=\"text-align: right;\">\n",
       "      <th></th>\n",
       "      <th>Comment Parsed</th>\n",
       "      <th>Tokens</th>\n",
       "      <th>Punctuation</th>\n",
       "    </tr>\n",
       "  </thead>\n",
       "  <tbody>\n",
       "    <tr>\n",
       "      <th>0</th>\n",
       "      <td>(Yep, it, is, hard, to, get, a, good, educatio...</td>\n",
       "      <td>[Yep, it, is, hard, to, get, a, good, educatio...</td>\n",
       "      <td>[.]</td>\n",
       "    </tr>\n",
       "    <tr>\n",
       "      <th>1</th>\n",
       "      <td>(So, the, question, during, their, Twitter, Q&amp;...</td>\n",
       "      <td>[So, the, question, during, their, Twitter, Q&amp;...</td>\n",
       "      <td>[..., .]</td>\n",
       "    </tr>\n",
       "    <tr>\n",
       "      <th>2</th>\n",
       "      <td>(They, hate, us, for, our, freedom, .)</td>\n",
       "      <td>[They, hate, us, for, our, freedom]</td>\n",
       "      <td>[.]</td>\n",
       "    </tr>\n",
       "    <tr>\n",
       "      <th>3</th>\n",
       "      <td>(Did, he, talk, at, all, about, how, he, place...</td>\n",
       "      <td>[Did, he, talk, at, all, about, how, he, place...</td>\n",
       "      <td>[?]</td>\n",
       "    </tr>\n",
       "    <tr>\n",
       "      <th>4</th>\n",
       "      <td>(&amp;, gt, ;, \", Here, 's, a, picture, of, my, ho...</td>\n",
       "      <td>[&amp;, gt, Here, 's, a, picture, of, my, house, \\...</td>\n",
       "      <td>[;, \", \", ?, ?, ?]</td>\n",
       "    </tr>\n",
       "  </tbody>\n",
       "</table>\n",
       "</div>"
      ],
      "text/plain": [
       "                                      Comment Parsed  \\\n",
       "0  (Yep, it, is, hard, to, get, a, good, educatio...   \n",
       "1  (So, the, question, during, their, Twitter, Q&...   \n",
       "2             (They, hate, us, for, our, freedom, .)   \n",
       "3  (Did, he, talk, at, all, about, how, he, place...   \n",
       "4  (&, gt, ;, \", Here, 's, a, picture, of, my, ho...   \n",
       "\n",
       "                                              Tokens         Punctuation  \n",
       "0  [Yep, it, is, hard, to, get, a, good, educatio...                 [.]  \n",
       "1  [So, the, question, during, their, Twitter, Q&...            [..., .]  \n",
       "2                [They, hate, us, for, our, freedom]                 [.]  \n",
       "3  [Did, he, talk, at, all, about, how, he, place...                 [?]  \n",
       "4  [&, gt, Here, 's, a, picture, of, my, house, \\...  [;, \", \", ?, ?, ?]  "
      ]
     },
     "execution_count": 29,
     "metadata": {},
     "output_type": "execute_result"
    }
   ],
   "source": [
    "#Create df for total, full returns for irony\n",
    "Total_irony = pd.DataFrame({'Comment Parsed':ir_comment_list})\n",
    "Total_irony[\"Tokens\"] = ironic_word_list\n",
    "Total_irony[\"Punctuation\"] = ironic_punct_list\n",
    "Total_irony.head()"
   ]
  },
  {
   "cell_type": "code",
   "execution_count": 30,
   "metadata": {},
   "outputs": [],
   "source": [
    "#Average word length\n",
    "wordl_list = []\n",
    "for comment in ironic_word_list:\n",
    "    wordl_list.append(average_word_length(comment))\n",
    "\n",
    "#Create DataFrame for Summary of Irony STATS\n",
    "summary_irony = pd.DataFrame({\"Average Word Length\": wordl_list})"
   ]
  },
  {
   "cell_type": "code",
   "execution_count": 31,
   "metadata": {},
   "outputs": [
    {
     "data": {
      "text/html": [
       "<div>\n",
       "<style scoped>\n",
       "    .dataframe tbody tr th:only-of-type {\n",
       "        vertical-align: middle;\n",
       "    }\n",
       "\n",
       "    .dataframe tbody tr th {\n",
       "        vertical-align: top;\n",
       "    }\n",
       "\n",
       "    .dataframe thead th {\n",
       "        text-align: right;\n",
       "    }\n",
       "</style>\n",
       "<table border=\"1\" class=\"dataframe\">\n",
       "  <thead>\n",
       "    <tr style=\"text-align: right;\">\n",
       "      <th></th>\n",
       "      <th>Average Word Length</th>\n",
       "      <th>Average Sentence Length</th>\n",
       "    </tr>\n",
       "  </thead>\n",
       "  <tbody>\n",
       "    <tr>\n",
       "      <th>0</th>\n",
       "      <td>3.826087</td>\n",
       "      <td>24.0</td>\n",
       "    </tr>\n",
       "    <tr>\n",
       "      <th>1</th>\n",
       "      <td>4.636364</td>\n",
       "      <td>17.5</td>\n",
       "    </tr>\n",
       "    <tr>\n",
       "      <th>2</th>\n",
       "      <td>3.833333</td>\n",
       "      <td>7.0</td>\n",
       "    </tr>\n",
       "    <tr>\n",
       "      <th>3</th>\n",
       "      <td>4.444444</td>\n",
       "      <td>19.0</td>\n",
       "    </tr>\n",
       "    <tr>\n",
       "      <th>4</th>\n",
       "      <td>2.619048</td>\n",
       "      <td>9.0</td>\n",
       "    </tr>\n",
       "  </tbody>\n",
       "</table>\n",
       "</div>"
      ],
      "text/plain": [
       "   Average Word Length  Average Sentence Length\n",
       "0             3.826087                     24.0\n",
       "1             4.636364                     17.5\n",
       "2             3.833333                      7.0\n",
       "3             4.444444                     19.0\n",
       "4             2.619048                      9.0"
      ]
     },
     "execution_count": 31,
     "metadata": {},
     "output_type": "execute_result"
    }
   ],
   "source": [
    "#Average Sentence Length\n",
    "ir_sentl_list = []\n",
    "for x in ir_comment_list:\n",
    "    ir_sentl_list.append(average_sent_length(x))\n",
    "\n",
    "#Add to Summary of Irony STATS df\n",
    "summary_irony[\"Average Sentence Length\"] = ir_sentl_list\n",
    "summary_irony.head()"
   ]
  },
  {
   "cell_type": "code",
   "execution_count": 32,
   "metadata": {},
   "outputs": [],
   "source": [
    "# print(repr(ir_token_list))\n",
    "#\"/s\" is indicative of irony... let's see\n",
    "\n",
    "ir_sarcsymb = check_sarcsymbol(ir_comment_list)\n",
    "ir_sarcsymb = (len(ir_sarcsymb))"
   ]
  },
  {
   "cell_type": "code",
   "execution_count": 33,
   "metadata": {},
   "outputs": [
    {
     "name": "stdout",
     "output_type": "stream",
     "text": [
      "387\n"
     ]
    },
    {
     "data": {
      "text/html": [
       "<div>\n",
       "<style scoped>\n",
       "    .dataframe tbody tr th:only-of-type {\n",
       "        vertical-align: middle;\n",
       "    }\n",
       "\n",
       "    .dataframe tbody tr th {\n",
       "        vertical-align: top;\n",
       "    }\n",
       "\n",
       "    .dataframe thead th {\n",
       "        text-align: right;\n",
       "    }\n",
       "</style>\n",
       "<table border=\"1\" class=\"dataframe\">\n",
       "  <thead>\n",
       "    <tr style=\"text-align: right;\">\n",
       "      <th></th>\n",
       "      <th>Average Word Length</th>\n",
       "      <th>Average Sentence Length</th>\n",
       "      <th>Punctuation Richness</th>\n",
       "    </tr>\n",
       "  </thead>\n",
       "  <tbody>\n",
       "    <tr>\n",
       "      <th>0</th>\n",
       "      <td>3.826087</td>\n",
       "      <td>24.0</td>\n",
       "      <td>12.5</td>\n",
       "    </tr>\n",
       "    <tr>\n",
       "      <th>1</th>\n",
       "      <td>4.636364</td>\n",
       "      <td>17.5</td>\n",
       "      <td>18.5</td>\n",
       "    </tr>\n",
       "    <tr>\n",
       "      <th>2</th>\n",
       "      <td>3.833333</td>\n",
       "      <td>7.0</td>\n",
       "      <td>4.0</td>\n",
       "    </tr>\n",
       "    <tr>\n",
       "      <th>3</th>\n",
       "      <td>4.444444</td>\n",
       "      <td>19.0</td>\n",
       "      <td>10.0</td>\n",
       "    </tr>\n",
       "    <tr>\n",
       "      <th>4</th>\n",
       "      <td>2.619048</td>\n",
       "      <td>9.0</td>\n",
       "      <td>16.5</td>\n",
       "    </tr>\n",
       "  </tbody>\n",
       "</table>\n",
       "</div>"
      ],
      "text/plain": [
       "   Average Word Length  Average Sentence Length  Punctuation Richness\n",
       "0             3.826087                     24.0                  12.5\n",
       "1             4.636364                     17.5                  18.5\n",
       "2             3.833333                      7.0                   4.0\n",
       "3             4.444444                     19.0                  10.0\n",
       "4             2.619048                      9.0                  16.5"
      ]
     },
     "execution_count": 33,
     "metadata": {},
     "output_type": "execute_result"
    }
   ],
   "source": [
    "ir_punct_avg = get_punct_average(ironic_punct_list, ir_comment_list)\n",
    "print(len(ir_punct_avg))\n",
    "summary_irony[\"Punctuation Richness\"] = ir_punct_avg\n",
    "summary_irony.head()"
   ]
  },
  {
   "cell_type": "markdown",
   "metadata": {},
   "source": [
    "# NO - IRONY:\n",
    "1) Create a list of docs for every comment (with all tokens)\n",
    "2) Create list of tokens (without punct)\n",
    "3) Create a list of puncutation tokens)\n",
    "\n",
    "# Parse through functions to get df with:\n",
    "1) Average Word Length\n",
    "2) Average Sentence Length\n",
    "3) Average Number of each Word Type"
   ]
  },
  {
   "cell_type": "code",
   "execution_count": 34,
   "metadata": {},
   "outputs": [
    {
     "name": "stdout",
     "output_type": "stream",
     "text": [
      "977\n"
     ]
    }
   ],
   "source": [
    "#List of ALL tokens\n",
    "\n",
    "non_ir_comment_list = []\n",
    "for comment_index, label in nonironic_dict.items():\n",
    "    for key in label:\n",
    "        text = label[key]\n",
    "        if type(text) == str:\n",
    "            non_ir_comment_list.append(nlp(text))\n",
    "print(len(non_ir_comment_list))  "
   ]
  },
  {
   "cell_type": "code",
   "execution_count": 35,
   "metadata": {},
   "outputs": [
    {
     "name": "stdout",
     "output_type": "stream",
     "text": [
      "977\n",
      "977\n"
     ]
    }
   ],
   "source": [
    "#list of word tokens(without punct)\n",
    "non_ironic_word_list = get_words(non_ir_comment_list)\n",
    "\n",
    "#list of punctuations as tokens\n",
    "non_ironic_puct_list = get_punct(non_ir_comment_list)\n",
    "\n",
    "print(len(non_ironic_word_list))\n",
    "print(len(non_ironic_puct_list))"
   ]
  },
  {
   "cell_type": "code",
   "execution_count": 36,
   "metadata": {},
   "outputs": [],
   "source": [
    "#Create df for total, full returns for no-irony\n",
    "Total_noirony = pd.DataFrame({'Comment Parsed':non_ir_comment_list})\n",
    "Total_noirony[\"Tokens\"] = non_ironic_word_list\n",
    "Total_noirony[\"Punctuation\"] = non_ironic_puct_list"
   ]
  },
  {
   "cell_type": "code",
   "execution_count": 37,
   "metadata": {},
   "outputs": [
    {
     "data": {
      "text/html": [
       "<div>\n",
       "<style scoped>\n",
       "    .dataframe tbody tr th:only-of-type {\n",
       "        vertical-align: middle;\n",
       "    }\n",
       "\n",
       "    .dataframe tbody tr th {\n",
       "        vertical-align: top;\n",
       "    }\n",
       "\n",
       "    .dataframe thead th {\n",
       "        text-align: right;\n",
       "    }\n",
       "</style>\n",
       "<table border=\"1\" class=\"dataframe\">\n",
       "  <thead>\n",
       "    <tr style=\"text-align: right;\">\n",
       "      <th></th>\n",
       "      <th>Comment Parsed</th>\n",
       "      <th>Tokens</th>\n",
       "      <th>Punctuation</th>\n",
       "    </tr>\n",
       "  </thead>\n",
       "  <tbody>\n",
       "    <tr>\n",
       "      <th>0</th>\n",
       "      <td>(Matthews, must, mistakenly, think, that, if, ...</td>\n",
       "      <td>[Matthews, must, mistakenly, think, that, if, ...</td>\n",
       "      <td>[.]</td>\n",
       "    </tr>\n",
       "    <tr>\n",
       "      <th>1</th>\n",
       "      <td>(/r, /, nottheonion)</td>\n",
       "      <td>[/, nottheonion]</td>\n",
       "      <td>[/r]</td>\n",
       "    </tr>\n",
       "    <tr>\n",
       "      <th>2</th>\n",
       "      <td>(About, .,  , Fucking, .,  , Time, .)</td>\n",
       "      <td>[About,  , Fucking,  , Time]</td>\n",
       "      <td>[., ., .]</td>\n",
       "    </tr>\n",
       "    <tr>\n",
       "      <th>3</th>\n",
       "      <td>(The, perimeters, around, this, relaunching, w...</td>\n",
       "      <td>[The, perimeters, around, this, relaunching, w...</td>\n",
       "      <td>[.]</td>\n",
       "    </tr>\n",
       "    <tr>\n",
       "      <th>4</th>\n",
       "      <td>(Typical, liberal)</td>\n",
       "      <td>[Typical, liberal]</td>\n",
       "      <td>[]</td>\n",
       "    </tr>\n",
       "  </tbody>\n",
       "</table>\n",
       "</div>"
      ],
      "text/plain": [
       "                                      Comment Parsed  \\\n",
       "0  (Matthews, must, mistakenly, think, that, if, ...   \n",
       "1                               (/r, /, nottheonion)   \n",
       "2              (About, .,  , Fucking, .,  , Time, .)   \n",
       "3  (The, perimeters, around, this, relaunching, w...   \n",
       "4                                 (Typical, liberal)   \n",
       "\n",
       "                                              Tokens Punctuation  \n",
       "0  [Matthews, must, mistakenly, think, that, if, ...         [.]  \n",
       "1                                   [/, nottheonion]        [/r]  \n",
       "2                       [About,  , Fucking,  , Time]   [., ., .]  \n",
       "3  [The, perimeters, around, this, relaunching, w...         [.]  \n",
       "4                                 [Typical, liberal]          []  "
      ]
     },
     "execution_count": 37,
     "metadata": {},
     "output_type": "execute_result"
    }
   ],
   "source": [
    "Total_noirony.head()"
   ]
  },
  {
   "cell_type": "code",
   "execution_count": 38,
   "metadata": {},
   "outputs": [],
   "source": [
    "#Average word length\n",
    "nonir_wordl_list = []\n",
    "for comment in non_ironic_word_list:\n",
    "    nonir_wordl_list.append(average_word_length(comment))\n",
    "# print(len(nonir_wordl_list))\n",
    "\n",
    "#Create DataFrame for Summary of Irony STATS\n",
    "summary_noirony = pd.DataFrame({\"Average Word Length\": nonir_wordl_list})\n",
    "# summary_noirony.head()"
   ]
  },
  {
   "cell_type": "code",
   "execution_count": 39,
   "metadata": {},
   "outputs": [
    {
     "name": "stdout",
     "output_type": "stream",
     "text": [
      "977\n"
     ]
    },
    {
     "data": {
      "text/html": [
       "<div>\n",
       "<style scoped>\n",
       "    .dataframe tbody tr th:only-of-type {\n",
       "        vertical-align: middle;\n",
       "    }\n",
       "\n",
       "    .dataframe tbody tr th {\n",
       "        vertical-align: top;\n",
       "    }\n",
       "\n",
       "    .dataframe thead th {\n",
       "        text-align: right;\n",
       "    }\n",
       "</style>\n",
       "<table border=\"1\" class=\"dataframe\">\n",
       "  <thead>\n",
       "    <tr style=\"text-align: right;\">\n",
       "      <th></th>\n",
       "      <th>Average Word Length</th>\n",
       "      <th>Average Sentence Length</th>\n",
       "    </tr>\n",
       "  </thead>\n",
       "  <tbody>\n",
       "    <tr>\n",
       "      <th>0</th>\n",
       "      <td>4.750000</td>\n",
       "      <td>17.000000</td>\n",
       "    </tr>\n",
       "    <tr>\n",
       "      <th>1</th>\n",
       "      <td>6.000000</td>\n",
       "      <td>3.000000</td>\n",
       "    </tr>\n",
       "    <tr>\n",
       "      <th>2</th>\n",
       "      <td>3.600000</td>\n",
       "      <td>2.666667</td>\n",
       "    </tr>\n",
       "    <tr>\n",
       "      <th>3</th>\n",
       "      <td>5.285714</td>\n",
       "      <td>22.000000</td>\n",
       "    </tr>\n",
       "    <tr>\n",
       "      <th>4</th>\n",
       "      <td>7.000000</td>\n",
       "      <td>2.000000</td>\n",
       "    </tr>\n",
       "  </tbody>\n",
       "</table>\n",
       "</div>"
      ],
      "text/plain": [
       "   Average Word Length  Average Sentence Length\n",
       "0             4.750000                17.000000\n",
       "1             6.000000                 3.000000\n",
       "2             3.600000                 2.666667\n",
       "3             5.285714                22.000000\n",
       "4             7.000000                 2.000000"
      ]
     },
     "execution_count": 39,
     "metadata": {},
     "output_type": "execute_result"
    }
   ],
   "source": [
    "#Average Sentence Length\n",
    "nonir_sentl_list = []\n",
    "for x in non_ir_comment_list:\n",
    "    nonir_sentl_list.append(average_sent_length(x))\n",
    "    \n",
    "print(len(nonir_sentl_list))\n",
    "\n",
    "# #Add to Summary of Irony STATS df\n",
    "summary_noirony[\"Average Sentence Length\"] = nonir_sentl_list\n",
    "summary_noirony.head()"
   ]
  },
  {
   "cell_type": "code",
   "execution_count": 40,
   "metadata": {},
   "outputs": [],
   "source": [
    "non_ir_sarcsymb = check_sarcsymbol(non_ir_comment_list)\n",
    "non_ir_sarcsymb = (len(non_ir_sarcsymb))"
   ]
  },
  {
   "cell_type": "code",
   "execution_count": 41,
   "metadata": {},
   "outputs": [
    {
     "data": {
      "text/html": [
       "<div>\n",
       "<style scoped>\n",
       "    .dataframe tbody tr th:only-of-type {\n",
       "        vertical-align: middle;\n",
       "    }\n",
       "\n",
       "    .dataframe tbody tr th {\n",
       "        vertical-align: top;\n",
       "    }\n",
       "\n",
       "    .dataframe thead th {\n",
       "        text-align: right;\n",
       "    }\n",
       "</style>\n",
       "<table border=\"1\" class=\"dataframe\">\n",
       "  <thead>\n",
       "    <tr style=\"text-align: right;\">\n",
       "      <th></th>\n",
       "      <th>Average Word Length</th>\n",
       "      <th>Average Sentence Length</th>\n",
       "      <th>Punctuation Richness</th>\n",
       "    </tr>\n",
       "  </thead>\n",
       "  <tbody>\n",
       "    <tr>\n",
       "      <th>0</th>\n",
       "      <td>4.750000</td>\n",
       "      <td>17.000000</td>\n",
       "      <td>9.0</td>\n",
       "    </tr>\n",
       "    <tr>\n",
       "      <th>1</th>\n",
       "      <td>6.000000</td>\n",
       "      <td>3.000000</td>\n",
       "      <td>2.0</td>\n",
       "    </tr>\n",
       "    <tr>\n",
       "      <th>2</th>\n",
       "      <td>3.600000</td>\n",
       "      <td>2.666667</td>\n",
       "      <td>5.5</td>\n",
       "    </tr>\n",
       "    <tr>\n",
       "      <th>3</th>\n",
       "      <td>5.285714</td>\n",
       "      <td>22.000000</td>\n",
       "      <td>11.5</td>\n",
       "    </tr>\n",
       "    <tr>\n",
       "      <th>4</th>\n",
       "      <td>7.000000</td>\n",
       "      <td>2.000000</td>\n",
       "      <td>1.0</td>\n",
       "    </tr>\n",
       "  </tbody>\n",
       "</table>\n",
       "</div>"
      ],
      "text/plain": [
       "   Average Word Length  Average Sentence Length  Punctuation Richness\n",
       "0             4.750000                17.000000                   9.0\n",
       "1             6.000000                 3.000000                   2.0\n",
       "2             3.600000                 2.666667                   5.5\n",
       "3             5.285714                22.000000                  11.5\n",
       "4             7.000000                 2.000000                   1.0"
      ]
     },
     "execution_count": 41,
     "metadata": {},
     "output_type": "execute_result"
    }
   ],
   "source": [
    "#uses punct function (basically takes total number of all punct and divides by number\n",
    "#of overall tokens)\n",
    "nonir_punct_avg = get_punct_average(non_ironic_puct_list, non_ir_comment_list)\n",
    "#print(len(nonir_punct_avg))\n",
    "\n",
    "summary_noirony[\"Punctuation Richness\"] = nonir_punct_avg\n",
    "summary_noirony.head()"
   ]
  },
  {
   "cell_type": "markdown",
   "metadata": {},
   "source": [
    "# Get Total Stats JOINT - Summary in Pandas DF \n",
    "- average/mean for:\n",
    "        (1)relative word counts\n",
    "        (2)word length\n",
    "        (3)sentence length"
   ]
  },
  {
   "cell_type": "code",
   "execution_count": 42,
   "metadata": {},
   "outputs": [],
   "source": [
    "#AVERAGE WORD LENGTH summary\n",
    "\n",
    "ir_dist_word = summary_irony[\"Average Word Length\"].mean() #print(ir_dist_word)\n",
    "non_ir_dist_word = summary_noirony[\"Average Word Length\"].mean()# print(non_ir_dist_word)\n"
   ]
  },
  {
   "cell_type": "code",
   "execution_count": 43,
   "metadata": {},
   "outputs": [],
   "source": [
    "#AVERAGE SENTENCE LENGTH summary\n",
    "ir_dist_sent = summary_irony[\"Average Sentence Length\"].mean() # print(ir_dist_sent)\n",
    "non_ir_dist_sent = summary_noirony[\"Average Sentence Length\"].mean()# print(non_ir_dist_sent)"
   ]
  },
  {
   "cell_type": "code",
   "execution_count": 44,
   "metadata": {},
   "outputs": [],
   "source": [
    "#AVERAGE PUNCTUATION RICHNESS summary\n",
    "ir_dist_punct = summary_irony[\"Punctuation Richness\"].mean()\n",
    "non_ir_dist_punct = summary_noirony[\"Punctuation Richness\"].mean()"
   ]
  },
  {
   "cell_type": "code",
   "execution_count": 45,
   "metadata": {},
   "outputs": [
    {
     "data": {
      "text/html": [
       "<div>\n",
       "<style scoped>\n",
       "    .dataframe tbody tr th:only-of-type {\n",
       "        vertical-align: middle;\n",
       "    }\n",
       "\n",
       "    .dataframe tbody tr th {\n",
       "        vertical-align: top;\n",
       "    }\n",
       "\n",
       "    .dataframe thead th {\n",
       "        text-align: right;\n",
       "    }\n",
       "</style>\n",
       "<table border=\"1\" class=\"dataframe\">\n",
       "  <thead>\n",
       "    <tr style=\"text-align: right;\">\n",
       "      <th></th>\n",
       "      <th>Average Word Length</th>\n",
       "      <th>Average Sentence Length</th>\n",
       "      <th>Number of '/s' symbols</th>\n",
       "      <th>Punctuation Richness</th>\n",
       "    </tr>\n",
       "  </thead>\n",
       "  <tbody>\n",
       "    <tr>\n",
       "      <th>Ironic Comments</th>\n",
       "      <td>4.304183</td>\n",
       "      <td>14.261968</td>\n",
       "      <td>3</td>\n",
       "      <td>18.701550</td>\n",
       "    </tr>\n",
       "    <tr>\n",
       "      <th>Non-ironic Comments</th>\n",
       "      <td>4.411010</td>\n",
       "      <td>15.805244</td>\n",
       "      <td>0</td>\n",
       "      <td>32.517912</td>\n",
       "    </tr>\n",
       "  </tbody>\n",
       "</table>\n",
       "</div>"
      ],
      "text/plain": [
       "                     Average Word Length  Average Sentence Length  \\\n",
       "Ironic Comments                 4.304183                14.261968   \n",
       "Non-ironic Comments             4.411010                15.805244   \n",
       "\n",
       "                     Number of '/s' symbols  Punctuation Richness  \n",
       "Ironic Comments                           3             18.701550  \n",
       "Non-ironic Comments                       0             32.517912  "
      ]
     },
     "execution_count": 45,
     "metadata": {},
     "output_type": "execute_result"
    }
   ],
   "source": [
    "#Create a Summary Stats dataframe (view both ironic/non-ironic average stats\n",
    "summary_stats = pd.DataFrame(columns=[\"Average Word Length\",\"Average Sentence Length\"], index=[\"Ironic Comments\", \"Non-ironic Comments\"])\n",
    "\n",
    "summary_stats[\"Average Word Length\"] = ir_dist_word, non_ir_dist_word\n",
    "summary_stats[\"Average Sentence Length\"] = ir_dist_sent, non_ir_dist_sent\n",
    "summary_stats[\"Number of '/s' symbols\"] = ir_sarcsymb, non_ir_sarcsymb\n",
    "summary_stats[\"Punctuation Richness\"] = ir_dist_punct, non_ir_dist_punct\n",
    "\n",
    "summary_stats"
   ]
  },
  {
   "cell_type": "markdown",
   "metadata": {},
   "source": [
    "# Visualisation for Summary of all Statistics (for ironic vs non-ironic)\n",
    "- YAAAAS actually got it to work and make it look cool"
   ]
  },
  {
   "cell_type": "code",
   "execution_count": 46,
   "metadata": {},
   "outputs": [
    {
     "data": {
      "image/png": "[encoded data removed]",
      "text/plain": [
       "<Figure size 864x648 with 1 Axes>"
      ]
     },
     "metadata": {},
     "output_type": "display_data"
    }
   ],
   "source": [
    "# summary_stats.plot.bar()\n",
    "\n",
    "reset_indexbar = summary_stats.reset_index().melt(id_vars=[\"index\"]) \n",
    "#summary_stats.head()\n",
    "\n",
    "plt.figure(figsize=(12,9)) #size on-screen\n",
    "sns.barplot(x=\"variable\", y=\"value\", hue=\"index\", data=reset_indexbar, palette=[\"red\", \"lightsteelblue\"] )\n",
    "plt.xticks(rotation=45)\n",
    "\n",
    "# #instead of palette, try -- color = \"lightsteelblue\"\n",
    "\n",
    "plt.title(\"Summary of statistics for Ironic and Non-ironic Reddit Comments\", fontsize=20)\n",
    "plt.ylabel(\"Number\", fontsize=15)\n",
    "plt.xlabel(\"\")\n",
    "#plt.xlabel(\"Statistics Type\", fontsize=15)\n",
    "plt.tick_params(labelsize=15)\n"
   ]
  },
  {
   "cell_type": "markdown",
   "metadata": {},
   "source": [
    "# ----Liiizzzzaaaa! we could definitely use a pre-built sentiment analysis classifier to then get a list of positive/negative/neutral results\n",
    "--- our project is to focus on the irony side and sentiment could be a feature of that ;)\n",
    "\n",
    "1)Add to summary for each irony/no-irony df as additional column for each comment\n",
    "     \n",
    "     E.g.      NON-IRONIC               IRONIC\n",
    "     \n",
    "         1.    positive                 negative\n",
    "         2.    positive                 positive\n",
    "         3.    negative   - etc         negative\n",
    "\n",
    "\n",
    "2)Whatever is more frequent in those lists then will get added to total STATS (master) list\n",
    "\n",
    "     E.g.      NON-IRONIC               IRONIC\n",
    "               positive                 negative     \n",
    "         \n",
    "\n",
    "*) naive bayes \n",
    "\n",
    "*) from nltk.sentiment.vader import SentimentIntensityAnalyzer\n",
    "\n",
    "   sentiment_analyzer = SentimentIntensityAnalyzer()\n",
    "\n",
    "*) Other?????"
   ]
  },
  {
   "cell_type": "markdown",
   "metadata": {},
   "source": [
    "# It's the end of the road...\n",
    "# All pete tong from here\n",
    "\n",
    "\n",
    "lol was? was hast du gesagt?? i zink i am going crazie"
   ]
  },
  {
   "cell_type": "markdown",
   "metadata": {},
   "source": [
    "# SpaCy Continued: Text Processing \n",
    "\n",
    "- stopwords, punctuation, lemmatize\n",
    "\n",
    "- (need to run named entity recognition AND sentiment analysis)\n",
    "\n",
    "[sentiment analysis - ironic ones should typically be more negative....]"
   ]
  },
  {
   "cell_type": "code",
   "execution_count": 47,
   "metadata": {},
   "outputs": [],
   "source": [
    "##NUMBER OF EACH PUNCT MARK\n",
    "##LEMMATIZE\n",
    "##SENTIMENT ANALYSIS\n",
    "##NAMED ENTITY RECOGNITION\n",
    "##NUMBER OF \"LIKES\"/\"AS\"??? for similies?? indicative of irony??"
   ]
  },
  {
   "cell_type": "code",
   "execution_count": 48,
   "metadata": {},
   "outputs": [
    {
     "data": {
      "text/plain": [
       "'nominal subject'"
      ]
     },
     "execution_count": 48,
     "metadata": {},
     "output_type": "execute_result"
    }
   ],
   "source": [
    "spacy.explain(\"nsubj\")"
   ]
  },
  {
   "cell_type": "code",
   "execution_count": 49,
   "metadata": {},
   "outputs": [],
   "source": [
    "#\\\\n\\\\n between comments "
   ]
  },
  {
   "cell_type": "code",
   "execution_count": 50,
   "metadata": {},
   "outputs": [
    {
     "ename": "NameError",
     "evalue": "name 'ir_pun_dict' is not defined",
     "output_type": "error",
     "traceback": [
      "\u001b[1;31m---------------------------------------------------------------------------\u001b[0m",
      "\u001b[1;31mNameError\u001b[0m                                 Traceback (most recent call last)",
      "\u001b[1;32m<ipython-input-50-18af7415f1d7>\u001b[0m in \u001b[0;36m<module>\u001b[1;34m()\u001b[0m\n\u001b[0;32m      1\u001b[0m \u001b[1;31m#convert dictionaries into pandas df for better visualisation/comparison\u001b[0m\u001b[1;33m\u001b[0m\u001b[1;33m\u001b[0m\u001b[0m\n\u001b[1;32m----> 2\u001b[1;33m \u001b[0mdf_punct\u001b[0m \u001b[1;33m=\u001b[0m \u001b[0mpd\u001b[0m\u001b[1;33m.\u001b[0m\u001b[0mDataFrame\u001b[0m\u001b[1;33m(\u001b[0m\u001b[0mir_pun_dict\u001b[0m\u001b[1;33m,\u001b[0m \u001b[0mindex\u001b[0m\u001b[1;33m=\u001b[0m\u001b[1;33m[\u001b[0m\u001b[1;34m\"Ironic Comments\"\u001b[0m\u001b[1;33m,\u001b[0m \u001b[1;34m\"Non-ironic Comments\"\u001b[0m\u001b[1;33m]\u001b[0m\u001b[1;33m)\u001b[0m\u001b[1;33m\u001b[0m\u001b[0m\n\u001b[0m\u001b[0;32m      3\u001b[0m \u001b[0mdf_punct\u001b[0m\u001b[1;33m.\u001b[0m\u001b[0miloc\u001b[0m\u001b[1;33m[\u001b[0m\u001b[1;36m1\u001b[0m\u001b[1;33m]\u001b[0m \u001b[1;33m=\u001b[0m \u001b[0mnon_ir_pun_dict\u001b[0m\u001b[1;33m\u001b[0m\u001b[0m\n\u001b[0;32m      4\u001b[0m \u001b[1;33m\u001b[0m\u001b[0m\n\u001b[0;32m      5\u001b[0m \u001b[0mdf_punct\u001b[0m\u001b[1;33m\u001b[0m\u001b[0m\n",
      "\u001b[1;31mNameError\u001b[0m: name 'ir_pun_dict' is not defined"
     ]
    }
   ],
   "source": [
    "#convert dictionaries into pandas df for better visualisation/comparison\n",
    "df_punct = pd.DataFrame(ir_pun_dict, index=[\"Ironic Comments\", \"Non-ironic Comments\"])\n",
    "df_punct.iloc[1] = non_ir_pun_dict\n",
    "\n",
    "df_punct\n",
    "\n",
    "##see if can switch round (columns vs rows)\n",
    "\n",
    "#how to get an average"
   ]
  },
  {
   "cell_type": "code",
   "execution_count": null,
   "metadata": {},
   "outputs": [],
   "source": [
    "ax = sns.barplot(x=\"#\" ,y=\"index\",color='lightsteelblue',data=df)"
   ]
  },
  {
   "cell_type": "code",
   "execution_count": null,
   "metadata": {},
   "outputs": [],
   "source": [
    "# stopwords = list(STOP_WORDS)\n",
    "# stopwords"
   ]
  },
  {
   "cell_type": "code",
   "execution_count": null,
   "metadata": {},
   "outputs": [],
   "source": [
    "def get_entities(doc):\n",
    "    for ent in doc.ents:\n",
    "        print(f\"Entity: {ent}, Label: {ent.label_}, {spacy.explain(ent.label_)}\")\n",
    "        \n",
    "#     d = {}\n",
    "#     for ent in doc.ents:\n",
    "#         if ent not in d:\n",
    "#             d[\"Entity\"] = [ent]\n",
    "#             d[\"Label\"] = ent.label_\n",
    "#             d[\"Explain\"] = spacy.explain(ent.label_)\n",
    "#         else:\n",
    "#             pass\n",
    "#     return d"
   ]
  },
  {
   "cell_type": "code",
   "execution_count": null,
   "metadata": {},
   "outputs": [],
   "source": [
    "ir_ents = get_entities(ir_doc)\n",
    "non_ir_ents = get_entities(non_ir_doc)\n",
    "print(ir_ents)\n",
    "\n",
    "#print(type(non_ir_ents))\n",
    "\n",
    "##want to convert to pandas df after BUT CANT DO THIS DICT GRRRR"
   ]
  },
  {
   "cell_type": "code",
   "execution_count": null,
   "metadata": {},
   "outputs": [],
   "source": [
    "#Check this out below! i've hashtagged it as its long but if you download the file and unhashtag it, it automatically does the NER for you and visualises it sick!"
   ]
  },
  {
   "cell_type": "code",
   "execution_count": null,
   "metadata": {},
   "outputs": [],
   "source": [
    "ir_ent_visual = spacy.displacy.render(ir_doc, style=\"ent\", jupyter=True)"
   ]
  },
  {
   "cell_type": "code",
   "execution_count": null,
   "metadata": {},
   "outputs": [],
   "source": [
    "non_ir_ent_visual = spacy.displacy.render(non_ir_doc, style=\"ent\", jupyter=True)"
   ]
  },
  {
   "cell_type": "code",
   "execution_count": null,
   "metadata": {},
   "outputs": [],
   "source": [
    "#get PERSON names\n",
    "\n",
    "def get_PERSON_names(doc):\n",
    "    PERSON_names = set()\n",
    "    for token in doc:\n",
    "        if token.ent_type_ == \"PERSON\":\n",
    "            PERSON_names.add(token)\n",
    "        else:\n",
    "            pass\n",
    "    return PERSON_names"
   ]
  },
  {
   "cell_type": "code",
   "execution_count": null,
   "metadata": {},
   "outputs": [],
   "source": [
    "ir_PERSON = get_PERSON_names(ir_doc)\n",
    "non_ir_PERSON = get_PERSON_names(non_ir_doc)\n",
    "\n",
    "print(non_ir_PERSON)"
   ]
  }
 ],
 "metadata": {
  "kernelspec": {
   "display_name": "Python 3",
   "language": "python",
   "name": "python3"
  },
  "language_info": {
   "codemirror_mode": {
    "name": "ipython",
    "version": 3
   },
   "file_extension": ".py",
   "mimetype": "text/x-python",
   "name": "python",
   "nbconvert_exporter": "python",
   "pygments_lexer": "ipython3",
   "version": "3.6.5"
  }
 },
 "nbformat": 4,
 "nbformat_minor": 2
}
