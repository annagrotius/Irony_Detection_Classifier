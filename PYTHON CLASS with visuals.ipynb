{
 "cells": [
  {
   "cell_type": "code",
   "execution_count": 1,
   "metadata": {},
   "outputs": [],
   "source": [
    "#import/install all packages at the top\n",
    "\n",
    "import pandas as pd\n",
    "import numpy as np\n",
    "import seaborn as sns\n",
    "import matplotlib.pyplot as plt\n",
    "from collections import Counter\n",
    "from spacy.lang.en.stop_words import STOP_WORDS\n",
    "import string"
   ]
  },
  {
   "cell_type": "code",
   "execution_count": 2,
   "metadata": {},
   "outputs": [
    {
     "data": {
      "text/html": [
       "<div>\n",
       "<style scoped>\n",
       "    .dataframe tbody tr th:only-of-type {\n",
       "        vertical-align: middle;\n",
       "    }\n",
       "\n",
       "    .dataframe tbody tr th {\n",
       "        vertical-align: top;\n",
       "    }\n",
       "\n",
       "    .dataframe thead th {\n",
       "        text-align: right;\n",
       "    }\n",
       "</style>\n",
       "<table border=\"1\" class=\"dataframe\">\n",
       "  <thead>\n",
       "    <tr style=\"text-align: right;\">\n",
       "      <th></th>\n",
       "      <th>comment_text</th>\n",
       "      <th>label</th>\n",
       "    </tr>\n",
       "  </thead>\n",
       "  <tbody>\n",
       "    <tr>\n",
       "      <th>0</th>\n",
       "      <td>I suspect atheists are projecting their desire...</td>\n",
       "      <td>-1</td>\n",
       "    </tr>\n",
       "    <tr>\n",
       "      <th>1</th>\n",
       "      <td>It's funny how the arguments the shills are ma...</td>\n",
       "      <td>-1</td>\n",
       "    </tr>\n",
       "    <tr>\n",
       "      <th>2</th>\n",
       "      <td>We are truly following the patterns of how the...</td>\n",
       "      <td>-1</td>\n",
       "    </tr>\n",
       "    <tr>\n",
       "      <th>3</th>\n",
       "      <td>air pressure dropping as altitude goes higher....</td>\n",
       "      <td>-1</td>\n",
       "    </tr>\n",
       "    <tr>\n",
       "      <th>4</th>\n",
       "      <td>Absolutely.  I think we'd be hard pressed to f...</td>\n",
       "      <td>-1</td>\n",
       "    </tr>\n",
       "  </tbody>\n",
       "</table>\n",
       "</div>"
      ],
      "text/plain": [
       "                                        comment_text  label\n",
       "0  I suspect atheists are projecting their desire...     -1\n",
       "1  It's funny how the arguments the shills are ma...     -1\n",
       "2  We are truly following the patterns of how the...     -1\n",
       "3  air pressure dropping as altitude goes higher....     -1\n",
       "4  Absolutely.  I think we'd be hard pressed to f...     -1"
      ]
     },
     "execution_count": 2,
     "metadata": {},
     "output_type": "execute_result"
    }
   ],
   "source": [
    "#import and read file in df with pandas (for better visualisation)\n",
    "\n",
    "filename= \"/Users/laure/OneDrive/Dokumente/VU/Python for Text Analysis/Final Assignment/irony-labeled.csv\"\n",
    "\n",
    "df = pd.read_csv(filename)\n",
    "\n",
    "df.head()"
   ]
  },
  {
   "cell_type": "code",
   "execution_count": 3,
   "metadata": {},
   "outputs": [
    {
     "data": {
      "text/plain": [
       "-1    1412\n",
       " 1     537\n",
       "Name: label, dtype: int64"
      ]
     },
     "execution_count": 3,
     "metadata": {},
     "output_type": "execute_result"
    }
   ],
   "source": [
    "#counts number of each class \n",
    "df[\"label\"].value_counts()"
   ]
  },
  {
   "cell_type": "code",
   "execution_count": 4,
   "metadata": {},
   "outputs": [],
   "source": [
    "#rename the columns\n",
    "df.columns = [\"Comment_Text\", \"Label\"]"
   ]
  },
  {
   "cell_type": "code",
   "execution_count": 5,
   "metadata": {},
   "outputs": [
    {
     "data": {
      "text/plain": [
       "Comment_Text    0\n",
       "Label           0\n",
       "dtype: int64"
      ]
     },
     "execution_count": 5,
     "metadata": {},
     "output_type": "execute_result"
    }
   ],
   "source": [
    "#checking for any missing values\n",
    "missing_data = df.isnull().sum()\n",
    "missing_data"
   ]
  },
  {
   "cell_type": "code",
   "execution_count": 6,
   "metadata": {},
   "outputs": [
    {
     "name": "stdout",
     "output_type": "stream",
     "text": [
      "This Irony dataset entails 1949 items\n"
     ]
    }
   ],
   "source": [
    "print(\"This Irony dataset entails\", len(df), \"items\")"
   ]
  },
  {
   "cell_type": "code",
   "execution_count": 7,
   "metadata": {},
   "outputs": [
    {
     "name": "stdout",
     "output_type": "stream",
     "text": [
      "The dataset enails a total of 537 IRONIC comments\n",
      "The dataset enails a total of 1412 NON-IRONIC comments\n"
     ]
    }
   ],
   "source": [
    "#Count number of ironic (1) and non-ironic (-1) comments in data\n",
    "\n",
    "ironic = []\n",
    "non_ironic = []\n",
    "\n",
    "for x in df[\"Label\"]:\n",
    "    if x == 1:\n",
    "        ironic.append(x)\n",
    "    else:\n",
    "        non_ironic.append(x)\n",
    "\n",
    "print(f\"The dataset enails a total of {len(ironic)} IRONIC comments\") #27.55%\n",
    "print(f\"The dataset enails a total of {len(non_ironic)} NON-IRONIC comments\") #72.45%\n",
    "#537x100 / 1949 = 27.55%"
   ]
  },
  {
   "cell_type": "markdown",
   "metadata": {},
   "source": [
    "# Split into Train (70), Validation (10) and Test (20) sets\n",
    "\n",
    "-using scikit learn 'train_test_split' function twices gives the validation set"
   ]
  },
  {
   "cell_type": "code",
   "execution_count": 8,
   "metadata": {},
   "outputs": [],
   "source": [
    "from sklearn.model_selection import train_test_split"
   ]
  },
  {
   "cell_type": "code",
   "execution_count": 9,
   "metadata": {},
   "outputs": [],
   "source": [
    "y = df[\"Comment_Text\"]\n",
    "x = df[\"Label\"]\n",
    "\n",
    "#think this is the right way round.... !! \n",
    "#i.e. x = label, y = comment, but we may need to check haha\n",
    "\n",
    "##double check and see top 5\n",
    "# print(x.head())\n",
    "# print(y.head())"
   ]
  },
  {
   "cell_type": "code",
   "execution_count": 10,
   "metadata": {},
   "outputs": [],
   "source": [
    "#test and train sets\n",
    "X_train, X_test, y_train, y_test = train_test_split(x, y, test_size=0.2, random_state=43)\n",
    "\n",
    "#split the training set to get validation\n",
    "X_train, X_val, y_train, y_val = train_test_split(X_train, y_train, test_size=0.125, random_state=43)"
   ]
  },
  {
   "cell_type": "code",
   "execution_count": 11,
   "metadata": {},
   "outputs": [
    {
     "name": "stdout",
     "output_type": "stream",
     "text": [
      "The Train set entails: 1364 items\n",
      "The Test set entails: 390 items\n",
      "This Validation set entails: 195 items\n"
     ]
    }
   ],
   "source": [
    "#pandas concat joins series together (i.e. dataframes)\n",
    "train = pd.concat([X_train, y_train], axis=1)\n",
    "test = pd.concat([X_test, y_test], axis=1)\n",
    "val = pd.concat([X_val, y_val], axis=1)\n",
    "\n",
    "print(\"The Train set entails:\", len(train), \"items\") #70\n",
    "print(\"The Test set entails:\", len(test), \"items\")  #20\n",
    "print(\"This Validation set entails:\", len(val), \"items\")   #10"
   ]
  },
  {
   "cell_type": "code",
   "execution_count": 12,
   "metadata": {},
   "outputs": [
    {
     "name": "stdout",
     "output_type": "stream",
     "text": [
      "Training Data Shape: (1364, 2)\n",
      "Testing Data Shape: (390, 2)\n",
      "Validation Data Shape: (195, 2)\n"
     ]
    }
   ],
   "source": [
    "# pandas '.shape' to see dataframe in form of tuples (no. of rows / cols)\n",
    "\n",
    "print(\"Training Data Shape:\", train.shape)\n",
    "print(\"Testing Data Shape:\", test.shape)\n",
    "print(\"Validation Data Shape:\", val.shape)"
   ]
  },
  {
   "cell_type": "markdown",
   "metadata": {},
   "source": [
    "# Summaries of the distribution of comments by both labels (i.e. non-ironic = -1, ironic = 1)\n",
    "\n",
    "- use matplotlib to create THREE bar charts for visualisation for each of the sets:\n",
    "        (1) Train\n",
    "        (2) Validation\n",
    "        (3) Test"
   ]
  },
  {
   "cell_type": "code",
   "execution_count": 13,
   "metadata": {},
   "outputs": [
    {
     "data": {
      "image/png": "[encoded data removed]",
      "text/plain": [
       "<Figure size 576x432 with 1 Axes>"
      ]
     },
     "metadata": {},
     "output_type": "display_data"
    }
   ],
   "source": [
    "#TRAIN\n",
    "\n",
    "fig = plt.figure(figsize=(8,6))\n",
    "sns.barplot(x = train[\"Label\"].unique(), \n",
    "            y=train[\"Label\"].value_counts())\n",
    "\n",
    "plt.title(\"Training Data: Ironic vs Non-ironic Reddit Comments\")\n",
    "plt.ylabel(\"Number of Reddit Comments\")\n",
    "plt.xlabel(\"Irony Labels (Not Ironic=-1; Ironic=1)\")\n",
    "plt.show()"
   ]
  },
  {
   "cell_type": "code",
   "execution_count": 14,
   "metadata": {},
   "outputs": [
    {
     "data": {
      "image/png": "[encoded data removed]",
      "text/plain": [
       "<Figure size 576x432 with 1 Axes>"
      ]
     },
     "metadata": {},
     "output_type": "display_data"
    }
   ],
   "source": [
    "#VALIDATION\n",
    "\n",
    "fig = plt.figure(figsize=(8,6))\n",
    "sns.barplot(x = val[\"Label\"].unique(), \n",
    "            y=val[\"Label\"].value_counts())\n",
    "\n",
    "plt.title(\"Validation Data: Ironic vs Non-ironic Reddit Comments\")\n",
    "plt.ylabel(\"Number of Reddit Comments\")\n",
    "plt.xlabel(\"Irony Labels (Not Ironic=-1; Ironic=1)\")\n",
    "plt.show()"
   ]
  },
  {
   "cell_type": "code",
   "execution_count": 15,
   "metadata": {},
   "outputs": [
    {
     "data": {
      "image/png": "[encoded data removed]",
      "text/plain": [
       "<Figure size 576x432 with 1 Axes>"
      ]
     },
     "metadata": {},
     "output_type": "display_data"
    }
   ],
   "source": [
    "#TEST\n",
    "\n",
    "fig = plt.figure(figsize=(8,6))\n",
    "sns.barplot(x = test[\"Label\"].unique(), \n",
    "            y=test[\"Label\"].value_counts())\n",
    "\n",
    "plt.title(\"Testing Data: Ironic vs Non-ironic Reddit Comments\")\n",
    "plt.ylabel(\"Number of Reddit Comments\")\n",
    "plt.xlabel(\"Irony Labels (Not Ironic=-1; Ironic=1)\")\n",
    "plt.show()"
   ]
  },
  {
   "cell_type": "code",
   "execution_count": 16,
   "metadata": {},
   "outputs": [
    {
     "data": {
      "text/html": [
       "<div>\n",
       "<style scoped>\n",
       "    .dataframe tbody tr th:only-of-type {\n",
       "        vertical-align: middle;\n",
       "    }\n",
       "\n",
       "    .dataframe tbody tr th {\n",
       "        vertical-align: top;\n",
       "    }\n",
       "\n",
       "    .dataframe thead th {\n",
       "        text-align: right;\n",
       "    }\n",
       "</style>\n",
       "<table border=\"1\" class=\"dataframe\">\n",
       "  <thead>\n",
       "    <tr style=\"text-align: right;\">\n",
       "      <th></th>\n",
       "      <th>Label</th>\n",
       "      <th>Comment_Text</th>\n",
       "    </tr>\n",
       "  </thead>\n",
       "  <tbody>\n",
       "    <tr>\n",
       "      <th>254</th>\n",
       "      <td>-1</td>\n",
       "      <td>Matthews must mistakenly think that if O'Reill...</td>\n",
       "    </tr>\n",
       "    <tr>\n",
       "      <th>331</th>\n",
       "      <td>1</td>\n",
       "      <td>Yep it is hard to get a good education and the...</td>\n",
       "    </tr>\n",
       "    <tr>\n",
       "      <th>1141</th>\n",
       "      <td>-1</td>\n",
       "      <td>/r/nottheonion</td>\n",
       "    </tr>\n",
       "    <tr>\n",
       "      <th>1642</th>\n",
       "      <td>-1</td>\n",
       "      <td>About.  Fucking.  Time.</td>\n",
       "    </tr>\n",
       "    <tr>\n",
       "      <th>1064</th>\n",
       "      <td>-1</td>\n",
       "      <td>The perimeters around this relaunching were ke...</td>\n",
       "    </tr>\n",
       "  </tbody>\n",
       "</table>\n",
       "</div>"
      ],
      "text/plain": [
       "      Label                                       Comment_Text\n",
       "254      -1  Matthews must mistakenly think that if O'Reill...\n",
       "331       1  Yep it is hard to get a good education and the...\n",
       "1141     -1                                     /r/nottheonion\n",
       "1642     -1                            About.  Fucking.  Time.\n",
       "1064     -1  The perimeters around this relaunching were ke..."
      ]
     },
     "execution_count": 16,
     "metadata": {},
     "output_type": "execute_result"
    }
   ],
   "source": [
    "#check format of train df\n",
    "\n",
    "train.head()"
   ]
  },
  {
   "cell_type": "markdown",
   "metadata": {},
   "source": [
    "# CHANGES FROM 21/01/2019 -\n",
    "see below - stuff before deleted to follow the converting to string method we chatted about..."
   ]
  },
  {
   "cell_type": "markdown",
   "metadata": {},
   "source": [
    "# Split train set into \"Ironic\" and \"Not-ironic\" dataframes, then convert each into a list of strings \n",
    "- converting after into list of strings to parse each comment with SpaCy"
   ]
  },
  {
   "cell_type": "code",
   "execution_count": 17,
   "metadata": {},
   "outputs": [
    {
     "name": "stdout",
     "output_type": "stream",
     "text": [
      "Training data contains 387 IRONIC comments\n",
      "Training data contains 977 NON- IRONIC comments\n"
     ]
    }
   ],
   "source": [
    "#Split the training set into Ironic and Not ironic, making 2 new dfs, with same headers\n",
    "ironic_df = train[train[\"Label\"] >= 1]\n",
    "nonironic_df = train[train[\"Label\"] <= -1]\n",
    "\n",
    "print(f\"Training data contains {len(ironic_df)} IRONIC comments\")\n",
    "print(f\"Training data contains {len(nonironic_df)} NON- IRONIC comments\")"
   ]
  },
  {
   "cell_type": "code",
   "execution_count": 18,
   "metadata": {},
   "outputs": [
    {
     "name": "stdout",
     "output_type": "stream",
     "text": [
      "<class 'numpy.ndarray'>\n"
     ]
    }
   ],
   "source": [
    "ironic_comments = ironic_df[\"Comment_Text\"].values\n",
    "non_ironic_comments = nonironic_df[\"Comment_Text\"].values\n",
    "\n",
    "print(type(ironic_comments))"
   ]
  },
  {
   "cell_type": "code",
   "execution_count": 25,
   "metadata": {},
   "outputs": [],
   "source": [
    "def convert_to_string(df_with_columnname):\n",
    "    \"\"\"Convert column of a dataframe into a string - remove headers and index and return entire string\"\"\"\n",
    "    return df_with_columnname.to_string(index=False)"
   ]
  },
  {
   "cell_type": "code",
   "execution_count": 26,
   "metadata": {},
   "outputs": [],
   "source": [
    "#convert both dfs to strings\n",
    "ironic_train_str = convert_to_string(ironic_df[\"Comment_Text\"])\n",
    "nonironic_train_str = convert_to_string(nonironic_df[\"Comment_Text\"])\n",
    "\n",
    "#print(repr(ironic_train_str))\n",
    "#print(repr(notironic_train_str))"
   ]
  },
  {
   "cell_type": "code",
   "execution_count": 27,
   "metadata": {},
   "outputs": [],
   "source": [
    "#here need to remove \\n, \\t etcx = ironic_train_str.split(\"\\\\n\\\\n\")\n",
    "# x = ironic_train_str.split(\"\\\\n\\\\n\")\n",
    "# print(len(x))\n",
    "# #xx = x.replace(\"\\n\", \" \")\n",
    "\n",
    "# print(xx)\n",
    "#import re\n",
    "\n",
    "\n",
    "#remove hyperlinks???? - or maybe do that later????????"
   ]
  },
  {
   "cell_type": "markdown",
   "metadata": {},
   "source": [
    "# Parse through SpaCy to get STATS:\n",
    "\n",
    "-----Create list of functions for each:\n",
    "- average word length\n",
    "- average sentence length\n",
    "- number of word types"
   ]
  },
  {
   "cell_type": "code",
   "execution_count": 28,
   "metadata": {},
   "outputs": [],
   "source": [
    "import spacy\n",
    "nlp = spacy.load(\"en_core_web_sm\")"
   ]
  },
  {
   "cell_type": "code",
   "execution_count": 29,
   "metadata": {},
   "outputs": [],
   "source": [
    "def nlp_convert(text):\n",
    "    \"\"\"Parse text with SpaCy\"\"\"\n",
    "    doc = nlp(text)\n",
    "    return doc"
   ]
  },
  {
   "cell_type": "code",
   "execution_count": 30,
   "metadata": {},
   "outputs": [],
   "source": [
    "#could call nlp_convert in functions below or just leave as is\n",
    "\n",
    "def average_word_length(doc):\n",
    "    \"\"\"Take doc and return average word length\"\"\"\n",
    "    for token in doc:\n",
    "        word = token.text\n",
    "        average_word_length = sum(len(word) for word in doc) / len(doc)\n",
    "    return(average_word_length)\n",
    "\n",
    "def average_sent_length(doc):\n",
    "    \"\"\"Take doc and return average sentence length\"\"\"\n",
    "    sent_list = []\n",
    "\n",
    "    for sent in doc.sents:\n",
    "        len_sent = len(sent)\n",
    "        sent_list.append(len_sent)\n",
    "\n",
    "    total = sum(sent_list)\n",
    "    leng = len(sent_list)\n",
    "\n",
    "    average_sent_length = total / leng\n",
    "    return(average_sent_length)"
   ]
  },
  {
   "cell_type": "code",
   "execution_count": 31,
   "metadata": {},
   "outputs": [],
   "source": [
    "def relative_count_wordtypes(doc):\n",
    "    \"\"\"Return relative count for all word types i.e. nouns, pronouns, verbs etc\"\"\"\n",
    "    pos_tags = []\n",
    "    for token in doc:\n",
    "        pos_tags.append(token.pos_)\n",
    "    return Counter(pos_tags)"
   ]
  },
  {
   "cell_type": "markdown",
   "metadata": {},
   "source": [
    "# IRONIC RETURNS:"
   ]
  },
  {
   "cell_type": "code",
   "execution_count": 32,
   "metadata": {},
   "outputs": [
    {
     "name": "stdout",
     "output_type": "stream",
     "text": [
      "Average Word Length for the Ironic Corpus is: 3.7517522043861633\n",
      "Average Sentence Length for the Ironic Corpus is: 9.55291576673866\n",
      "Relative Count of Word Types for the Ironic Corpus is: \n",
      " Counter({'VERB': 710, 'PUNCT': 710, 'NOUN': 583, 'SPACE': 473, 'DET': 306, 'ADJ': 288, 'ADP': 284, 'PRON': 282, 'PROPN': 276, 'ADV': 247, 'PART': 76, 'CCONJ': 72, 'INTJ': 44, 'NUM': 38, 'X': 19, 'SYM': 15})\n"
     ]
    }
   ],
   "source": [
    "#parse through spacy\n",
    "ir_doc = nlp_convert(ironic_train_str)\n",
    "#print(repr(ir_doc))\n",
    "\n",
    "#average stats (word & sent)\n",
    "ir_average_wordlen = average_word_length(ir_doc)\n",
    "ir_average_sentlength = average_sent_length(ir_doc)\n",
    "\n",
    "#word type stats\n",
    "ir_count_wordtypes = relative_count_wordtypes(ir_doc)\n",
    "\n",
    "print(f\"Average Word Length for the Ironic Corpus is: {ir_average_wordlen}\")\n",
    "print(f\"Average Sentence Length for the Ironic Corpus is: {ir_average_sentlength}\") \n",
    "print(f\"Relative Count of Word Types for the Ironic Corpus is: \\n {ir_count_wordtypes}\")"
   ]
  },
  {
   "cell_type": "markdown",
   "metadata": {},
   "source": [
    "# NON-IRONIC RETURNS:"
   ]
  },
  {
   "cell_type": "code",
   "execution_count": 33,
   "metadata": {},
   "outputs": [
    {
     "name": "stdout",
     "output_type": "stream",
     "text": [
      "Average Word Length for the Non-ironic Corpus is: 9.525021204410518\n",
      "Average Sentence Length for the Non-ironic Corpus is: 9.525021204410518\n",
      "Relative Count of Word Types for the Non-ironic Corpus is: \n",
      " Counter({'VERB': 1822, 'PUNCT': 1767, 'NOUN': 1488, 'SPACE': 1209, 'DET': 933, 'ADP': 742, 'ADV': 741, 'PRON': 738, 'ADJ': 665, 'PROPN': 519, 'CCONJ': 196, 'PART': 175, 'NUM': 91, 'INTJ': 61, 'X': 51, 'SYM': 32})\n"
     ]
    }
   ],
   "source": [
    "#parse through spacy\n",
    "non_ir_doc = nlp_convert(nonironic_train_str)\n",
    "\n",
    "#average stats (word & sent)\n",
    "non_ir_average_wordlen = average_word_length(non_ir_doc)\n",
    "non_ir_average_wordlen = average_sent_length(non_ir_doc)\n",
    "\n",
    "#word type stats\n",
    "non_ir_count_wordtypes = relative_count_wordtypes(non_ir_doc)\n",
    "\n",
    "print(f\"Average Word Length for the Non-ironic Corpus is: {non_ir_average_wordlen}\")\n",
    "print(f\"Average Sentence Length for the Non-ironic Corpus is: {non_ir_average_wordlen}\") \n",
    "print(f\"Relative Count of Word Types for the Non-ironic Corpus is: \\n {non_ir_count_wordtypes}\")\n"
   ]
  },
  {
   "cell_type": "markdown",
   "metadata": {},
   "source": [
    "# Python Class Visualisation "
   ]
  },
  {
   "cell_type": "code",
   "execution_count": 67,
   "metadata": {},
   "outputs": [
    {
     "data": {
      "image/png": "[encoded data removed]",
      "text/plain": [
       "<Figure size 432x288 with 1 Axes>"
      ]
     },
     "metadata": {},
     "output_type": "display_data"
    }
   ],
   "source": [
    "#dict 1  = non_ir_count_wordtypes\n",
    "#dict 2  = ir_count_wordtypes\n",
    "\n",
    "#create grouped bar chart\n",
    "X = np.arange(len(non_ir_count_wordtypes))\n",
    "ax = plt.subplot(111)\n",
    "ax.bar(X, non_ir_count_wordtypes.values(), width=0.4, color='b', align='center')\n",
    "ax.bar(X-0.2, ir_count_wordtypes.values(), width=0.4, color='g', align='center')\n",
    "ax.legend(('Non-ironic Reddit Comments','Ironic Reddit Comments'))\n",
    "plt.xticks(X, non_ir_count_wordtypes.keys())\n",
    "\n",
    "\n",
    "plt.title(\"Relative Count of Word Types in Non-ironic Reddit Comments\", fontsize = 17)\n",
    "plt.ylabel(\"Number of Word Types\")\n",
    "plt.xlabel(\"Word Type\")\n",
    "\n",
    "\n",
    "plt.savefig(\"Relative_word_counts.png\")\n"
   ]
  },
  {
   "cell_type": "code",
   "execution_count": 34,
   "metadata": {},
   "outputs": [],
   "source": [
    "from matplotlib.pyplot import figure"
   ]
  },
  {
   "cell_type": "code",
   "execution_count": 68,
   "metadata": {},
   "outputs": [
    {
     "name": "stdout",
     "output_type": "stream",
     "text": [
      "[ 0  1  2  3  4  5  6  7  8  9 10 11 12 13 14 15]\n"
     ]
    },
    {
     "data": {
      "image/png": "[encoded data removed]",
      "text/plain": [
       "<Figure size 432x288 with 1 Axes>"
      ]
     },
     "metadata": {},
     "output_type": "display_data"
    }
   ],
   "source": [
    "non_ir_wordtype = []\n",
    "non_ir_number = []\n",
    "\n",
    "for x in non_ir_count_wordtypes:\n",
    "    non_ir_wordtype.append(x)\n",
    "    non_ir_number.append(non_ir_count_wordtypes[x])\n",
    "\n",
    "\n",
    "x = np.arange(len(non_ir_count_wordtypes))\n",
    "print(x)\n",
    "plt.bar(x, non_ir_number)\n",
    "plt.xticks(x, non_ir_wordtype, rotation=60)\n",
    "plt.yticks(non_ir_number)\n",
    "\n",
    "plt.title(\"Relative Count of Word Types in Non-ironic Reddit Comments\")\n",
    "plt.ylabel(\"Number of Word Types\")\n",
    "plt.xlabel(\"Word Type\")\n",
    "\n",
    "plt.savefig(\"Non-ironic relative_word_counts.png\")\n",
    "plt.show()"
   ]
  },
  {
   "cell_type": "code",
   "execution_count": 70,
   "metadata": {},
   "outputs": [
    {
     "name": "stdout",
     "output_type": "stream",
     "text": [
      "[ 0  1  2  3  4  5  6  7  8  9 10 11 12 13 14 15]\n"
     ]
    },
    {
     "data": {
      "image/png": "[encoded data removed]",
      "text/plain": [
       "<Figure size 432x288 with 1 Axes>"
      ]
     },
     "metadata": {},
     "output_type": "display_data"
    }
   ],
   "source": [
    "ir_wordtype = []\n",
    "ir_number = []\n",
    "\n",
    "for x in ir_count_wordtypes:\n",
    "    ir_wordtype.append(x)\n",
    "    ir_number.append(ir_count_wordtypes[x])\n",
    "    \n",
    "x = np.arange(len(ir_count_wordtypes))\n",
    "print(x)\n",
    "plt.bar(x, ir_number)\n",
    "plt.xticks(x, ir_wordtype, rotation=60)\n",
    "plt.yticks(ir_number)\n",
    "\n",
    "plt.title(\"Relative Count of Word Types in Ironic Reddit Comments\")\n",
    "plt.ylabel(\"Number of Word Types\")\n",
    "plt.xlabel(\"Word Type\")\n",
    "\n",
    "\n",
    "\n",
    "# fig  = plt.figure(figsize=(10,40),dpi=200, facecolor = 'red')\n",
    "plt.savefig(\"Ironic relative_word_counts.png\")\n",
    "plt.show(fig)"
   ]
  },
  {
   "cell_type": "markdown",
   "metadata": {},
   "source": [
    "# SpaCy Continued: Text Processing \n",
    "\n",
    "- stopwords, punctuation, lemmatize\n",
    "\n",
    "- (need to run named entity recognition AND sentiment analysis)\n",
    "\n",
    "[sentiment analysis - ironic ones should typically be more negative....]"
   ]
  },
  {
   "cell_type": "code",
   "execution_count": 40,
   "metadata": {},
   "outputs": [
    {
     "data": {
      "text/plain": [
       "'nominal subject'"
      ]
     },
     "execution_count": 40,
     "metadata": {},
     "output_type": "execute_result"
    }
   ],
   "source": [
    "spacy.explain(\"nsubj\")"
   ]
  },
  {
   "cell_type": "code",
   "execution_count": 41,
   "metadata": {},
   "outputs": [],
   "source": [
    "#\\\\n\\\\n between comments \n",
    "\n",
    "def get_tokens(text):\n",
    "    \"\"\"Tokenize text at word level and return the list\"\"\"\n",
    "    token_list = []\n",
    "    for token in text:\n",
    "        word = token.text\n",
    "        token_list.append(word)\n",
    "#         print(word.text, word.lemma_, word.pos_, word.tag_, word.dep_, word.shape_, word.is_alpha, word.is_stop)\n",
    "    return token_list"
   ]
  },
  {
   "cell_type": "code",
   "execution_count": 42,
   "metadata": {},
   "outputs": [
    {
     "name": "stdout",
     "output_type": "stream",
     "text": [
      "['Yep', 'it', 'is', 'hard', 'to', 'get', 'a', 'good', 'education', 'and', 'the', '...', '\\n', 'So', 'the', 'question', 'during', 'their', 'Twitter', 'Q&amp;A', 'a', '...', '\\n                    ', 'They', 'hate', 'us', 'for', 'our', 'freedom', '.', '\\n', 'Did', 'he', 'talk', 'at', 'all', 'about', 'how', 'he', 'places', 'persona', '...', '\\n', '&', 'gt', ';', '\"', 'Here', \"'s\", 'a', 'picture', 'of', 'my', 'house\"\\\\n\\\\nOh', '?', ' ', 'yo', '...', '\\n', 'Hell', 'the', 'KochGangsters', 'bought', 'Wisconsin', 'they', 'd', '...', '\\n', 'Hey', ',', 'in', 'his', 'defense', 'the', 'original', 'constitution', '...', '\\n', 'It', 'would', 'have', 'been', 'nice', 'for', 'the', 'photo', 'to', 'be', 'ca', '...', '\\n                          ', 'Well', 'let', 'me', 'tell', 'you', '...', '\\n', 'Takers', 'come', 'in', 'all', 'forms', '.', '   ', 'Vets', '.', '  ', 'Welfare', 'q', '...', '\\n', 'Only', 'to', 'keep', 'them', 'from', 'being', 'embarrassed', ',', 'beca', '...', '\\n', 'I', 'wish', '.', ' ', 'And', 'if', 'it', 'is', 'really', 'happening', 'it', 'will', '...', '\\n                                ', 'Good', 'luck', ',', 'Wendy', '.', '\\n                                ', 'American', 'Royalty', '.', '\\n', 'And', 'we', 'are', 'all', 'a', 'bunch', 'of', 'young', 'white', 'males', 'wh', '...', '\\n', 'I', 'think', 'just', 'as', 'tons', 'of', 'more', '\"', 'liberal', '\"', 'people', '...', '\\n             ', 'Work', ',', 'ai', \"n't\", 'nobody', 'got', 'time', 'for', 'dat', '!', '\\n', 'False', 'equivalence', ':', '\"', 'I', \"'m\", 'right', ',', 'you', \"'re\", 'wrong', '.', ' ', '...', '\\n', 'That', \"'s\", 'because', 'Republicans', 'do', \"n't\", 'want', 'poor', 'peo', '...', '\\n              ', 'she', 'needs', 'to', 'take', 'a', 'dirt', 'nap', 'soon', '..', '\\n', 'The', 'ACA', 'website', 'is', 'a', '1000', 'times', 'better', 'than', 'th', '...', '\\n', 'I', 'observe', 'this', 'every', 'day', '.', '\\\\n\\\\nIf', 'you', 'talk', 'to', 'a', '...', '\\n', 'Do', \"n't\", 'forget', 'the', 'good', 'news', ':', '24', '%', 'of', 'those', 'surve', '...', '\\n', '&', 'gt;&gt;\"It', \"'s\", 'not', 'radical', ',', 'its', 'not', 'extreme', 'cau', '...', '\\n', 'Anybody', 'else', 'find', 'it', 'hilarious', 'this', 'came', 'from', '...', '\\n       ', '6', '%', 'of', 'American', \"'s\", 'clicked', 'the', 'wrong', 'button', '.', '\\n', 'http://en', '.', 'wikipedia', '.', 'org', '/', 'wiki', '/', 'The_System_Has', '_', '...', '\\n', 'Great', ',', 'so', 'who', 'goes', 'to', 'jail', '?', ' ', 'No', 'one', '?', ' ', 'So', ',', 'busi', '...', '\\n                  ', 'Jesus', 'Christ', ',', 'she', 'still', 'exists', '?', '\\n', 'Liberals', 'truly', 'believe', 'the', 'ends', 'justify', 'the', 'me', '...', '\\n', 'Please', 'give', 'him', 'something', 'to', 'keep', 'him', 'in', 'the', 'U', '...', '\\n', 'Let', 'me', 'bully', 'a', 'Park', 'Ranger', 'doing', 'their', 'job', 'und', '...', '\\n', 'Poor', 'Lindsey', ',', 'go', 'pickup', 'some', 'tissues', 'and', 'a', 'buc', '...', '\\n ', 'Both', 'these', 'guys', ' ', 'need', 'a', 'swift', 'kick', 'in', 'the', 'balls', '.', '\\n', 'I', \"'m\", 'going', 'to', 'use', 'this', 'comment', 'without', 'giving', 'c', '...', '\\n', 'Ok', ',', 'I', 'only', 'have', 'one', 'x', 'chromosome', '...', ' ', 'but', '*', 'I', '*', 'f', '...', '\\n', 'The', 'NSA', 'can', 'spy', 'on', 'the', '*', 'future', '*', '!', '?', '  ', 'Okay', ',', 'this', '...', '\\n', 'Do', \"n't\", 'we', 'give', 'people', 'meds', 'for', 'seeing', 'or', 'belivi', '...', '\\n                      ', 'Yo', 'dawg', ',', 'help', 'an', 'Airman', 'out', '\\n', 'Well', 'if', 'they', 'did', \"n't\", 'want', 'to', 'die', 'of', 'hunger', 'they', '...', '\\n', 'The', 'joke', 'is', 'that', 'there', 'might', 'be', '*', 'more', '*', 'innovat', '...', '\\n', 'Yes', '.', ' ', 'Just', 'fucking', 'yes', '.', ' ', 'Plus', ',', 'if', 'anyone', 'criti', '...', '\\n', 'Moore', 'is', 'a', 'big', 'supporter', 'of', 'Veterans', '.', '  ', 'He', 'run', '...', '\\n', 'Then', 'why', ' ', 'was', 'Hitler', 'rejected', 'from', 'art', 'school', '?', '...', '\\n', 'Well', ',', 'whether', 'the', 'government', 'does', 'anything', 'or', '...', '\\n', 'Yeah', 'because', 'Obama', 'is', 'not', 'at', 'all', 'a', 'communist', '.', '...', '\\n                          ', 'What', \"'s\", 'a', 'Dennis', 'Miller', '?', '\\n          ', '\"', 'the', 'environment', '\"', '...', ' ', 'another', 'strawman', '\\n', '&', 'gt', ';', 'Our', 'focus', 'school', 'and', 'our', 'Superintendent', '’s', '...', '\\n', 'If', 'only', 'they', \"'d\", 'worked', 'harder', 'and', 'gotten', 'a', 'thir', '...', '\\n                            ', 'Obama', 'is', 'god', '!', '!', '!', '!', '!', '!', '!', '!', '!', '\\n', 'This', 'is', 'all', 'part', 'of', 'a', 'broader', 'conspiracy', 'among', '...', '\\n', 'I', \"'m\", 'sorry', ',', 'but', 'does', 'anyone', 'actually', 'believe', 'th', '...', '\\n', 'Yes', ',', '\"', 'stolen', '\"', '.', ' ', 'As', 'if', 'TradeFortress', 'was', 'the', 'mo', '...', '\\n', 'I', 'agree', ',', 'he', 's', 'definitely', 'doing', 'what', 'his', 'constit', '...', '\\n', 'What', 'I', 'want', 'to', 'know', ',', 'what', 'has', 'he', 'down', 'that', '37', '%', '...', '\\n', '&', 'gt;You', 'deal', 'with', 'it', 'and', 'you', 'move', 'on', ',', 'but', '“', 'cas', '...', '\\n', '&', 'gt;But', 'its', 'ideals', 'of', 'freedom', 'of', 'speech', ',', 'freed', '...', '\\n', 'bet', 'the', 'GOP', 'wo', 'nt', 'try', 'to', 'repeal', 'the', 'patriot', 'act', '...', '\\n', 'How', 'is', 'it', 'possible', 'that', 'this', 'cocksucker', 'is', \"n't\", '...', '\\n', 'I', \"'d\", 'like', 'to', 'see', 'her', 'abolish', 'corporate', 'personhood', '.', '\\n', 'Always', 'ironic', 'to', 'see', 'a', 'guy', 'like', 'Reich', ',', 'who', \"'s\", 'a', '...', '\\n', 'yes', ',', 'blow', 'up', 'the', 'financial', 'sector', ',', 'what', 'could', '...', '\\n', 'Bachmann', 'is', 'nothing', 'if', 'not', 'persistent', ',', 'her', 'pig', '...', '\\n', 'Seems', 'like', 'all', 'is', 'forgiven', 'regarding', 'the', 'Repub', '...', '\\n', 'Moderate', 'democrats', 'are', 'important', 'for', 'us', 'to', 'hol', '...', '\\n', '\"', 'They', 'never', 'ask', 'these', 'questions', 'to', 'Jews', 'or', 'Chr', '...', '\\n                          ', 'A', 'chuckle', '-', 'worthy', 'irony', '.', '\\n', 'It', \"'s\", 'amazing', 'how', 'Democrats', 'view', 'money', '.', ' ', 'It', 'has', '...', '\\n', 'American', 'Jews', 'have', 'pretty', 'much', 'never', 'supported', '...', '\\n', 'Heaven', 'forbid', 'that', 'those', 'kids', 'might', 'be', 'allowed', '...', '\\n', 'Religions', 'ai', \"n't\", 'over', \"'\", 'til', 'the', 'magic', 'brownies', 's', '...', '\\n', 'Dumbasses', '.', ' ', 'There', 'is', 'no', '\"', 'healthcare', '.', 'gov', '\"', 'web', '...', '\\n', 'They', 'are', 'working', 'on', 'hormones', 'to', 'add', 'to', 'the', 'chi', '...', '\\n   ', 'So', 'it', \"'s\", 'the', 'same', 'policy', 'toward', 'illegal', 'aliens', '.', '\\n', 'Yep', 'he', 'had', 'lots', 'of', 'flaws', 'fortunately', 'being', 'a', 'b', '...', '\\n              ', 'That', \"'s\", 'it', '.', ' ', 'I', \"'m\", 'moving', 'to', 'the', 'moon', '.', '\\n', 'Even', 'when', 'they', \"'re\", 'stupid', 'they', 'still', 'think', 'they', '...', '\\n', 'His', 'career', 'is', 'copied', 'from', 'his', 'father', '.', '  ', 'His', 'po', '...', '\\n', 'Yup', '!', ' ', 'Do', \"n't\", 'know', 'why', 'more', 'Christians', 'do', \"n't\", 'fol', '...', '\\n', 'Hey', 'guys', '.', '  ', 'Apparently', 'this', 'article', 'meant', 'what', '...', '\\n', 'would', \"n't\", 'some', 'of', 'the', 'door', 'knockers', 'see', 'this', 'as', '...', '\\n', 'Texas', 'Pride', '=', 'The', 'ability', 'to', 'continually', 'elect', '...', '\\n                    ', 'You', 'got', 'what', 'you', 'wanted', 'then', '.', '\\n                         ', 'Skanks', ',', 'the', 'lot', 'of', 'them', '.', '\\n', 'You', 'are', 'using', 'stereotypes', 'to', 'fight', 'racism', '.', ' ', 'Bravo', '\\n', 'You', 'mean', 'they', \"'ve\", 'learned', 'nothing', 'by', 'another', 'pu', '...', '\\n', 'It', \"'s\", 'not', 'like', 'automation', 'has', 'eliminated', 'the', 'ne', '...', '\\n', 'And', 'right', 'after', 'this', '[', 'someone', 'in', 'the', 'audience', '...', '\\n                             ', 'Fuck', 'the', 'Bronze', 'Age', '.', '\\n', 'I', 'thought', 'even', 'a', 'child', 'could', 'understand', 'that', 'g', '...', '\\n', 'I', 'do', \"n't\", 'know', 'why', 'you', \"'re\", 'being', 'downvoted', 'for', 'sp', '...', '\\n                            ', 'Does', 'it', 'comes', 'in', 'agp', '?', '\\n                      ', 'THE', 'EMPEROR', 'HAS', 'NO', 'CLOTHES', '!', '\\n', '\"', 'It', 'will', 'never', 'be', 'pretended', 'that', 'any', 'persons', 'e', '...', '\\n', 'Seems', 'like', 'a', 'really', 'terrible', 'article', 'to', 'me', '.', ' ', 'Y', '...', '\\n', 'All', 'the', 'more', 'reason', 'to', 'cut', 'billions', 'from', 'food', '...', '\\n              ', 'That', \"'s\", 'how', 'I', 'like', 'to', 'play', 'monopoly', '!', '\\n', 'I', 'have', 'had', 'one', 'for', 'almost', 'a', 'year', 'and', 'I', 'do', \"n't\", 't', '...', '\\n', '&', 'gt;every', 'time', 'I', 'pay', 'my', 'new', 'premium', ',', 'I', 'am', 'payi', '...', '\\n', 'Should', \"'ve\", 'made', 'a', 'joke', 'about', 'sending', 'her', 'off', 'to', '...', '\\n', 'This', 'is', 'why', 'his', 'nickname', 'is', '\"', 'Handy', 'J.', ' ', 'Olsteen', '...', '\\n', '\"', 'In', '2010', ',', 'more', 'than', '20', 'percent', 'of', 'Texas', 'charte', '...', '\\n', 'Well', ',', 'you', 'know', ',', 'when', 'you', \"'re\", 'right', 'about', 'everyt', '...', '\\n', 'Sad', 'to', 'say', ',', 'that', 'line', 'worked', 'on', 'several', 'conser', '...', '\\n', 'Perfect', 'example', ':', 'me', '.', '\\\\n\\\\nI', 'pay', 'about', '$', '6000', 'per', '...', '\\n', 'If', 'you', 'ca', \"n't\", 'win', 'on', 'substance', ',', 'win', 'on', 'a', 'techni', '...', '\\n', 'I', 'could', 'get', 'behind', 'that', '.', ' ', 'They', 'make', 'beer', 'for', 'm', '...', '\\n', 'I', 'would', 'love', 'to', 'see', 'every', 'Walmart', 'employee', 'go', '...', '\\n', 'What', 'a', 'steaming', 'pile', 'of', 'horseshit', '.', '  ', 'I', 'guess', 'd', '...', '\\n', 'He', \"'s\", 'obviously', 'making', 'this', 'up', '.', ' ', 'He', 'may', 'not', 'rea', '...', '\\n', 'Gridlock', 'is', 'great', 'when', 'you', 'are', 'an', 'oligarch', 'ope', '...', '\\n                        ', '*', 'Hands', 'off', 'my', 'medicore', '!', '*', '\\n', 'Holy', 'shit', '!', ' ', 'I', 'just', 'realized', 'I', \"'m\", 'killing', 'future', '...', '\\n', '&', 'gt;In', 'dentists’', 'and', 'doctors’', 'offices', ',', 'hearing', '...', '\\n', 'When', 'did', 'House', 'Republicans', 'declare', 'Jihad', 'exact', '...', '\\n', 'It', 'nobody', 'has', 'noticed', 'by', 'now', '.', ' ', 'It', 'does', 'not', 'mat', '...', '\\n', 'If', 'you', 'remove', 'the', '\"', 'christian', '\"', 'qualifier', ',', 'you', 'c', '...', '\\n                              ', 'Happy', 'Veterans', 'Day', '!', '\\n', 'so', 'the', 'article', 'is', 'saying', 'my', 'generation', 'is', 'down', '...', '\\n             ', 'So', ',', 'everyone', 'should', 'love', 'pedophilia', '?', '\\n', 'Impose', 'a', '$', '5,000', 'fee', 'for', 'normal', 'citizens', 'runnin', '...', '\\n', 'How', 'can', 'someone', 'ban', 'volunteers', '?', '\\\\n\\\\n\"Hi', ',', 'I', \"'m\", 'h', '...', '\\n', 'I', 'believe', 'nothing', 'the', 'Obama', 'regime', 'tells', 'me', ',', 'I', '...', '\\n', 'Three', 'questions:\\\\n\\\\n1', '.', ' ', 'Did', 'their', 'previous', 'ins', '...', '\\n', 'Yeah', ',', 'yeah', ',', 'yeah', ',', 'but', 'if', 'I', 'dare', 'bitch', 'about', 'bu', '...', '\\n', 'They', 'are', 'cops', '.', ' ', 'That', \"'s\", 'the', 'difference', '.', ' ', 'They', 'w', '...', '\\n', 'Democrats', 'do', \"n't\", 'know', 'how', 'to', 'manage', 'money', '?', '  ', 'Sh', '...', '\\n', 'And', 'that', 'brave', ',', 'patriotic', ',', 'pro', '-', 'life', 'Navy', 'SEAL', '...', '\\n', 'Is', 'it', 'plagiarism', 'if', 'they', 'ghost', 'wrote', 'the', 'book', '...', '\\n', 'I', 'guess', 'the', 'mods', 'have', 'dictated', 'that', 'this', 'is', 'no', '...', '\\n', 'Utah', ':', ' ', 'Our', 'Jesus', 'can', 'beat', 'up', 'your', 'Jesus', '.', '\\\\n\\\\nC', '...', '\\n', 'EVERY', 'nation', 'that', 'has', 'surpassed', 'the', 'USA', 'test', 's', '...', '\\n', 'To', 'be', 'fair', ',', 'that', \"'s\", 'probably', 'true', 'for', 'a', 'society', '...', '\\n', '&', 'gt;“Selling', 'some', 'of', 'your', 'unwanted', 'possessions', '...', '\\n', 'You', 'mean', 'like', 'when', 'his', 'union', 'buddies', 'go', 'on', 'str', '...', '\\n', 'She', \"'s\", 'not', 'quiet', ',', 'she', \"'s\", 'not', 'revolutionary', ',', 'and', '...', '\\n', 'Now', 'if', 'only', 'he', \"'d\", 'address', 'his', 'personal', 'issues', 'o', '...', '\\n', 'It', \"'s\", 'sad', 'that', 'low', '-', 'information', 'liberals', 'do', \"n't\", 'g', '...', '\\n          ', 'It', \"'s\", 'mind', '-', 'boggling', 'that', 'it', \"'s\", 'that', 'high', '.', '\\n', 'Ouch', '.', \"\\\\n\\\\nDon't\", 'hold', 'back', ',', 'tell', 'us', 'how', 'you', 'rea', '...', '\\n                           ', 'Is', 'it', 'a', 'slide', 'whistle', '?', '\\n', 'What', \"'s\", 'sad', 'is', 'that', 'trucking', 'used', 'to', 'be', 'a', 'viabl', '...', '\\n', 'While', 'I', 'think', 'the', 'parents', 'should', 'burn', '....', '\\\\n\\\\n', '...', '\\n', '\"', 'President', \"'s\", 'words', '~~have', 'lost', 'all~~', '*', 'never', '*', 'h', '...', '\\n', 'Standard', 'stuff', 'here', ',', 'nothing', 'new', '.', '  ', 'Same', 'old', 'f', '...', '\\n        ', 'When', 'was', 'it', 'ever', 'a', 'haven', 'for', 'free', 'speech', '?', '\\n          ', 'Did', 'he', 'cut', 'a', 'large', 'circular', 'mouth', 'hole', '?', '\\n                                    ', 'War', 'is', 'peace', '.', '\\n', 'Funny', ',', 'we', \"'re\", 'in', 'the', 'same', 'category', 'as', 'Canada', ',', 'w', '...', '\\n', 'In', 'other', 'news', ',', 'Democrats', 'want', '*', 'everybody', '*', 'to', 'b', '...', '\\n', 'We', 'know', 'the', 'Earth', 'is', 'vastly', 'older', 'than', '10,000', '...', '\\n             ', 'Wow', ',', 'thanks', 'for', 'all', 'the', 'context', ',', 'OP', '.', '\\n', 'Hey', 'look', '!', ' ', 'Someone', 'who', 'thinks', 'The', 'Administrati', '...', '\\n', 'Do', \"n't\", 'forget', 'he', \"'s\", 'Canadian', '\\\\n\\\\nHe', \"'s\", 'chosen', 'the', '...', '\\n', 'I', 'was', 'coming', 'on', 'here', 'to', 'post', 'this', ',', 'but', 'figured', '...', '\\n', 'Well', 'it', \"'s\", 'the', 'only', 'way', 'to', 'stop', 'that', 'awful', 'heal', '...', '\\n', 'Even', 'if', 'you', 'do', \"n't\", 'believe', 'in', 'God', 'or', 'Psychics', ',', '...', '\\n                                 ', 'He', 'used', 'audacity', '\\n', 'Is', 'that', 'not', 'the', 'correct', 'thing', 'to', 'do', '?', '  ', 'I', 'agree', '...', '\\n', 'Blame', 'the', 'veil', 'covering', 'all', 'their', 'peripheral', 'v', '...', '\\n', 'Ask', 'not', 'what', 'you', 'can', 'do', 'for', 'Supply', 'Side', 'Jesus', ',', '...', '\\n', 'It', 'should', 'be', 'pointed', 'out', 'that', 'an', 'amendment', 'to', '...', '\\n', 'Christians', 'ca', \"n't\", 'be', 'Republicans', 'either', ',', 'but', 'yo', '...', '\\n                                   ', 'You', 'do', \"n't\", 'say', '?', '\\n', 'I', 'honestly', 'do', 'not', 'know', 'if', 'this', 'article', 'is', 'for', '...', '\\n                      ', 'Never', ',', 'is', 'that', 'soon', 'enough', '?', '\\n', 'It', \"'s\", 'a', 'novel', 'way', 'to', '\"', 'balance', 'your', 'budget', '\"', '.', '  ', 'A', '...', '\\n', 'Yeah', ',', 'but', 'guys', ',', 'Politifact', 'said', 'this', 'was', 'half-', '...', '\\n', 'I', 'thought', 'this', 'was', 'r', '/', 'firstworldanarchists', 'with', '...', '\\n', 'The', 'home', 'team', 'always', 'hears', 'cheers', 'from', 'the', 'cro', '...', '\\n', 'It', \"'s\", 'important', 'here', 'to', 'remember', 'the', 'words', 'of', 'J', '...', '\\n', 'Those', 'are', 'very', 'common', 'attributes', ',', 'you', 'should', 'b', '...', '\\n', 'If', 'the', 'goal', 'of', 'economic', 'policy', 'since', '1980', 'was', '...', '\\n', 'For', 'the', 'same', 'reason', 'mega', 'churches', 'are', 'popular', ',', '...', '\\n           ', 'Damn', 'Ted', ',', 'you', 'must', 'think', 'gods', 'a', 'pussy', '.', '\\n', 'Maybe', 'Ken', 'Cuccinelli', 'Should', \"n't\", 'Have', 'Built', 'His', '...', '\\n', 'I', \"'ll\", 'take', 'this', 'as', 'an', 'improvement', 'of', 'sorts', '.', ' ', 'Si', '...', '\\n', 'Boy', 'do', 'I', 'love', 'being', 'told', 'that', 'we', 'live', 'in', 'a', 'Chr', '...', '\\n', 'Patriotism', '?', ' ', 'We', \"'re\", 'Christians', ',', 'not', 'patriots', '.', ' ', '...', '\\n', 'Imagine', 'if', 'schools', 'spent', '$', '70', 'million', 'on', 'educat', '...', '\\n', 'A', 'press', 'release', 'right', 'before', 'a', 'long', 'holiday', '.', ' ', '...', '\\n', 'I', 'like', 'how', 'the', 'second', 'poll', 'does', \"n't\", 'give', 'an', 'opt', '...', '\\n', 'It', \"'s\", 'bad', ',', 'approval', 'among', 'black', 'Americans', 'has', 'f', '...', '\\n', 'The', 'ironic', 'thing', 'about', 'Christie', 'is', 'that', 'libera', '...', '\\n', 'So', 'when', 'they', 'went', 'to', 'private', 'ownership', ',', 'they', 'j', '...', '\\n', 'Obamacare', 'is', 'much', 'more', 'than', 'the', 'website', '.', ' ', 'My', 'g', '...', '\\n', 'Oh', 'look', ',', 'a', 'right', '-', 'wing', 'blowhard', 'is', 'talking', 'out', '...', '\\n', 'Well', 'I', \"'ve\", 'heard', 'that', 'Mexicans', 'and', 'Blacks', 'smoke', '...', '\\n', 'Must', 'not', 'be', 'much', 'going', 'on', 'for', 'Congress', 'this', 'week', '.', '\\n           ', 'Welcome', 'to', '/r', '/', 'libertarian', ',', 'Glenn', 'Beck', '.', '\\n', 'In', 'his', 'letter', 'of', 'resignation', ',', 'he', 'said', 'he', 'wishi', '...', '\\n', 'Yes', ',', 'the', 'war', 'on', 'Christmas', 'rears', 'its', 'ugly', 'head', '...', '\\n', 'No', 'their', 'primary', 'motivation', 'is', 'to', 'get', 'money', 'fr', '...', '\\n', 'Surely', 'they', \"'ll\", 'offer', 'an', '\"', 'In', 'TFSM', 'We', 'Trust', '\"', 'ver', '...', '\\n', 'So', 'you', 'can', 'easily', 'imagine', 'levels', 'of', 'selfish', 'tr', '...', '\\n', 'Lets', 'start', 'with', 'mandatory', 'drug', 'testing', '.', '  ', 'That', '...', '\\n', 'The', 'Gaywakening', '.', '  ', 'I', 'wonder', 'why', 'it', 'took', 'them', 's', '...', '\\n', 'Great', 'idea', 'on', 'the', 'talkathon', 'Cruz', '.', ' ', 'Really', 'made', '...', '\\n', 'In', 'truth', 'this', 'has', 'nothing', 'to', 'do', 'with', 'lobbying', '...', '\\n', 'Quite', 'frankly', ',', 'it', 'was', 'Obama', 'that', 'made', 'me', 'indep', '...', '\\n                                   ', 'Mmmm', '.', ' ', 'A', '-', 'H5N1', '.', '\\n', 'Jesus', 'is', 'not', 'pleased', 'with', 'this', 'division', 'within', '...', '\\n', 'The', ' ', 'point', 'is', 'you', 'invite', 'them', 'on', 'b', '/', 'c', 'your', 'fanb', '...', '\\n', 'The', 'post', 'talked', 'about', 'questions', 'to', 'conservativ', '...', '\\n   ', 'Youth', 'uninformed', 'about', 'politics', '?', ' ', 'Since', 'when', '?', '!', '\\n', 'Legitimate', 'criticism', 'of', 'Israel', 'is', '1', ')', 'Seen', 'as', 'a', '...', '\\n ', 'Guns', 'have', 'what', 'the', 'ACA', 'does', \"n't\", ',', 'point', 'and', 'click', '.', '\\n', 'HAHAHAHAHAHAHAHAHAHA-\\\\n\\\\nwait', '...', ' ', 'are', 'you', 'seri', '...', '\\n', 'omg', 'anne', 'rand', 'is', 'so', 'dumb', 'i', 'was', 'really', 'into', 'her', '...', '\\n', 'You', 'can', 'still', 'be', 'first', 'to', 'leave', 'a', 'comment', 'on', 't', '...', '\\n', 'so', '93', 'million', 'lose', 'coverage', 'so', 'that', 'the', '45mill', '...', '\\n', '&', 'gt', ';', ' ', 'It', \"'s\", 'messed', 'up', 'you', 'just', 'think', 'every', 'cons', '...', '\\n', 'Well', 'one', 'can', 'ensure', 'that', 'you', 'and', 'your', 'family', 'a', '...', '\\n', 'Turn', 'that', 'shit', 'into', 'a', 'drinking', 'game', '.', '  ', 'Every', 't', '...', '\\n    ', '\"', 'Money', 'does', 'grow', 'off', 'trees', ',', 'right', '?', '\"', '-Liberal', '\\n', 'Study', ':', 'Over', '80', '%', 'of', 'Americans', 'will', 're', '-', 'elect', 'the', '...', '\\n', 'If', 'faith', 'was', 'stronger', 'than', 'the', 'typhoon', 'then', 'wh', '...', '\\n', 'My', 'current', 'plan', 'was', '\"', 'None', '\"', '.', '\\\\n\\\\nMy', 'total', 'healt', '...', '\\n', 'I', \"'m\", 'still', 'protesting', 'the', 'teaching', 'in', 'schools', 'o', '...', '\\n', 'Well', 'at', 'least', 'you', \"'re\", 'honest', '.', '\\\\n\\\\nUnfortunately', '...', '\\n', 'Washington', ',', 'D.', 'C.', ' ', 'Surpasses', 'New', 'York', ',', 'L.', 'A.', ' ', '...', '\\n', 'Christian', 'American', 'Patriots', 'Militia', '-', 'so', 'Nazi', '...', '\\n', 'So', '...', 'they', 'purchased', 'these', 'books', ',', 'which', 'by', 'ext', '...', '\\n', 'And', '?', '  ', 'Even', 'the', 'Republican', 'base', 'does', \"n't\", 'want', 't', '...', '\\n', 'All', 'Obama', 'has', 'to', 'do', 'is', 'pick', 'up', 'the', 'phone', 'and', 'g', '...', '\\n', 'A', 'smart', 'guy', 'like', 'Bill', 'Nye', 'should', 'know', 'the', 'moon', '...', '\\n   ', 'I', 'saw', 'you', 'driving', 'that', 'car', 'you', 'filthy', 'whore', '...', '\\n', 'Turtle', 'guy', ',', 'who', 'said', 'his', 'primary', 'goal', 'was', 'to', 'd', '...', '\\n', 'They', 'are', 'still', 'trying', 'to', 'figure', 'out', 'how', 'to', 'bac', '...', '\\n', 'Good', 'luck', ',', 'starting', 'your', 'driver', '-', 'less', 'car', 'with', '...', '\\n', 'Ca', \"n't\", 'stand', 'Obama', '.', '  ', 'Agree', 'with', 'him', 'here', '100', '%', '....', '\\n', 'Here', \"'s\", 'the', 'logic', '.', ' ', 'I', 'claim', 'to', 'not', 'believe', 'in', 'U', '...', '\\n', '&', 'gt;$7,000', 'fine\\\\n\\\\nIt', \"'s\", 'insane', 'that', 'one', 'of', 'the', '...', '\\n       ', 'The', 'funny', 'thing', 'is', 'he', 'thinks', 'he', \"'s\", 'helping', '.', '\\n', 'Mitch', 'was', 'doing', 'a', 'petty', 'good', 'job', 'of', 'that', 'himself', '.', '\\n', 'Its', 'almost', 'as', 'if', 'there', 'is', 'a', 'concerted', 'disinfor', '...', '\\n', 'Someone', 'being', 'the', 'foremost', 'expert', 'in', 'a', 'subject', '...', '\\n', 'Why', 'do', 'I', 'get', 'the', 'impression', 'the', 'tea', 'party', 'is', 'n', '...', '\\n                        ', 'Obama', 'calls', 'it', 'Obamacare', '.', '\\n                       ', 'yea', ',', 'and', 'some', 'survived', 'it', '.', '\\n                                           ', 'Shock', '.', '\\n', 'I', \"'m\", 'not', 'a', 'Vietnam', 'vet', ',', 'but', 'I', 'am', 'an', 'Iraq', 'vet', 'an', '...', '\\n', '&', 'gt', ';', 'The', 'Democratic', 'National', 'Committee', 'has', 'act', '...', '\\n', 'Well', 'I', 'suppose', 'as', 'long', 'as', 'I', 'keep', 'my', 'chain', 'saw', '...', '\\n', 'Because', 'the', 'Reddit', 'Liberal', 'Brigade', '™', 'would', 'down', '...', '\\n ', 'He', \"'s\", 'no', 'Mark', 'Warner', 'but', 'he', \"'s\", 'also', 'no', 'Cuccinelli', '.', '\\n', 'Or', ':', 'Lavabit', 'gets', 'forged', 'SSL', 'key', 'from', 'compromis', '...', '\\n', 'Is', 'the', 'island', 'really', 'sinking', ',', 'or', 'is', 'the', 'sea', 'le', '...', '\\n                       ', 'America', 'gets', 'in', 'their', 'way', '.', '\\n', '\"', 'Repeal', 'Obamacare', 'or', 'we', 'start', 'killing', 'kittens', '....', '\\n', 'How', 'surprising', 'that', 'a', 'Republican', 'Congressman', 'f', '...', '\\n                ', 'Good', 'thing', 'he', 'was', 'born', 'in', 'Canada', '.', '\\n                            ', 'Nice', 'budget', 'PC', 'there', '.', '\\n', 'Republican', '=', 'bad', 'politicians', 'and', 'Democratic', '=', '...', '\\n', 'If', 'you', 'concentrate', ',', 'you', 'can', 'hear', 'the', 'BLEHHHHH', '...', '\\n', 'But', 'we', 'know', 'that', 'we', 'would', '.', ' ', 'We', \"'ve\", 'had', 'marginal', '...', '\\n', 'Poll', ':', 'Americans', 'Do', \"n't\", 'Want', 'Republicans', 'or', 'Demo', '...', '\\n', 'I', 'had', 'no', 'idea', 'we', 'had', 'this', 'problem', 'with', 'Barack', '...', '\\n', '&', 'gt;\"Believers', 'are', 'more', 'likely', 'to', 'say', 'that', 'God', '...', '\\n          ', 'Politics', ':', 'the', 'dirtiest', 'job', 'of', 'them', 'all', '!', '\\n', 'I', 'wonder', 'if', 'the', 'parents', 'are', 'the', 'kind', 'of', 'people', '...', '\\n            ', 'And', 'is', 'easily', 'fooled', 'by', 'regular', 'tape', '.', '\\n', 'Yes', ',', 'I', 'found', 'this', 'article', 'pretty', 'interesting', '.', '...', '\\n', 'This', 'is', 'hardly', 'Fox', 'News', '...', \"\\\\n\\\\n(I'm\", 'here', 'all', 'w', '...', '\\n                                   ', 'Ha', '!', ' ', 'Gaaaayyyy', '\\n                            ', 'Welcome', 'black\\\\n\\\\nFtfy', '\\n', 'Obama', 'is', 'a', 'center', 'right', 'moderate', 'and', 'he', 'gets', 'p', '...', '\\n', 'Is', \"n't\", 'Texas', 'that', 'state', 'that', 'go', 'bailed', 'out', 'for', '...', '\\n                     ', 'Do', \"n't\", 'they', 'need', 'it', 'the', 'MOST', '?', '\\n', 'It', 'blows', 'my', 'mind', 'that', 'anyone', 'could', 'be', 'pulling', '...', '\\n', 'No', '.', ' ', 'The', 'drug', 'wars', 'have', 'nt', 'murdered', 'all', 'of', 'the', '...', '\\n', 'It', 'wants', 'to', 'keep', 'the', 'drug', 'companies', 'healthy', '.', ' ', '...', '\\n', 'I', \"'m\", 'sure', 'the', 'US', 'news', 'media', 'would', 'fairly', 'and', 'ob', '...', '\\n', 'This', 'just', 'in', ':', 'pseudo', 'scientists', 'make', 'claims', 'us', '...', '\\n                ', 'The', 'EPA', 'is', 'in', 'fact', 'non', 'essential', '.', '\\n              ', 'Facts', 'do', \"n't\", 'matter', 'to', 'conservatives', '\\n', 'There', 'are', 'already', 'factories', 'that', 'convert', 'co2', 'e', '...', '\\n', 'I', 'do', \"n't\", 'think', 'you', 'guys', 'are', 'on', '-', 'board', 'with', 'how', 'i', '...', '\\n', 'Darwinism', 'would', 'greatly', 'conflict', 'with', 'Hitler', \"'s\", '...', '\\n', 'Congratulations', 'on', 'your', 'successful', 'surgery', ',', 'pr', '...', '\\n', 'We', 'already', 'tried', 'the', 'whole', 'unproven', 'first', 'term', '...', '\\n', 'I', \"'m\", 'a', 'college', 'professor', '.', '\\\\n\\\\nIncorrect', 'attribu', '...', '\\n', 'Impossible', '.', ' ', 'Obamacare', 'kills', 'jobs', ',', 'I', 'heard', 'it', '...', '\\n', 'Cry', 'me', 'a', 'river', ',', 'OP', '.', ' ', 'I', \"'m\", 'thrilled', 'that', 'ENDA', 'pa', '...', '\\n', 'Next', 'up', 'on', 'Fox', 'News', ':', 'Is', 'the', 'Pope', 'instigating', 'c', '...', '\\n', 'It', 'surprises', 'me', 'that', 'Republican', 'congressmen', 'us', '...', '\\n', 'It', \"'s\", 'always', 'good', 'to', 'see', 'a', 'lying', 'president', 'coun', '...', '\\n', 'I', 'think', 'we', 'are', 'just', 'going', 'to', 'see', 'more', 'republic', '...', '\\n', 'Now', 'if', 'only', 'this', 'could', 'show', 'the', 'millions', 'of', 'pe', '...', '\\n', 'Insane', 'like', 'a', 'fox', '.', ' ', 'Ted', 'Cruz', 'is', 'actually', 'very', '...', '\\n                   ', 'Must', 'be', 'a', '\"', 'racist', '\"', 'too', '.', ' ', '/sarc', '\\n', 'Did', 'you', 'sign', 'up', 'for', 'Obamacare', '\\\\n\\\\nA.', ' ', 'Yesterda', '...', '\\n', \"'\", 'Reid', \"'\", 'and', \"'\", 'reasons', \"'\", 'share', 'part', 'of', 'a', 'syllable', ';', '...', '\\n', 'Unmarried', 'sex', 'is', 'only', 'bad', 'if', 'the', 'female', 'has', 'an', '...', '\\n', 'AHAHAHAHAHAHAHAHAHAHAHAHA', '!', '\\\\n\\\\nHAHAHAHAHAHAHAH', '...', '\\n               ', 'That', ',', 'of', 'course', ',', 'is', 'the', 'Debt', 'Star', '.', '\\n', 'For', 'a', 'sub', 'disappointed', 'with', 'Obama', ',', 'r', '/', 'politics', '...', '\\n', 'I', \"'ve\", 'given', 'up', 'on', 'most', 'national', 'media', 'outlets', '.', '...', '\\n', '&', 'gt', ';', '“', 'We', 'need', 'to', 'move', 'on', 'and', 'take', 'whatever', 'we', '...', '\\n', 'Thanks', 'CBO', ',', 'but', 'we', 'already', 'saved', '$', '4', 'billion', 'by', '...', '\\n', 'Koch', ':', '$', '15', 'million', '?', ' ', 'One', 'moment', ',', 'let', 'me', 'fetch', 'm', '...', '\\n                            ', 'CBS', '.', '\\\\n\\\\nEnough', 'said', '.', '\\n', 'Keep', 'attacking', 'the', 'one', 'world', 'leader', 'who', 'stands', '...', '\\n', 'NO', 'WAY', '!', '\\\\n\\\\nThe', 'Nobel', 'Peace', 'Prize', 'winning', 'MES', '...', '\\n', 'So', 'translation', ':', '\"', 'We', 'ca', \"n't\", 'have', 'atheists', '*', 'helpi', '...', '\\n', 'I', 'do', \"n't\", 'think', 'stealing', 'shite', 'from', 'a', 'latrine', 'co', '...', '\\n', 'What', 'a', 'fraud', '.', ' ', 'Fire', 'damaged', 'goods', 'with', 'a', 'perso', '...', '\\n        ', 'Because', 'then', 'there', 'would', \"n't\", 'be', 'any', 'gurus', '.', '\\n', '&', 'gt;get', 'off', 'Ohio', \"'s\", 'dick', 'and', 'let', 'them', 'do', 'what', 't', '...', '\\n', 'I', 'am', 'an', 'American', 'Jew', 'and', 'I', 'call', 'on', 'the', 'people', '...', '\\n', 'In', 'other', 'news', ',', 'apples', '40', 'times', 'more', 'popular', 'th', '...', '\\n', 'then', 'you', \"'re\", 'gon', 'na', 'get', 'kicked', 'out', 'of', 'the', 'tea', 'pa', '...', '\\n', 'She', 'made', 'my', 'penis', 'fill', 'with', 'blood', '!', '  ', 'KILL', 'HER', '!', '...', '\\n                         ', 'Would', 'they', 'take', 'it', 'back', '?', '\\n', 'Do', \"n't\", 'you', 'love', 'that', 'they', 'also', 'gave', 'themselves', '...', '\\n                                 ', 'They', 'had', 'a', 'soul', '?', '\\n', 'Hope', 'they', 'win', '.', '  ', 'Anti', 'abortionism', 'is', 'evil', ',', 'pur', '...', '\\n', 'Oh', 'my', 'god', 'what', 'a', 'headache', 'listening', 'to', 'her', '!', ' ', '\\\\', '...', '\\n', 'Wait', 'so', 'the', 'founder', 'of', 'a', 'thing', 'says', 'his', 'thing', '...', '\\n', '\"', 'No', 'title', 'of', 'nobility', 'shall', 'be', 'granted', 'by', 'the', '...', '\\n', 'They', 'had', 'me', 'at', 'metaphorical', 'Jesus', '.', '  ', 'That', \"'s\", 'th', '...', '\\n', 'This', 'joke', 'is', 'so', 'boring', 'now', '.', ' ', 'I', \"'m\", 'surprised', 'whe', '...', '\\n', 'Landmark', 'in', 'the', 'sense', 'that', 'it', 'conforms', 'to', 'the', '...', '\\n', 'Every', 'time', 'a', 'liberal', 'whines', 'about', 'their', 'precio', '...', '\\n', 'Another', 'thing', '..', 'just', 'to', 'add', '..', 'when', 'a', 'white', 'per', '...', '\\n', 'On', 'a', 'related', 'tangent', ',', 'I', \"'ve\", 'said', 'the', 'same', 'thing', '...', '\\n', 'Maybe', 'he', 'should', 'create', 'a', 'National', 'Board', 'of', 'Jou', '...', '\\n                  ', 'Nelson', 'Muntz', 'sends', 'his', 'regards', '.', '\\n', 'your', 'congressmen', 'dosnet', 'have', 'your', 'back', ',', 'he', 'has', '...', '\\n', 'Amazing', 'how', 'they', 'made', 'sure', 'all', 'this', 'would', 'go', 'i', '...', '\\n           ', 'Yes', ',', 'keep', 'running', 'that', 'interference', '...', '\\n', 'I', 'dream', 'of', 'different', 'creative', 'methods', 'of', 'punis', '...', '\\n', 'Destroy', 'the', 'federal', 'government', 'but', 'keep', 'your', 'h', '...', '\\n                             ', 'Hawaii', 'is', 'Kenya', 'now', '.', '\\n', '\"', 'atheist', 'winter', 'holiday', 'gift', 'exchange', '\"', '-', 'this', '...', '\\n', 'You', 'only', 'have', 'two', 'parties', '.', '  ', 'Why', 'do', \"n't\", 'you', 'jus', '...', '\\n', 'But', 'Rand', 'Paul', 'and', 'Mitch', 'McConnell', 'said', 'they', 'we', '...', '\\n', 'Why', '?', '  ', 'We', \"'ve\", 'got', 'more', 'money', 'than', 'we', 'know', 'what', '...', '\\n                            ', 'Stay', 'in', 'school', ',', 'kids', '.', '\\n', 'And', 'a', 'fundy', 'christian', 'half', '-', 'term', 'governor', ',', 'with', '...', '\\n', 'Happened', 'when', 'Rusty', 'Venture', 'slept', 'with', 'his', 'tee', '...', '\\n', 'This', 'open', '-', 'minded', 'academic', 'nailed', 'it', '*', 'right', '*', 'on', '...', '\\n', 'From', 'user', 'tilio', 'who', 'deleted', 'his', 'comment', 'after', '...', '\\n', 'The', 'pope', 'is', 'meeting', 'a', 'cruel', 'dictator', '.', '  ', 'Likely', '...', '\\n', 'No', 'she', 'will', 'not', 'look', 'back', '.', ' ', 'It', 'is', 'almost', 'impos', '...', '\\n', 'Would', \"n't\", 'California', 'be', ',', 'um', ',', '*', 'part', '*', 'of', 'America', '?', '...', '\\n', 'The', 'point', 'of', 'the', 'article', 'is', 'that', 'while', 'everyon', '...', '\\n', 'Careful', '!', ' ', 'Rand', 'is', 'the', 'darling', 'of', 'the', 'Libertari', '...', '\\n', 'This', 'is', 'now', 'officially', 'my', 'favorite', 'novelty', 'acc', '...', '\\n', 'They', 'tried', 'using', 'polls', ',', 'they', 'tried', 'being', 'cleve', '...', '\\n', 'I', 'heard', 'that', 'Al', 'Gore', 'stands', 'to', 'make', '*', '*', 'thousand', '...', '\\n', 'Yep', 'this', 'sure', 'is', 'a', 'Republican', 'Shutdown', ' ', '\\\\n', '/', 'sar', '...', '\\n                        ', 'Your', 'tax', 'dollars', 'at', 'work', '.', '\\n', 'She', \"'s\", 'a', 'uniter', '.', '  ', 'Most', 'people', ',', 'regardless', 'of', 'p', '...', '\\n', 'My', 'grandmother', 'got', '$', '59', 'and', 'they', 'just', 'sent', 'her', '...', '\\n            ', 'Pat', 'Robertson', 'fits', 'the', 'bill', 'for', 'sure', '.', '\\n', 'Nothing', 'to', 'see', 'here', 'folks', '.', ' ', 'Dancing', 'with', 'the', 'S', '...', '\\n', 'Fucking', 'ignorant', 'rednecks', '.', ' ', 'Fucking', 'ignorant', 'r', '...', '\\n', 'Feels', 'good', 'to', 'have', 'a', 'spine', '.', '  ', 'They', 'come', 'in', 'han', '...', '\\n                           ', 'One', 'of', 'us', '!', ' ', 'One', 'of', 'us', '!', '\\n', 'http://afrocityblog', '.', 'files', '.', 'wordpress', '.', 'com/200', '...', '\\n                    ', '*', 'NEWS', 'FLASH', '!', '*', '\\\\n\\\\nCapitalism', '.', '\\n                        ', 'The', 'truth', 'is', 'out', 'of', 'style', '\\n              ', 'Yet', 'more', 'proof', 'that', 'there', 'is', 'a', 'god', '.', '\\n', 'Mainstream', 'America', 'wants', 'Ed', 'Schultz', 'to', 'have', 'a', '...', '\\n', 'Because', 'obviously', 'anyone', 'that', 'does', \"n't\", 'agree', 'wi', '...', '\\n                ', 'Makes', 'me', 'proud', 'to', 'be', 'an', 'Aggie', '....', '\\n', 'She', 'must', 'have', 'taken', 'the', 'Parsing', 'Graduate', 'Cours', '...', '\\n', 'well', ',', 'your', 'calender', 'compactor', 'belongs', 'in', 'the', 't', '...', '\\n', 'A', 'prosperity', 'Gospel', 'preacher', 'in', 'a', 'mega', '-', 'church', '...', '\\n', 'You', 'guys', 'should', 'just', 'leave', 'us', 'behind', '.', '  ', 'We', \"'re\", '...', '\\n', 'If', 'they', 'cared', 'about', 'debt', ',', 'they', 'would', \"n't\", 'have', 'v', '...', '\\n', 'Do', \"n't\", 'forget', 'the', 'burden', 'that', 'eating', 'fast', 'food', '...', '\\n', 'Liberals', ':', '\"', 'We', 'ran', 'a', 'black', 'guy', 'so', 'we', 'ca', \"n't\", 'be', 'r', '...', '\\n         ', 'How', 'much', 'were', 'they', 'given', 'in', 'the', 'bailout', '?', '\\n', '&', 'gt', ';', 'When', 'her', 'group', '[', 'the', 'Oklahoma', 'Coalition', 'fo', '...', '\\n', '\"', '...', 'the', 'villagers', 'hid', 'the', 'best', 'they', 'could', 'and', '...', '\\n', 'Worse', ',', 'it', \"'s\", 'a', 'fire', 'in', 'the', 'house', 'that', 'we', 'both', 'l', '...', '\\n', 'The', 'health', 'deductible', 'tripled', 'due', 'to', 'ability', 'o', '...', '\\n', 'Sheldon', 'Adelson', 'is', ',', 'unfortunately', ',', 'a', 'U.', 'S.', ' ', 'ci', '...', '\\n', '&', 'gt;Congress', 'shall', 'make', 'no', 'law', 'respecting', 'an', 'e', '...', '\\n', 'And', '50', 'years', 'ago', 'a', 'kid', 'would', 'be', 'terrified', 'to', 'l', '...', '\\n ', 'It', \"'s\", 'too', 'bad', 'their', 'lifespan', 'is', 'measured', 'in', 'days', '.', '\\n', 'It', 'would', 'make', 'too', 'much', 'sense', 'to', 'connect', 'all', 'ma', '...', '\\n', 'If', 'Jesus', 'destroyed', 'satan', 'for', 'our', 'freedom', ',', 'why', '...', '\\n', 'Unicorn', 'populations', 'are', 'out', 'of', 'control', 'and', 'cau', '...']"
     ]
    },
    {
     "name": "stdout",
     "output_type": "stream",
     "text": [
      "\n"
     ]
    }
   ],
   "source": [
    "#get list of tokens for each:\n",
    "\n",
    "ir_tokens = get_tokens(ir_doc) #ironic\n",
    "non_ir_tokens = get_tokens(non_ir_doc) #non-ironic\n",
    "\n",
    "# print(len(ir_tokens))\n",
    "# print(len(non_ir_tokens))\n",
    "\n",
    "print(ir_tokens)"
   ]
  },
  {
   "cell_type": "markdown",
   "metadata": {},
   "source": [
    "# PUNCT COUNTS COMPARISON\n"
   ]
  },
  {
   "cell_type": "code",
   "execution_count": 43,
   "metadata": {},
   "outputs": [],
   "source": [
    "#PUNCTUATION COUNTS\n",
    "\n",
    "ir_count = Counter(ir_tokens) \n",
    "non_ir_count = Counter(non_ir_tokens)"
   ]
  },
  {
   "cell_type": "code",
   "execution_count": 44,
   "metadata": {},
   "outputs": [],
   "source": [
    "def get_punct_counts(collection_counter):\n",
    "    \"\"\"Insert collections.counter (from tokens), return list of punctuation with counter\"\"\"\n",
    "    dictx = {}\n",
    "    for punc in string.punctuation:\n",
    "        if punc not in dictx:\n",
    "            dictx[punc] = collection_counter[punc]\n",
    "        else:\n",
    "            pass\n",
    "    return dictx"
   ]
  },
  {
   "cell_type": "code",
   "execution_count": 45,
   "metadata": {},
   "outputs": [
    {
     "name": "stdout",
     "output_type": "stream",
     "text": [
      "{'!': 30, '\"': 34, '#': 0, '$': 6, '%': 5, '&': 16, \"'\": 5, '(': 0, ')': 1, '*': 21, '+': 0, ',': 107, '-': 14, '.': 113, '/': 7, ':': 13, ';': 7, '<': 0, '=': 3, '>': 0, '?': 29, '@': 0, '[': 2, '\\\\': 1, ']': 0, '^': 0, '_': 1, '`': 0, '{': 0, '|': 0, '}': 0, '~': 0}\n",
      "{'!': 17, '\"': 78, '#': 1, '$': 7, '%': 6, '&': 47, \"'\": 12, '(': 21, ')': 7, '*': 22, '+': 1, ',': 239, '-': 25, '.': 282, '/': 20, ':': 13, ';': 41, '<': 0, '=': 0, '>': 0, '?': 72, '@': 0, '[': 33, '\\\\': 1, ']': 17, '^': 0, '_': 0, '`': 0, '{': 0, '|': 0, '}': 0, '~': 0}\n"
     ]
    }
   ],
   "source": [
    "ir_pun_dict = get_punct_counts(ir_count)\n",
    "non_ir_pun_dict = get_punct_counts(non_ir_count)\n",
    "\n",
    "print(ir_pun_dict)\n",
    "print(non_ir_pun_dict)"
   ]
  },
  {
   "cell_type": "code",
   "execution_count": 46,
   "metadata": {},
   "outputs": [
    {
     "data": {
      "text/html": [
       "<div>\n",
       "<style scoped>\n",
       "    .dataframe tbody tr th:only-of-type {\n",
       "        vertical-align: middle;\n",
       "    }\n",
       "\n",
       "    .dataframe tbody tr th {\n",
       "        vertical-align: top;\n",
       "    }\n",
       "\n",
       "    .dataframe thead th {\n",
       "        text-align: right;\n",
       "    }\n",
       "</style>\n",
       "<table border=\"1\" class=\"dataframe\">\n",
       "  <thead>\n",
       "    <tr style=\"text-align: right;\">\n",
       "      <th></th>\n",
       "      <th>!</th>\n",
       "      <th>\"</th>\n",
       "      <th>#</th>\n",
       "      <th>$</th>\n",
       "      <th>%</th>\n",
       "      <th>&amp;</th>\n",
       "      <th>'</th>\n",
       "      <th>(</th>\n",
       "      <th>)</th>\n",
       "      <th>*</th>\n",
       "      <th>...</th>\n",
       "      <th>[</th>\n",
       "      <th>\\</th>\n",
       "      <th>]</th>\n",
       "      <th>^</th>\n",
       "      <th>_</th>\n",
       "      <th>`</th>\n",
       "      <th>{</th>\n",
       "      <th>|</th>\n",
       "      <th>}</th>\n",
       "      <th>~</th>\n",
       "    </tr>\n",
       "  </thead>\n",
       "  <tbody>\n",
       "    <tr>\n",
       "      <th>Ironic Comments</th>\n",
       "      <td>30</td>\n",
       "      <td>34</td>\n",
       "      <td>0</td>\n",
       "      <td>6</td>\n",
       "      <td>5</td>\n",
       "      <td>16</td>\n",
       "      <td>5</td>\n",
       "      <td>0</td>\n",
       "      <td>1</td>\n",
       "      <td>21</td>\n",
       "      <td>...</td>\n",
       "      <td>2</td>\n",
       "      <td>1</td>\n",
       "      <td>0</td>\n",
       "      <td>0</td>\n",
       "      <td>1</td>\n",
       "      <td>0</td>\n",
       "      <td>0</td>\n",
       "      <td>0</td>\n",
       "      <td>0</td>\n",
       "      <td>0</td>\n",
       "    </tr>\n",
       "    <tr>\n",
       "      <th>Non-ironic Comments</th>\n",
       "      <td>17</td>\n",
       "      <td>78</td>\n",
       "      <td>1</td>\n",
       "      <td>7</td>\n",
       "      <td>6</td>\n",
       "      <td>47</td>\n",
       "      <td>12</td>\n",
       "      <td>21</td>\n",
       "      <td>7</td>\n",
       "      <td>22</td>\n",
       "      <td>...</td>\n",
       "      <td>33</td>\n",
       "      <td>1</td>\n",
       "      <td>17</td>\n",
       "      <td>0</td>\n",
       "      <td>0</td>\n",
       "      <td>0</td>\n",
       "      <td>0</td>\n",
       "      <td>0</td>\n",
       "      <td>0</td>\n",
       "      <td>0</td>\n",
       "    </tr>\n",
       "  </tbody>\n",
       "</table>\n",
       "<p>2 rows × 32 columns</p>\n",
       "</div>"
      ],
      "text/plain": [
       "                      !   \"  #  $  %   &   '   (  )   * ...   [  \\   ]  ^  _  \\\n",
       "Ironic Comments      30  34  0  6  5  16   5   0  1  21 ...   2  1   0  0  1   \n",
       "Non-ironic Comments  17  78  1  7  6  47  12  21  7  22 ...  33  1  17  0  0   \n",
       "\n",
       "                     `  {  |  }  ~  \n",
       "Ironic Comments      0  0  0  0  0  \n",
       "Non-ironic Comments  0  0  0  0  0  \n",
       "\n",
       "[2 rows x 32 columns]"
      ]
     },
     "execution_count": 46,
     "metadata": {},
     "output_type": "execute_result"
    }
   ],
   "source": [
    "#convert dictionaries into pandas df for better visualisation/comparison\n",
    "df_punct = pd.DataFrame(ir_pun_dict, index=[\"Ironic Comments\", \"Non-ironic Comments\"])\n",
    "df_punct.iloc[1] = non_ir_pun_dict\n",
    "\n",
    "df_punct\n",
    "\n",
    "##see if can switch round (columns vs rows)\n",
    "\n",
    "#how to get an average"
   ]
  },
  {
   "cell_type": "code",
   "execution_count": 51,
   "metadata": {},
   "outputs": [
    {
     "ename": "ValueError",
     "evalue": "Could not interpret input '#'",
     "output_type": "error",
     "traceback": [
      "\u001b[1;31m---------------------------------------------------------------------------\u001b[0m",
      "\u001b[1;31mValueError\u001b[0m                                Traceback (most recent call last)",
      "\u001b[1;32m<ipython-input-51-2f51196b53a2>\u001b[0m in \u001b[0;36m<module>\u001b[1;34m()\u001b[0m\n\u001b[1;32m----> 1\u001b[1;33m \u001b[0max\u001b[0m \u001b[1;33m=\u001b[0m \u001b[0msns\u001b[0m\u001b[1;33m.\u001b[0m\u001b[0mbarplot\u001b[0m\u001b[1;33m(\u001b[0m\u001b[0mx\u001b[0m\u001b[1;33m=\u001b[0m\u001b[1;34m\"#\"\u001b[0m \u001b[1;33m,\u001b[0m\u001b[0my\u001b[0m\u001b[1;33m=\u001b[0m\u001b[1;34m\"index\"\u001b[0m\u001b[1;33m,\u001b[0m\u001b[0mcolor\u001b[0m\u001b[1;33m=\u001b[0m\u001b[1;34m'lightsteelblue'\u001b[0m\u001b[1;33m,\u001b[0m\u001b[0mdata\u001b[0m\u001b[1;33m=\u001b[0m\u001b[0mdf\u001b[0m\u001b[1;33m)\u001b[0m\u001b[1;33m\u001b[0m\u001b[0m\n\u001b[0m",
      "\u001b[1;32m~\\AppData\\Local\\Continuum\\anaconda3\\lib\\site-packages\\seaborn\\categorical.py\u001b[0m in \u001b[0;36mbarplot\u001b[1;34m(x, y, hue, data, order, hue_order, estimator, ci, n_boot, units, orient, color, palette, saturation, errcolor, errwidth, capsize, dodge, ax, **kwargs)\u001b[0m\n\u001b[0;32m   2957\u001b[0m                           \u001b[0mestimator\u001b[0m\u001b[1;33m,\u001b[0m \u001b[0mci\u001b[0m\u001b[1;33m,\u001b[0m \u001b[0mn_boot\u001b[0m\u001b[1;33m,\u001b[0m \u001b[0munits\u001b[0m\u001b[1;33m,\u001b[0m\u001b[1;33m\u001b[0m\u001b[0m\n\u001b[0;32m   2958\u001b[0m                           \u001b[0morient\u001b[0m\u001b[1;33m,\u001b[0m \u001b[0mcolor\u001b[0m\u001b[1;33m,\u001b[0m \u001b[0mpalette\u001b[0m\u001b[1;33m,\u001b[0m \u001b[0msaturation\u001b[0m\u001b[1;33m,\u001b[0m\u001b[1;33m\u001b[0m\u001b[0m\n\u001b[1;32m-> 2959\u001b[1;33m                           errcolor, errwidth, capsize, dodge)\n\u001b[0m\u001b[0;32m   2960\u001b[0m \u001b[1;33m\u001b[0m\u001b[0m\n\u001b[0;32m   2961\u001b[0m     \u001b[1;32mif\u001b[0m \u001b[0max\u001b[0m \u001b[1;32mis\u001b[0m \u001b[1;32mNone\u001b[0m\u001b[1;33m:\u001b[0m\u001b[1;33m\u001b[0m\u001b[0m\n",
      "\u001b[1;32m~\\AppData\\Local\\Continuum\\anaconda3\\lib\\site-packages\\seaborn\\categorical.py\u001b[0m in \u001b[0;36m__init__\u001b[1;34m(self, x, y, hue, data, order, hue_order, estimator, ci, n_boot, units, orient, color, palette, saturation, errcolor, errwidth, capsize, dodge)\u001b[0m\n\u001b[0;32m   1594\u001b[0m         \u001b[1;34m\"\"\"Initialize the plotter.\"\"\"\u001b[0m\u001b[1;33m\u001b[0m\u001b[0m\n\u001b[0;32m   1595\u001b[0m         self.establish_variables(x, y, hue, data, orient,\n\u001b[1;32m-> 1596\u001b[1;33m                                  order, hue_order, units)\n\u001b[0m\u001b[0;32m   1597\u001b[0m         \u001b[0mself\u001b[0m\u001b[1;33m.\u001b[0m\u001b[0mestablish_colors\u001b[0m\u001b[1;33m(\u001b[0m\u001b[0mcolor\u001b[0m\u001b[1;33m,\u001b[0m \u001b[0mpalette\u001b[0m\u001b[1;33m,\u001b[0m \u001b[0msaturation\u001b[0m\u001b[1;33m)\u001b[0m\u001b[1;33m\u001b[0m\u001b[0m\n\u001b[0;32m   1598\u001b[0m         \u001b[0mself\u001b[0m\u001b[1;33m.\u001b[0m\u001b[0mestimate_statistic\u001b[0m\u001b[1;33m(\u001b[0m\u001b[0mestimator\u001b[0m\u001b[1;33m,\u001b[0m \u001b[0mci\u001b[0m\u001b[1;33m,\u001b[0m \u001b[0mn_boot\u001b[0m\u001b[1;33m)\u001b[0m\u001b[1;33m\u001b[0m\u001b[0m\n",
      "\u001b[1;32m~\\AppData\\Local\\Continuum\\anaconda3\\lib\\site-packages\\seaborn\\categorical.py\u001b[0m in \u001b[0;36mestablish_variables\u001b[1;34m(self, x, y, hue, data, orient, order, hue_order, units)\u001b[0m\n\u001b[0;32m    149\u001b[0m                 \u001b[1;32mif\u001b[0m \u001b[0misinstance\u001b[0m\u001b[1;33m(\u001b[0m\u001b[0minput\u001b[0m\u001b[1;33m,\u001b[0m \u001b[0mstring_types\u001b[0m\u001b[1;33m)\u001b[0m\u001b[1;33m:\u001b[0m\u001b[1;33m\u001b[0m\u001b[0m\n\u001b[0;32m    150\u001b[0m                     \u001b[0merr\u001b[0m \u001b[1;33m=\u001b[0m \u001b[1;34m\"Could not interpret input '{}'\"\u001b[0m\u001b[1;33m.\u001b[0m\u001b[0mformat\u001b[0m\u001b[1;33m(\u001b[0m\u001b[0minput\u001b[0m\u001b[1;33m)\u001b[0m\u001b[1;33m\u001b[0m\u001b[0m\n\u001b[1;32m--> 151\u001b[1;33m                     \u001b[1;32mraise\u001b[0m \u001b[0mValueError\u001b[0m\u001b[1;33m(\u001b[0m\u001b[0merr\u001b[0m\u001b[1;33m)\u001b[0m\u001b[1;33m\u001b[0m\u001b[0m\n\u001b[0m\u001b[0;32m    152\u001b[0m \u001b[1;33m\u001b[0m\u001b[0m\n\u001b[0;32m    153\u001b[0m             \u001b[1;31m# Figure out the plotting orientation\u001b[0m\u001b[1;33m\u001b[0m\u001b[1;33m\u001b[0m\u001b[0m\n",
      "\u001b[1;31mValueError\u001b[0m: Could not interpret input '#'"
     ]
    }
   ],
   "source": [
    "ax = sns.barplot(x=\"#\" ,y=\"index\",color='lightsteelblue',data=df)"
   ]
  },
  {
   "cell_type": "code",
   "execution_count": 47,
   "metadata": {},
   "outputs": [],
   "source": [
    "# stopwords = list(STOP_WORDS)\n",
    "# stopwords"
   ]
  },
  {
   "cell_type": "code",
   "execution_count": null,
   "metadata": {},
   "outputs": [],
   "source": [
    "def get_entities(doc):\n",
    "    for ent in doc.ents:\n",
    "        print(f\"Entity: {ent}, Label: {ent.label_}, {spacy.explain(ent.label_)}\")\n",
    "        \n",
    "#     d = {}\n",
    "#     for ent in doc.ents:\n",
    "#         if ent not in d:\n",
    "#             d[\"Entity\"] = [ent]\n",
    "#             d[\"Label\"] = ent.label_\n",
    "#             d[\"Explain\"] = spacy.explain(ent.label_)\n",
    "#         else:\n",
    "#             pass\n",
    "#     return d"
   ]
  },
  {
   "cell_type": "code",
   "execution_count": null,
   "metadata": {},
   "outputs": [],
   "source": [
    "ir_ents = get_entities(ir_doc)\n",
    "non_ir_ents = get_entities(non_ir_doc)\n",
    "print(ir_ents)\n",
    "\n",
    "#print(type(non_ir_ents))\n",
    "\n",
    "##want to convert to pandas df after BUT CANT DO THIS DICT GRRRR"
   ]
  },
  {
   "cell_type": "code",
   "execution_count": null,
   "metadata": {},
   "outputs": [],
   "source": [
    "#Check this out below! i've hashtagged it as its long but if you download the file and unhashtag it, it automatically does the NER for you and visualises it sick!"
   ]
  },
  {
   "cell_type": "code",
   "execution_count": null,
   "metadata": {},
   "outputs": [],
   "source": [
    "ir_ent_visual = spacy.displacy.render(ir_doc, style=\"ent\", jupyter=True)"
   ]
  },
  {
   "cell_type": "code",
   "execution_count": null,
   "metadata": {},
   "outputs": [],
   "source": [
    "non_ir_ent_visual = spacy.displacy.render(non_ir_doc, style=\"ent\", jupyter=True)"
   ]
  },
  {
   "cell_type": "code",
   "execution_count": null,
   "metadata": {},
   "outputs": [],
   "source": [
    "#get PERSON names\n",
    "\n",
    "def get_PERSON_names(doc):\n",
    "    PERSON_names = set()\n",
    "    for token in doc:\n",
    "        if token.ent_type_ == \"PERSON\":\n",
    "            PERSON_names.add(token)\n",
    "        else:\n",
    "            pass\n",
    "    return PERSON_names"
   ]
  },
  {
   "cell_type": "code",
   "execution_count": null,
   "metadata": {},
   "outputs": [],
   "source": [
    "ir_PERSON = get_PERSON_names(ir_doc)\n",
    "non_ir_PERSON = get_PERSON_names(non_ir_doc)\n",
    "\n",
    "print(non_ir_PERSON)"
   ]
  },
  {
   "cell_type": "code",
   "execution_count": null,
   "metadata": {},
   "outputs": [],
   "source": []
  }
 ],
 "metadata": {
  "kernelspec": {
   "display_name": "Python 3",
   "language": "python",
   "name": "python3"
  },
  "language_info": {
   "codemirror_mode": {
    "name": "ipython",
    "version": 3
   },
   "file_extension": ".py",
   "mimetype": "text/x-python",
   "name": "python",
   "nbconvert_exporter": "python",
   "pygments_lexer": "ipython3",
   "version": "3.6.5"
  }
 },
 "nbformat": 4,
 "nbformat_minor": 2
}
