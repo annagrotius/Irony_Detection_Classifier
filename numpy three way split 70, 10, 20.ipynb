{
 "cells": [
  {
   "cell_type": "code",
   "execution_count": 1,
   "metadata": {},
   "outputs": [],
   "source": [
    "import pandas as pd\n",
    "import numpy as np\n",
    "import seaborn as sns\n",
    "import matplotlib.pyplot as plt\n",
    "import base64\n",
    "import string\n",
    "import re\n",
    "from collections import Counter\n",
    "from nltk.corpus import stopwords\n",
    "stopwords = stopwords.words('english')"
   ]
  },
  {
   "cell_type": "code",
   "execution_count": 2,
   "metadata": {},
   "outputs": [
    {
     "data": {
      "text/html": [
       "<div>\n",
       "<style scoped>\n",
       "    .dataframe tbody tr th:only-of-type {\n",
       "        vertical-align: middle;\n",
       "    }\n",
       "\n",
       "    .dataframe tbody tr th {\n",
       "        vertical-align: top;\n",
       "    }\n",
       "\n",
       "    .dataframe thead th {\n",
       "        text-align: right;\n",
       "    }\n",
       "</style>\n",
       "<table border=\"1\" class=\"dataframe\">\n",
       "  <thead>\n",
       "    <tr style=\"text-align: right;\">\n",
       "      <th></th>\n",
       "      <th>comment_text</th>\n",
       "      <th>label</th>\n",
       "    </tr>\n",
       "  </thead>\n",
       "  <tbody>\n",
       "    <tr>\n",
       "      <th>0</th>\n",
       "      <td>I suspect atheists are projecting their desire...</td>\n",
       "      <td>-1</td>\n",
       "    </tr>\n",
       "    <tr>\n",
       "      <th>1</th>\n",
       "      <td>It's funny how the arguments the shills are ma...</td>\n",
       "      <td>-1</td>\n",
       "    </tr>\n",
       "    <tr>\n",
       "      <th>2</th>\n",
       "      <td>We are truly following the patterns of how the...</td>\n",
       "      <td>-1</td>\n",
       "    </tr>\n",
       "    <tr>\n",
       "      <th>3</th>\n",
       "      <td>air pressure dropping as altitude goes higher....</td>\n",
       "      <td>-1</td>\n",
       "    </tr>\n",
       "    <tr>\n",
       "      <th>4</th>\n",
       "      <td>Absolutely.  I think we'd be hard pressed to f...</td>\n",
       "      <td>-1</td>\n",
       "    </tr>\n",
       "  </tbody>\n",
       "</table>\n",
       "</div>"
      ],
      "text/plain": [
       "                                        comment_text  label\n",
       "0  I suspect atheists are projecting their desire...     -1\n",
       "1  It's funny how the arguments the shills are ma...     -1\n",
       "2  We are truly following the patterns of how the...     -1\n",
       "3  air pressure dropping as altitude goes higher....     -1\n",
       "4  Absolutely.  I think we'd be hard pressed to f...     -1"
      ]
     },
     "execution_count": 2,
     "metadata": {},
     "output_type": "execute_result"
    }
   ],
   "source": [
    "filename= \"/Users/laure/OneDrive/Dokumente/VU/Python for Text Analysis/Final Assignment/irony-labeled.csv\"\n",
    "\n",
    "df = pd.read_csv(filename)\n",
    "df.head()"
   ]
  },
  {
   "cell_type": "code",
   "execution_count": 3,
   "metadata": {},
   "outputs": [
    {
     "name": "stdout",
     "output_type": "stream",
     "text": [
      "comment_text\n",
      "False    1949\n",
      "Name: comment_text, dtype: int64\n",
      "\n",
      "label\n",
      "False    1949\n",
      "Name: label, dtype: int64\n",
      "\n"
     ]
    },
    {
     "data": {
      "text/plain": [
       "comment_text    0\n",
       "label           0\n",
       "dtype: int64"
      ]
     },
     "execution_count": 3,
     "metadata": {},
     "output_type": "execute_result"
    }
   ],
   "source": [
    "#checking for any missing values\n",
    "missing_data = df.isnull()\n",
    "\n",
    "for column in missing_data.columns.values.tolist():\n",
    "    print(column)\n",
    "    print (missing_data[column].value_counts())\n",
    "    print(\"\") \n",
    "\n",
    "    \n",
    "#ALTERNATIVELY    \n",
    "#add \".sum\" to get total number (if applic.)\n",
    "df.isnull().sum()\n"
   ]
  },
  {
   "cell_type": "code",
   "execution_count": 43,
   "metadata": {},
   "outputs": [
    {
     "name": "stdout",
     "output_type": "stream",
     "text": [
      "Validation Size 195\n",
      "Train Size 1364\n",
      "Test Size 390\n"
     ]
    }
   ],
   "source": [
    "#split between train and test data\n",
    "#with validation\n",
    "\n",
    "train, val, test = np.split(df.sample(frac=1), [int(.7*len(df)), int(.8*len(df))])\n",
    "print(f\"Validation Size {len(val)}\")\n",
    "print(f\"Train Size {len(train)}\")\n",
    "print(f\"Test Size {len(tes)}\")"
   ]
  },
  {
   "cell_type": "code",
   "execution_count": 44,
   "metadata": {},
   "outputs": [
    {
     "name": "stdout",
     "output_type": "stream",
     "text": [
      "Comment_label: 590     The problem is actually much worse.  Unemploym...\n",
      "1272    The problem lies in greed.  If there is money ...\n",
      "141     The music isn't bad.  I like the jazz-funk sty...\n",
      "548     &gt;But the EC - was not even close 332/206 - ...\n",
      "Name: comment_text, dtype: object\n",
      "Label: 590    -1\n",
      "1272   -1\n",
      "141    -1\n",
      "548    -1\n",
      "Name: label, dtype: int64\n",
      "Training Data Shape: (1364, 2)\n",
      "Testing Data Shape: (390, 2)\n"
     ]
    }
   ],
   "source": [
    "print(\"Comment_label:\", train[\"comment_text\"].iloc[:4])\n",
    "print(\"Label:\", train[\"label\"].iloc[:4])\n",
    "\n",
    "\n",
    "print('Training Data Shape:', train.shape)\n",
    "print('Testing Data Shape:', test.shape)"
   ]
  },
  {
   "cell_type": "code",
   "execution_count": 45,
   "metadata": {},
   "outputs": [
    {
     "data": {
      "image/png": "[encoded data removed]",
      "text/plain": [
       "<Figure size 576x288 with 1 Axes>"
      ]
     },
     "metadata": {},
     "output_type": "display_data"
    }
   ],
   "source": [
    "#summarises the distribution of comments by different labels \n",
    "fig = plt.figure(figsize=(8,4))\n",
    "sns.barplot(x = train[\"label\"].unique(), \n",
    "            y=train[\"label\"].value_counts())\n",
    "\n",
    "plt.title(\"Training Data: Ironic vs Non-ironic Reddit Comments\")\n",
    "plt.ylabel(\"Number of Reddit Comments\")\n",
    "plt.xlabel(\"Irony Labels (Ironic=1; Not Ironic=-1 )\")\n",
    "plt.show()"
   ]
  },
  {
   "cell_type": "code",
   "execution_count": 47,
   "metadata": {},
   "outputs": [
    {
     "data": {
      "image/png": "[encoded data removed]",
      "text/plain": [
       "<Figure size 576x288 with 1 Axes>"
      ]
     },
     "metadata": {},
     "output_type": "display_data"
    }
   ],
   "source": [
    "#VALIDATION\n",
    "fig = plt.figure(figsize=(8,4))\n",
    "sns.barplot(x = val[\"label\"].unique(), \n",
    "            y=val[\"label\"].value_counts())\n",
    "\n",
    "plt.title(\"Validation Data: Ironic vs Non-ironic Reddit Comments\")\n",
    "plt.ylabel(\"Number of Reddit Comments\")\n",
    "plt.xlabel(\"Irony Labels (Ironic=1; Not Ironic=-1 )\")\n",
    "plt.show()"
   ]
  },
  {
   "cell_type": "code",
   "execution_count": 48,
   "metadata": {},
   "outputs": [
    {
     "data": {
      "image/png": "[encoded data removed]",
      "text/plain": [
       "<Figure size 576x288 with 1 Axes>"
      ]
     },
     "metadata": {},
     "output_type": "display_data"
    }
   ],
   "source": [
    "#TESTING\n",
    "fig = plt.figure(figsize=(8,4))\n",
    "sns.barplot(x = test[\"label\"].unique(), \n",
    "            y=test[\"label\"].value_counts())\n",
    "\n",
    "plt.title(\"Testing Data: Ironic vs Non-ironic Reddit Comments\")\n",
    "plt.ylabel(\"Number of Reddit Comments\")\n",
    "plt.xlabel(\"Irony Labels (Ironic=1; Not Ironic=-1 )\")\n",
    "plt.show()"
   ]
  },
  {
   "cell_type": "code",
   "execution_count": 7,
   "metadata": {},
   "outputs": [
    {
     "name": "stdout",
     "output_type": "stream",
     "text": [
      "label\n"
     ]
    }
   ],
   "source": [
    "import spacy\n",
    "\n",
    "nlp = spacy.load(\"en_core_web_sm\")\n",
    "punct = string.punctuation\n",
    "\n",
    "for x in df:\n",
    "    doc = nlp(x)\n",
    "\n"
   ]
  },
  {
   "cell_type": "code",
   "execution_count": null,
   "metadata": {},
   "outputs": [],
   "source": []
  }
 ],
 "metadata": {
  "kernelspec": {
   "display_name": "Python 3",
   "language": "python",
   "name": "python3"
  },
  "language_info": {
   "codemirror_mode": {
    "name": "ipython",
    "version": 3
   },
   "file_extension": ".py",
   "mimetype": "text/x-python",
   "name": "python",
   "nbconvert_exporter": "python",
   "pygments_lexer": "ipython3",
   "version": "3.6.5"
  }
 },
 "nbformat": 4,
 "nbformat_minor": 2
}
